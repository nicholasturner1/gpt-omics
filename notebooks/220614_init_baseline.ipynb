{
 "cells": [
  {
   "cell_type": "markdown",
   "id": "ca70b3f1-b871-4565-a6c4-aa8038b6fff3",
   "metadata": {},
   "source": [
    "# Studying baselines based on random initialization"
   ]
  },
  {
   "cell_type": "code",
   "execution_count": 1,
   "id": "af09a327-7fda-46cc-b5db-d598ac1ac5c2",
   "metadata": {},
   "outputs": [],
   "source": [
    "from importlib import reload\n",
    "\n",
    "import numpy as np\n",
    "import pandas as pd\n",
    "import matplotlib.pyplot as plt\n",
    "import torch\n",
    "\n",
    "from gptomics import model, composition as comp, svd"
   ]
  },
  {
   "cell_type": "code",
   "execution_count": 2,
   "id": "92a5c6cc-9c22-4f5b-9a92-f5b7ff52bdda",
   "metadata": {},
   "outputs": [],
   "source": [
    "gpt125m = model.model_by_name(\"EleutherAI/gpt-neo-125M\")"
   ]
  },
  {
   "cell_type": "code",
   "execution_count": 3,
   "id": "eadc4cf5-b888-4d0d-8b76-c45236992275",
   "metadata": {},
   "outputs": [],
   "source": [
    "qk0_0 = gpt125m.QK(0, 0)"
   ]
  },
  {
   "cell_type": "markdown",
   "id": "1aec995e-37e7-4fda-8899-b12f03b0f11a",
   "metadata": {},
   "source": [
    "Initial tests"
   ]
  },
  {
   "cell_type": "code",
   "execution_count": 4,
   "id": "a783879e-6690-404a-839e-4f12f89e9b45",
   "metadata": {},
   "outputs": [
    {
     "name": "stderr",
     "output_type": "stream",
     "text": [
      "100%|███████████████████████████████████████████████████████████████| 1000/1000 [00:06<00:00, 148.39it/s]\n"
     ]
    }
   ],
   "source": [
    "orig_baseline = comp.init_baseline_dist(qk0_0, qk0_0.shape, num_samples=1000, wikidenom=False)"
   ]
  },
  {
   "cell_type": "code",
   "execution_count": 5,
   "id": "efdc2940-872b-4cbf-aee5-33531e406bba",
   "metadata": {},
   "outputs": [
    {
     "name": "stderr",
     "output_type": "stream",
     "text": [
      "100%|███████████████████████████████████████████████████████████████| 1000/1000 [00:06<00:00, 148.26it/s]\n"
     ]
    }
   ],
   "source": [
    "init_weight_baseline = comp.init_baseline_dist(qk0_0, qk0_0.shape, num_samples=1000, wikidenom=False, init_weight=True)"
   ]
  },
  {
   "cell_type": "code",
   "execution_count": 6,
   "id": "0b5f291e-9b71-49d3-81c5-75ecd0fddb04",
   "metadata": {},
   "outputs": [],
   "source": [
    "def plot_arrays(*arrays, labels, numbins=50, **kwargs):\n",
    "    _, bins = np.histogram(np.concatenate(arrays), numbins)\n",
    "    \n",
    "    for array, label in zip(arrays, labels):\n",
    "        plt.hist(array, bins=bins, alpha=0.5, label=label, **kwargs)\n",
    "    plt.legend()"
   ]
  },
  {
   "cell_type": "code",
   "execution_count": 7,
   "id": "3384a6b6-645e-4d47-ba09-733d69e5fb21",
   "metadata": {},
   "outputs": [
    {
     "data": {
      "image/png": "[encoded data removed]",
      "text/plain": [
       "<Figure size 432x288 with 1 Axes>"
      ]
     },
     "metadata": {
      "needs_background": "light"
     },
     "output_type": "display_data"
    }
   ],
   "source": [
    "plot_arrays(orig_baseline, init_weight_baseline, labels=[\"orig\", \"init\"])"
   ]
  },
  {
   "cell_type": "markdown",
   "id": "0aac2c77-9cfe-41da-a648-654419529ff1",
   "metadata": {},
   "source": [
    "Using a rank consistent with the attention head products"
   ]
  },
  {
   "cell_type": "code",
   "execution_count": 8,
   "id": "bca03d2a-cbc9-4878-9337-8d2928eaed21",
   "metadata": {},
   "outputs": [
    {
     "name": "stderr",
     "output_type": "stream",
     "text": [
      "100%|███████████████████████████████████████████████████████████████| 1000/1000 [00:05<00:00, 196.29it/s]\n"
     ]
    }
   ],
   "source": [
    "same_rank_baseline = comp.init_baseline_dist(\n",
    "    qk0_0, qk0_0.shape, num_samples=1000,\n",
    "    wikidenom=False, sample_rank=64,\n",
    ")"
   ]
  },
  {
   "cell_type": "markdown",
   "id": "336d13c3-d168-48b6-8840-f1a5f79e32b0",
   "metadata": {},
   "source": [
    "xavier uniform distribution"
   ]
  },
  {
   "cell_type": "code",
   "execution_count": 10,
   "id": "0a58b640-1736-4763-9435-affec26686a0",
   "metadata": {},
   "outputs": [
    {
     "data": {
      "text/plain": [
       "<module 'gptomics.composition' from '/home/nt/Work/research/gpt-omics/gptomics/composition.py'>"
      ]
     },
     "execution_count": 10,
     "metadata": {},
     "output_type": "execute_result"
    }
   ],
   "source": [
    "reload(comp)"
   ]
  },
  {
   "cell_type": "code",
   "execution_count": 11,
   "id": "21d1576d-651c-43ac-8108-1e552f802820",
   "metadata": {},
   "outputs": [
    {
     "name": "stderr",
     "output_type": "stream",
     "text": [
      "100%|███████████████████████████████████████████████████████████████| 1000/1000 [00:05<00:00, 171.10it/s]\n"
     ]
    }
   ],
   "source": [
    "init_same_rank_baseline = comp.init_baseline_dist(\n",
    "    qk0_0, qk0_0.shape, num_samples=1000,\n",
    "    wikidenom=False, init_weight=True, sample_rank=64,\n",
    ")"
   ]
  },
  {
   "cell_type": "code",
   "execution_count": 12,
   "id": "be8f562a-0900-4678-a802-490ca1bb376a",
   "metadata": {},
   "outputs": [
    {
     "data": {
      "image/png": "[encoded data removed]",
      "text/plain": [
       "<Figure size 504x432 with 1 Axes>"
      ]
     },
     "metadata": {
      "needs_background": "light"
     },
     "output_type": "display_data"
    }
   ],
   "source": [
    "plt.figure(figsize=(7, 6))\n",
    "\n",
    "plot_arrays(\n",
    "    orig_baseline, init_weight_baseline,\n",
    "    same_rank_baseline, init_same_rank_baseline,\n",
    "    labels=[\"orig\", \"init\", \"same rank\", \"init same rank\"])\n",
    "\n",
    "plt.xlabel(\"Composition value\", fontsize=20)\n",
    "plt.ylabel(\"Count\", fontsize=20)\n",
    "plt.title(\"Old denominator\", fontsize=20)\n",
    "\n",
    "plt.show()"
   ]
  },
  {
   "cell_type": "markdown",
   "id": "21df5ee8-3d67-401a-b63d-d3792154a766",
   "metadata": {},
   "source": [
    "Looks like the fixed matrix version does a good job of simulating the low-rank version (with full-rank init)"
   ]
  },
  {
   "cell_type": "code",
   "execution_count": 13,
   "id": "13fa4172-2315-4353-8726-4b4fa04bad90",
   "metadata": {},
   "outputs": [],
   "source": [
    "qksvd = gpt125m.QK(0, 0, factored=True)"
   ]
  },
  {
   "cell_type": "code",
   "execution_count": 14,
   "id": "8c556c57-4241-41ea-82c2-233c576b33df",
   "metadata": {},
   "outputs": [
    {
     "name": "stderr",
     "output_type": "stream",
     "text": [
      "100%|██████████████████████████████████████████████████████████████████| 100/100 [00:26<00:00,  3.80it/s]\n"
     ]
    }
   ],
   "source": [
    "orig_baseline_wd = comp.init_baseline_dist(qksvd, qksvd.shape, num_samples=100, wikidenom=True)"
   ]
  },
  {
   "cell_type": "code",
   "execution_count": 15,
   "id": "c07660a6-b412-4c5d-ab59-ce6a8f6c5d69",
   "metadata": {},
   "outputs": [
    {
     "data": {
      "image/png": "[encoded data removed]",
      "text/plain": [
       "<Figure size 432x288 with 1 Axes>"
      ]
     },
     "metadata": {
      "needs_background": "light"
     },
     "output_type": "display_data"
    }
   ],
   "source": [
    "plot_arrays(\n",
    "    orig_baseline, orig_baseline_wd,\n",
    "    labels=[\"orig\", \"orig_wd\"])"
   ]
  },
  {
   "cell_type": "code",
   "execution_count": 16,
   "id": "27ae1ec3-a107-4f7b-87ec-bb4e0e07093d",
   "metadata": {},
   "outputs": [
    {
     "name": "stderr",
     "output_type": "stream",
     "text": [
      "100%|██████████████████████████████████████████████████████████████████| 100/100 [00:26<00:00,  3.75it/s]\n"
     ]
    }
   ],
   "source": [
    "init_baseline_wd = comp.init_baseline_dist(qksvd, qksvd.shape, num_samples=100, wikidenom=True, init_weight=True)"
   ]
  },
  {
   "cell_type": "code",
   "execution_count": 17,
   "id": "50968539-98b4-43a3-8f7e-03c0ccbabe27",
   "metadata": {},
   "outputs": [
    {
     "name": "stderr",
     "output_type": "stream",
     "text": [
      "100%|██████████████████████████████████████████████████████████████████| 100/100 [00:25<00:00,  3.86it/s]\n"
     ]
    }
   ],
   "source": [
    "init_baseline_wd2 = comp.init_baseline_dist(qksvd, qksvd.shape, num_samples=100, wikidenom=True, init_weight=True)"
   ]
  },
  {
   "cell_type": "code",
   "execution_count": 18,
   "id": "2b2451fd-a1f7-41b5-b903-f3990ae5dbc8",
   "metadata": {},
   "outputs": [
    {
     "name": "stderr",
     "output_type": "stream",
     "text": [
      "100%|██████████████████████████████████████████████████████████████████| 100/100 [00:25<00:00,  3.94it/s]\n"
     ]
    }
   ],
   "source": [
    "same_rank_baseline_wd = comp.init_baseline_dist(qksvd, qksvd.shape, num_samples=100, wikidenom=True, sample_rank=64)"
   ]
  },
  {
   "cell_type": "code",
   "execution_count": 19,
   "id": "5b5e695c-59d2-4243-8808-6460bbe00dfe",
   "metadata": {},
   "outputs": [
    {
     "name": "stderr",
     "output_type": "stream",
     "text": [
      "100%|██████████████████████████████████████████████████████████████████| 100/100 [00:24<00:00,  4.15it/s]\n"
     ]
    }
   ],
   "source": [
    "init_same_rank_baseline_wd = comp.init_baseline_dist(qksvd, qksvd.shape, num_samples=100, wikidenom=True, init_weight=True, sample_rank=64)"
   ]
  },
  {
   "cell_type": "code",
   "execution_count": 27,
   "id": "2a0325ed-2991-476d-b088-9d76680ea2d0",
   "metadata": {},
   "outputs": [
    {
     "name": "stderr",
     "output_type": "stream",
     "text": [
      "100%|██████████████████████████████████████████████████████████████████| 100/100 [00:24<00:00,  4.06it/s]\n"
     ]
    }
   ],
   "source": [
    "init_same_rank_baseline_wd2 = comp.init_baseline_dist(qksvd, qksvd.shape, num_samples=100, wikidenom=True, init_weight=True, sample_rank=64)"
   ]
  },
  {
   "cell_type": "code",
   "execution_count": 20,
   "id": "9d483990-c9d8-4634-a704-764ec7390431",
   "metadata": {},
   "outputs": [
    {
     "data": {
      "text/plain": [
       "64"
      ]
     },
     "execution_count": 20,
     "metadata": {},
     "output_type": "execute_result"
    }
   ],
   "source": [
    "np.linalg.matrix_rank(qk0_0)"
   ]
  },
  {
   "cell_type": "code",
   "execution_count": 26,
   "id": "223f8e2d-5d6c-48e6-9f95-0a9d48c8f493",
   "metadata": {},
   "outputs": [
    {
     "data": {
      "image/png": "[encoded data removed]",
      "text/plain": [
       "<Figure size 1008x432 with 2 Axes>"
      ]
     },
     "metadata": {
      "needs_background": "light"
     },
     "output_type": "display_data"
    }
   ],
   "source": [
    "plt.figure(figsize=(14, 6))\n",
    "\n",
    "plt.subplot(1, 2, 1)\n",
    "plot_arrays(\n",
    "    orig_baseline, init_weight_baseline,\n",
    "    same_rank_baseline, init_same_rank_baseline,\n",
    "    labels=[\"orig\", \"init\", \"same rank\", \"same rank init\"])\n",
    "\n",
    "plt.xlabel(\"Composition value\", fontsize=20)\n",
    "plt.ylabel(\"Count\", fontsize=20)\n",
    "plt.title(\"Old denominator\", fontsize=20)\n",
    "\n",
    "plt.subplot(1, 2, 2)\n",
    "plot_arrays(\n",
    "    orig_baseline_wd, init_baseline_wd,\n",
    "    same_rank_baseline_wd, init_same_rank_baseline_wd,\n",
    "    labels=[\"orig (wd)\", \"init (wd)\", \"same rank (wd)\", \"same rank init (wd)\"])\n",
    "\n",
    "plt.xlabel(\"Composition value\", fontsize=20)\n",
    "plt.ylabel(\"Count\", fontsize=20)\n",
    "plt.title(\"New denominator\", fontsize=20)\n",
    "\n",
    "plt.show()"
   ]
  },
  {
   "cell_type": "code",
   "execution_count": 28,
   "id": "767ed543-2cd3-4007-8597-66732b54262c",
   "metadata": {},
   "outputs": [
    {
     "data": {
      "image/png": "[encoded data removed]",
      "text/plain": [
       "<Figure size 1008x432 with 2 Axes>"
      ]
     },
     "metadata": {
      "needs_background": "light"
     },
     "output_type": "display_data"
    }
   ],
   "source": [
    "plt.figure(figsize=(14, 6))\n",
    "\n",
    "plt.subplot(1, 2, 1)\n",
    "plot_arrays(\n",
    "    orig_baseline, init_weight_baseline,\n",
    "    same_rank_baseline, init_same_rank_baseline,\n",
    "    labels=[\"orig\", \"init\", \"same rank\", \"same rank init\"])\n",
    "\n",
    "plt.xlabel(\"Composition value\", fontsize=20)\n",
    "plt.ylabel(\"Count\", fontsize=20)\n",
    "plt.title(\"Old denominator\", fontsize=20)\n",
    "\n",
    "plt.subplot(1, 2, 2)\n",
    "plot_arrays(\n",
    "    orig_baseline_wd, init_baseline_wd2,\n",
    "    same_rank_baseline_wd, init_same_rank_baseline_wd2,\n",
    "    labels=[\"orig (wd)\", \"init (wd)\", \"same rank (wd)\", \"same rank init (wd)\"])\n",
    "\n",
    "plt.xlabel(\"Composition value\", fontsize=20)\n",
    "plt.ylabel(\"Count\", fontsize=20)\n",
    "plt.title(\"New denominator\", fontsize=20)\n",
    "\n",
    "plt.show()"
   ]
  }
 ],
 "metadata": {
  "kernelspec": {
   "display_name": "Python (gpt-neo)",
   "language": "python",
   "name": "gpt-neo"
  },
  "language_info": {
   "codemirror_mode": {
    "name": "ipython",
    "version": 3
   },
   "file_extension": ".py",
   "mimetype": "text/x-python",
   "name": "python",
   "nbconvert_exporter": "python",
   "pygments_lexer": "ipython3",
   "version": "3.9.7"
  }
 },
 "nbformat": 4,
 "nbformat_minor": 5
}
