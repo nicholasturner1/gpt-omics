{
 "cells": [
  {
   "cell_type": "markdown",
   "id": "5783e1d7-92fe-4327-9ae0-a68883a39deb",
   "metadata": {},
   "source": [
    "# Some basic plots of attention patterns\n",
    "The first results working with attention patterns over prompts."
   ]
  },
  {
   "cell_type": "code",
   "execution_count": 1,
   "id": "a763df33-ed56-4a17-bb8c-631f08b0a794",
   "metadata": {},
   "outputs": [],
   "source": [
    "from transformers import AutoTokenizer\n",
    "\n",
    "from gptomics import functional as func\n",
    "from gptomics import transformersio"
   ]
  },
  {
   "cell_type": "code",
   "execution_count": 2,
   "id": "fd2e9956-d0fb-4f3e-8c38-3313fb4cc194",
   "metadata": {},
   "outputs": [],
   "source": [
    "modelname = \"EleutherAI/gpt-neo-125M\""
   ]
  },
  {
   "cell_type": "markdown",
   "id": "00a62e51-2ebf-4915-8b4e-e80b48f0246a",
   "metadata": {},
   "source": [
    "Running the function over a small prompt. We'll compare the token-by-token final output to the full context output to make sure I'm passing the `past_key_values` variable correctly."
   ]
  },
  {
   "cell_type": "code",
   "execution_count": 3,
   "id": "e009dcc7-f01f-4f5e-bd24-f57bfcf22804",
   "metadata": {},
   "outputs": [],
   "source": [
    "small_prompt = \"The quick brown fox jumped over the lazy\""
   ]
  },
  {
   "cell_type": "code",
   "execution_count": 45,
   "id": "a90d2a75-3c60-4c71-b461-670b87f70bd8",
   "metadata": {},
   "outputs": [],
   "source": [
    "att, fnout = func.attention_pattern(modelname, small_prompt)"
   ]
  },
  {
   "cell_type": "code",
   "execution_count": 46,
   "id": "2d02f3e7-97ac-41b3-b363-ba8e43bb170f",
   "metadata": {},
   "outputs": [],
   "source": [
    "import matplotlib.pyplot as plt"
   ]
  },
  {
   "cell_type": "code",
   "execution_count": 47,
   "id": "9bb14267-d9d3-4425-b2c0-4e19bca325ac",
   "metadata": {},
   "outputs": [
    {
     "data": {
      "text/plain": [
       "<matplotlib.image.AxesImage at 0x7f0df6cba370>"
      ]
     },
     "execution_count": 47,
     "metadata": {},
     "output_type": "execute_result"
    },
    {
     "data": {
      "image/png": "[encoded data removed]",
      "text/plain": [
       "<Figure size 504x432 with 1 Axes>"
      ]
     },
     "metadata": {
      "needs_background": "light"
     },
     "output_type": "display_data"
    }
   ],
   "source": [
    "plt.figure(figsize=(7, 6))\n",
    "plt.imshow(att[6][0, 4, :, :].data.cpu().numpy(), cmap=\"jet\")"
   ]
  },
  {
   "cell_type": "code",
   "execution_count": 48,
   "id": "629ff45d-6b68-46a7-8cf3-27ee41fca6c7",
   "metadata": {},
   "outputs": [],
   "source": [
    "medium_prompt = (\n",
    "    \"We hold these truths to be self-evident, that all men are created equal,\"\n",
    "    \" that they are endowed by their Creator with certain unalienable Rights,\"\n",
    "    \" that among these are Life, Liberty and the pursuit of Happiness.\"\n",
    ")"
   ]
  },
  {
   "cell_type": "code",
   "execution_count": 58,
   "id": "0a57f656-5234-4b12-9a61-a48e1d8e1382",
   "metadata": {},
   "outputs": [],
   "source": [
    "att, tokens = func.attention_pattern(modelname, medium_prompt)"
   ]
  },
  {
   "cell_type": "code",
   "execution_count": 62,
   "id": "f8ee4ff3-096e-4c6a-b04c-2c370afee066",
   "metadata": {},
   "outputs": [
    {
     "data": {
      "text/plain": [
       "<matplotlib.image.AxesImage at 0x7f0df40a9e80>"
      ]
     },
     "execution_count": 62,
     "metadata": {},
     "output_type": "execute_result"
    },
    {
     "data": {
      "image/png": "[encoded data removed]",
      "text/plain": [
       "<Figure size 432x288 with 1 Axes>"
      ]
     },
     "metadata": {
      "needs_background": "light"
     },
     "output_type": "display_data"
    }
   ],
   "source": [
    "plt.imshow(att[6][0, 4, :, :].data.cpu().numpy(), cmap=\"jet\")"
   ]
  },
  {
   "cell_type": "code",
   "execution_count": 59,
   "id": "0be18c3d-17cd-4d8b-9dae-c7c64b072582",
   "metadata": {},
   "outputs": [
    {
     "data": {
      "text/plain": [
       "<matplotlib.image.AxesImage at 0x7f0df6e96760>"
      ]
     },
     "execution_count": 59,
     "metadata": {},
     "output_type": "execute_result"
    },
    {
     "data": {
      "image/png": "[encoded data removed]",
      "text/plain": [
       "<Figure size 432x288 with 1 Axes>"
      ]
     },
     "metadata": {
      "needs_background": "light"
     },
     "output_type": "display_data"
    }
   ],
   "source": [
    "plt.imshow(att[6][0, 4, :19, :19].data.cpu().numpy(), cmap=\"jet\")"
   ]
  },
  {
   "cell_type": "code",
   "execution_count": 51,
   "id": "61ae96f6-731d-4922-8358-c5d101556f48",
   "metadata": {},
   "outputs": [
    {
     "data": {
      "text/plain": [
       "('Ġthat', 'Ġthat')"
      ]
     },
     "execution_count": 51,
     "metadata": {},
     "output_type": "execute_result"
    }
   ],
   "source": [
    "tokens[18], tokens[11]"
   ]
  },
  {
   "cell_type": "code",
   "execution_count": 60,
   "id": "37a841b4-77d6-4f4f-a1b0-e30993605506",
   "metadata": {},
   "outputs": [
    {
     "data": {
      "text/plain": [
       "<matplotlib.image.AxesImage at 0x7f0df70f3100>"
      ]
     },
     "execution_count": 60,
     "metadata": {},
     "output_type": "execute_result"
    },
    {
     "data": {
      "image/png": "[encoded data removed]",
      "text/plain": [
       "<Figure size 432x288 with 1 Axes>"
      ]
     },
     "metadata": {
      "needs_background": "light"
     },
     "output_type": "display_data"
    }
   ],
   "source": [
    "plt.imshow(att[6][0, 4, :33, :33].data.cpu().numpy(), cmap=\"jet\")"
   ]
  },
  {
   "cell_type": "code",
   "execution_count": 53,
   "id": "a58bc0a0-7869-4a0a-968a-f6b123ce1fd8",
   "metadata": {},
   "outputs": [
    {
     "data": {
      "text/plain": [
       "'Ġthat'"
      ]
     },
     "execution_count": 53,
     "metadata": {},
     "output_type": "execute_result"
    }
   ],
   "source": [
    "tokens[32]"
   ]
  },
  {
   "cell_type": "code",
   "execution_count": 54,
   "id": "fc9972fa-d130-4372-afbd-8e02bab922c5",
   "metadata": {},
   "outputs": [
    {
     "data": {
      "text/plain": [
       "'Ġthat'"
      ]
     },
     "execution_count": 54,
     "metadata": {},
     "output_type": "execute_result"
    }
   ],
   "source": [
    "tokens[18]"
   ]
  },
  {
   "cell_type": "code",
   "execution_count": 64,
   "id": "108ded89-3736-4f6e-9886-20763c5008d0",
   "metadata": {},
   "outputs": [
    {
     "data": {
      "text/plain": [
       "<matplotlib.image.AxesImage at 0x7f0df7123fd0>"
      ]
     },
     "execution_count": 64,
     "metadata": {},
     "output_type": "execute_result"
    },
    {
     "data": {
      "image/png": "[encoded data removed]",
      "text/plain": [
       "<Figure size 432x288 with 1 Axes>"
      ]
     },
     "metadata": {
      "needs_background": "light"
     },
     "output_type": "display_data"
    }
   ],
   "source": [
    "plt.imshow(att[6][0, 4, :40, :40].data.cpu().numpy(), cmap=\"jet\")"
   ]
  },
  {
   "cell_type": "code",
   "execution_count": 66,
   "id": "65491460-0b47-40a7-b790-2278b8fc4e7c",
   "metadata": {},
   "outputs": [
    {
     "data": {
      "text/plain": [
       "('ĠLiberty', 'Ġand')"
      ]
     },
     "execution_count": 66,
     "metadata": {},
     "output_type": "execute_result"
    }
   ],
   "source": [
    "tokens[38], tokens[39]"
   ]
  },
  {
   "cell_type": "code",
   "execution_count": 67,
   "id": "c50e1126-f583-41df-99e6-4fe51062c852",
   "metadata": {},
   "outputs": [],
   "source": [
    "with open(\"../texts/potter\") as f:\n",
    "    long_prompt = f.read()[:-1]"
   ]
  },
  {
   "cell_type": "code",
   "execution_count": 68,
   "id": "387d181b-107f-402f-961c-93c0d017d5f4",
   "metadata": {},
   "outputs": [],
   "source": [
    "att, tokens = func.attention_pattern(modelname, long_prompt)"
   ]
  },
  {
   "cell_type": "code",
   "execution_count": 69,
   "id": "895046fc-eb2c-4e0a-bbb4-a4356d9fe8a5",
   "metadata": {},
   "outputs": [
    {
     "data": {
      "text/plain": [
       "<matplotlib.image.AxesImage at 0x7f0df6e4f790>"
      ]
     },
     "execution_count": 69,
     "metadata": {},
     "output_type": "execute_result"
    },
    {
     "data": {
      "image/png": "[encoded data removed]",
      "text/plain": [
       "<Figure size 432x288 with 1 Axes>"
      ]
     },
     "metadata": {
      "needs_background": "light"
     },
     "output_type": "display_data"
    }
   ],
   "source": [
    "plt.imshow(att[6][0, 4, :, :].data.cpu().numpy(), cmap=\"jet\")"
   ]
  },
  {
   "cell_type": "code",
   "execution_count": 77,
   "id": "74fa5193-b13d-44ea-8b67-50dce949559c",
   "metadata": {},
   "outputs": [
    {
     "data": {
      "text/plain": [
       "(166, 145)"
      ]
     },
     "execution_count": 77,
     "metadata": {},
     "output_type": "execute_result"
    }
   ],
   "source": [
    "att_ = att[6][0, 4, :, :].data.cpu().numpy().copy()\n",
    "for i in range(att_.shape[0]):\n",
    "    att_[i, i] = 0\n",
    "np.unravel_index(np.argmax(att_), att_.shape)"
   ]
  },
  {
   "cell_type": "code",
   "execution_count": 84,
   "id": "5116264a-c199-49c5-a499-0bb72955991f",
   "metadata": {},
   "outputs": [
    {
     "data": {
      "text/plain": [
       "<matplotlib.image.AxesImage at 0x7f0df6c66b80>"
      ]
     },
     "execution_count": 84,
     "metadata": {},
     "output_type": "execute_result"
    },
    {
     "data": {
      "image/png": "[encoded data removed]",
      "text/plain": [
       "<Figure size 432x288 with 1 Axes>"
      ]
     },
     "metadata": {
      "needs_background": "light"
     },
     "output_type": "display_data"
    }
   ],
   "source": [
    "plt.imshow(att[6][0, 4, 145:167, 140:167].data.cpu().numpy(), cmap=\"jet\")"
   ]
  },
  {
   "cell_type": "code",
   "execution_count": 89,
   "id": "bf9933da-2fd7-4e22-91fd-f3de0b42eed1",
   "metadata": {},
   "outputs": [
    {
     "data": {
      "text/plain": [
       "(['ĠThe', 'ĠD', 'urs', 'leys'], ['ĠThe', 'ĠD', 'urs', 'leys'])"
      ]
     },
     "execution_count": 89,
     "metadata": {},
     "output_type": "execute_result"
    }
   ],
   "source": [
    "tokens[142:146], tokens[163:167]"
   ]
  }
 ],
 "metadata": {
  "kernelspec": {
   "display_name": "Python (gpt-neo)",
   "language": "python",
   "name": "gpt-neo"
  },
  "language_info": {
   "codemirror_mode": {
    "name": "ipython",
    "version": 3
   },
   "file_extension": ".py",
   "mimetype": "text/x-python",
   "name": "python",
   "nbconvert_exporter": "python",
   "pygments_lexer": "ipython3",
   "version": "3.9.7"
  }
 },
 "nbformat": 4,
 "nbformat_minor": 5
}
