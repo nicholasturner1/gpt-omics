{
 "cells": [
  {
   "cell_type": "code",
   "execution_count": 1,
   "id": "75da1bed-0dbe-43b8-a1e5-502fcea84f98",
   "metadata": {},
   "outputs": [
    {
     "name": "stderr",
     "output_type": "stream",
     "text": [
      "/home/nt/miniconda3/envs/gpt-neo/lib/python3.9/site-packages/tqdm/auto.py:22: TqdmWarning: IProgress not found. Please update jupyter and ipywidgets. See https://ipywidgets.readthedocs.io/en/stable/user_install.html\n",
      "  from .autonotebook import tqdm as notebook_tqdm\n"
     ]
    }
   ],
   "source": [
    "import numpy as np\n",
    "import torch\n",
    "from transformers import AutoModelForCausalLM\n",
    "\n",
    "from gptomics import gptneo\n",
    "\n",
    "# Automatically rounding outputs to 4 digits\n",
    "np.set_printoptions(precision=4)"
   ]
  },
  {
   "cell_type": "code",
   "execution_count": 2,
   "id": "04e35aaf-781e-4857-94ee-c66c7a847295",
   "metadata": {},
   "outputs": [],
   "source": [
    "model = AutoModelForCausalLM.from_pretrained(\n",
    "    \"EleutherAI/gpt-neo-125M\"\n",
    ")"
   ]
  },
  {
   "cell_type": "code",
   "execution_count": 4,
   "id": "4377d864-7da9-41f7-8c31-b7af9bcb7d73",
   "metadata": {},
   "outputs": [],
   "source": [
    "a = np.tril(np.ones((3, 3)))\n",
    "b = np.array((1, 2, 3))"
   ]
  },
  {
   "cell_type": "code",
   "execution_count": 5,
   "id": "f38b44de-4bf9-4210-ad2b-36d22f53eb0b",
   "metadata": {},
   "outputs": [
    {
     "data": {
      "text/plain": [
       "array([1., 3., 6.])"
      ]
     },
     "execution_count": 5,
     "metadata": {},
     "output_type": "execute_result"
    }
   ],
   "source": [
    "a @ b"
   ]
  },
  {
   "cell_type": "code",
   "execution_count": 6,
   "id": "610c9e5c-23c9-4836-9de8-ac24b8555015",
   "metadata": {},
   "outputs": [
    {
     "data": {
      "text/plain": [
       "array([[1., 0., 0.],\n",
       "       [1., 1., 0.],\n",
       "       [1., 1., 1.]])"
      ]
     },
     "execution_count": 6,
     "metadata": {},
     "output_type": "execute_result"
    }
   ],
   "source": [
    "a"
   ]
  },
  {
   "cell_type": "code",
   "execution_count": 9,
   "id": "3b193ee6-8da8-48f3-8f63-228fc14285fd",
   "metadata": {},
   "outputs": [],
   "source": [
    "att0 = model.transformer.h[0].attn.attention"
   ]
  },
  {
   "cell_type": "code",
   "execution_count": 22,
   "id": "47c89ed3-dfd4-4942-8739-dcfaf7588c32",
   "metadata": {},
   "outputs": [],
   "source": [
    "dv = torch.ones((1, 1, 768))"
   ]
  },
  {
   "cell_type": "code",
   "execution_count": 23,
   "id": "e02363fa-5366-4ba8-b156-502d7758c7fb",
   "metadata": {},
   "outputs": [
    {
     "data": {
      "text/plain": [
       "tensor([[[-0.1969,  0.8568,  2.1782,  6.3826,  6.7941]]],\n",
       "       grad_fn=<SliceBackward0>)"
      ]
     },
     "execution_count": 23,
     "metadata": {},
     "output_type": "execute_result"
    }
   ],
   "source": [
    "att0.q_proj(dv)[..., :5]"
   ]
  },
  {
   "cell_type": "code",
   "execution_count": 19,
   "id": "a6d86d03-37b7-4737-9228-24ef66f2610d",
   "metadata": {},
   "outputs": [],
   "source": [
    "Q = att0.q_proj.weight.data.numpy()"
   ]
  },
  {
   "cell_type": "code",
   "execution_count": 33,
   "id": "7609320c-f4bb-4d8d-941c-8adec4a24db5",
   "metadata": {},
   "outputs": [
    {
     "data": {
      "text/plain": [
       "array([[-0.3672, -0.165 , -0.168 , ...,  0.1807, -0.1206,  0.3535],\n",
       "       [-0.1338, -0.1035, -0.0302, ..., -0.3633,  0.1514,  0.0171],\n",
       "       [-0.0918,  0.0586,  0.3477, ...,  0.0938,  0.1226, -0.0103],\n",
       "       ...,\n",
       "       [ 0.6289, -0.0247, -0.209 , ..., -0.3496, -0.0153, -0.0674],\n",
       "       [ 0.0542,  0.416 ,  0.2002, ...,  0.3223,  0.104 , -0.2852],\n",
       "       [-0.3848, -0.0825, -0.3398, ...,  0.0432, -0.1436, -0.1582]],\n",
       "      dtype=float32)"
      ]
     },
     "execution_count": 33,
     "metadata": {},
     "output_type": "execute_result"
    }
   ],
   "source": [
    "Q"
   ]
  },
  {
   "cell_type": "code",
   "execution_count": 7,
   "id": "ada2d358-be35-47ef-942b-a7b02c192edd",
   "metadata": {},
   "outputs": [],
   "source": [
    "def Qcomp(QK, OV):\n",
    "    return frobnorm(QK.T @ OV) / (frobnorm(QK) * frobnorm(OV))\n",
    "\n",
    "def Kcomp(QK, OV):\n",
    "    return frobnorm(QK @ OV) / (frobnorm(QK) * frobnorm(OV))\n",
    "\n",
    "def Vcomp(OVin, OVout):\n",
    "    return frobnorm(OVout @ OVin) / (frobnorm(OVout) * frobnorm(OVin))"
   ]
  },
  {
   "cell_type": "markdown",
   "id": "f3e61648-c047-4f74-920b-5698970c6afc",
   "metadata": {},
   "source": [
    "### Q-composition"
   ]
  },
  {
   "cell_type": "markdown",
   "id": "4d220d0f-7da0-4240-a381-042c511b7baf",
   "metadata": {},
   "source": [
    "$(Q^TK)^T(OV)$"
   ]
  },
  {
   "cell_type": "markdown",
   "id": "d99bfe18-4db8-41b1-af92-02c7ea1d3131",
   "metadata": {},
   "source": [
    "$K^TQOV$"
   ]
  },
  {
   "cell_type": "markdown",
   "id": "327bacd6-8c1c-4385-ba1f-3b0cc0bdbb98",
   "metadata": {},
   "source": [
    "$K^T(QO)V$"
   ]
  },
  {
   "cell_type": "markdown",
   "id": "81ae849f-9d73-4827-b981-2742a41e83a7",
   "metadata": {},
   "source": [
    "Matching up the rows of Q with the columns of O"
   ]
  },
  {
   "cell_type": "markdown",
   "id": "862ff0d1-e1a3-492f-a096-394a2608b02f",
   "metadata": {},
   "source": [
    "## K-composition"
   ]
  },
  {
   "cell_type": "markdown",
   "id": "10ca9df3-5a29-4606-b209-3e6297e74ecb",
   "metadata": {},
   "source": [
    "$(W_{QK})(W_{OV})$\n"
   ]
  },
  {
   "cell_type": "markdown",
   "id": "fd2f221e-116e-4b9e-901e-c60e9c066780",
   "metadata": {},
   "source": [
    "$(Q^TK)(OV)$"
   ]
  },
  {
   "cell_type": "markdown",
   "id": "51b6949a-9ced-4cc1-9336-cd6e29eed561",
   "metadata": {},
   "source": [
    "$Q^T(KO)V$"
   ]
  },
  {
   "cell_type": "markdown",
   "id": "352c759b-1e1f-412a-9577-ae34e6cbc90a",
   "metadata": {},
   "source": [
    "## V-composition"
   ]
  },
  {
   "cell_type": "markdown",
   "id": "1972b247-6ebd-4696-a5e8-733f3eb64ce6",
   "metadata": {},
   "source": [
    "$(O_{\\textrm{post}}V_{\\textrm{post}})(O_{\\textrm{pre}}V_{\\textrm{pre}})$"
   ]
  },
  {
   "cell_type": "markdown",
   "id": "a1afd8ca-0c57-4b74-b94c-b126046d7700",
   "metadata": {},
   "source": [
    "$O_{\\textrm{post}}(V_{\\textrm{post}}O_{\\textrm{pre}})V_{\\textrm{pre}}$"
   ]
  },
  {
   "cell_type": "markdown",
   "id": "24a1bfa9-2273-4464-aa00-05192cb94e03",
   "metadata": {},
   "source": [
    "# Simple layer norm"
   ]
  },
  {
   "cell_type": "markdown",
   "id": "30bbce9e-fdc0-4c1f-bf2f-82e5f45b271a",
   "metadata": {},
   "source": [
    "$(W_{QK})(W_{OV})/\\sigma$\n"
   ]
  },
  {
   "cell_type": "markdown",
   "id": "21393810-3d44-47d5-9d5c-7d813b6a0edd",
   "metadata": {},
   "source": [
    "$f((W_{QK})(W_{OV})/\\sigma) = f(W_{QK}W_{OV})/\\sigma$\n"
   ]
  },
  {
   "cell_type": "markdown",
   "id": "81b94313-75b0-47e8-b9ac-e323af71f803",
   "metadata": {},
   "source": [
    "$\\frac{f((W_{QK})(W_{OV})/\\sigma)}{f(W_{QK})f(W_{OV}/\\sigma)}$\n"
   ]
  }
 ],
 "metadata": {
  "kernelspec": {
   "display_name": "Python (gpt-neo)",
   "language": "python",
   "name": "gpt-neo"
  },
  "language_info": {
   "codemirror_mode": {
    "name": "ipython",
    "version": 3
   },
   "file_extension": ".py",
   "mimetype": "text/x-python",
   "name": "python",
   "nbconvert_exporter": "python",
   "pygments_lexer": "ipython3",
   "version": "3.9.7"
  }
 },
 "nbformat": 4,
 "nbformat_minor": 5
}
