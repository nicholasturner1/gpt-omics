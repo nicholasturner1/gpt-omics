{
 "cells": [
  {
   "cell_type": "code",
   "execution_count": 4,
   "metadata": {},
   "outputs": [
    {
     "ename": "ModuleNotFoundError",
     "evalue": "No module named 'gptomics'",
     "output_type": "error",
     "traceback": [
      "\u001b[0;31m---------------------------------------------------------------------------\u001b[0m",
      "\u001b[0;31mModuleNotFoundError\u001b[0m                       Traceback (most recent call last)",
      "\u001b[1;32m/home/thetis/Code/gpt-omics/notebooks/sigma_sorting.ipynb Cell 1'\u001b[0m in \u001b[0;36m<cell line: 3>\u001b[0;34m()\u001b[0m\n\u001b[1;32m      <a href='vscode-notebook-cell:/home/thetis/Code/gpt-omics/notebooks/sigma_sorting.ipynb#ch0000000?line=0'>1</a>\u001b[0m \u001b[39mimport\u001b[39;00m \u001b[39mpandas\u001b[39;00m \u001b[39mas\u001b[39;00m \u001b[39mpd\u001b[39;00m\n\u001b[1;32m      <a href='vscode-notebook-cell:/home/thetis/Code/gpt-omics/notebooks/sigma_sorting.ipynb#ch0000000?line=1'>2</a>\u001b[0m \u001b[39mfrom\u001b[39;00m \u001b[39mmatplotlib\u001b[39;00m \u001b[39mimport\u001b[39;00m pyplot \u001b[39mas\u001b[39;00m plt\n\u001b[0;32m----> <a href='vscode-notebook-cell:/home/thetis/Code/gpt-omics/notebooks/sigma_sorting.ipynb#ch0000000?line=2'>3</a>\u001b[0m \u001b[39mfrom\u001b[39;00m \u001b[39mgptomics\u001b[39;00m \u001b[39mimport\u001b[39;00m plot\n",
      "\u001b[0;31mModuleNotFoundError\u001b[0m: No module named 'gptomics'"
     ]
    }
   ],
   "source": [
    "import pandas as pd\n",
    "from matplotlib import pyplot as plt\n",
    "from gptomics import plot"
   ]
  },
  {
   "cell_type": "code",
   "execution_count": 12,
   "metadata": {},
   "outputs": [],
   "source": [
    "sigmas = pd.read_csv(filepath_or_buffer=\"../sigmas.csv.gz\", compression=\"gzip\")"
   ]
  },
  {
   "cell_type": "code",
   "execution_count": 13,
   "metadata": {},
   "outputs": [],
   "source": [
    "for subdf in sigmas:\n",
    "  sigmas.size"
   ]
  },
  {
   "cell_type": "code",
   "execution_count": 14,
   "metadata": {},
   "outputs": [
    {
     "data": {
      "text/plain": [
       "Index(['Unnamed: 0', 'src_type', 'src_layer', 'src_index', 'dst_type',\n",
       "       'dst_layer', 'dst_index', 'term_type', 'term_value', 'SV_index'],\n",
       "      dtype='object')"
      ]
     },
     "execution_count": 14,
     "metadata": {},
     "output_type": "execute_result"
    }
   ],
   "source": [
    "sigmas.columns"
   ]
  },
  {
   "cell_type": "code",
   "execution_count": 18,
   "metadata": {},
   "outputs": [],
   "source": [
    "mlp_sigmas = sigmas[sigmas['term_type']=='mlp']\n",
    "Q_sigmas = sigmas[sigmas['term_type']=='Q']\n",
    "K_sigmas = sigmas[sigmas['term_type']=='K']\n",
    "V_sigmas = sigmas[sigmas['term_type']=='V']"
   ]
  },
  {
   "cell_type": "code",
   "execution_count": 19,
   "metadata": {},
   "outputs": [
    {
     "data": {
      "text/plain": [
       "0"
      ]
     },
     "execution_count": 19,
     "metadata": {},
     "output_type": "execute_result"
    }
   ],
   "source": [
    "sigmas.shape[0] - Q_sigmas.shape[0] - K_sigmas.shape[0] - V_sigmas.shape[0] - mlp_sigmas.shape[0]"
   ]
  },
  {
   "cell_type": "code",
   "execution_count": 20,
   "metadata": {},
   "outputs": [
    {
     "data": {
      "text/plain": [
       "(662112, 10)"
      ]
     },
     "execution_count": 20,
     "metadata": {},
     "output_type": "execute_result"
    }
   ],
   "source": [
    "Q_sigmas.shape\n"
   ]
  },
  {
   "cell_type": "code",
   "execution_count": 21,
   "metadata": {},
   "outputs": [
    {
     "data": {
      "text/plain": [
       "(662112, 10)"
      ]
     },
     "execution_count": 21,
     "metadata": {},
     "output_type": "execute_result"
    }
   ],
   "source": [
    "K_sigmas.shape\n"
   ]
  },
  {
   "cell_type": "code",
   "execution_count": 22,
   "metadata": {},
   "outputs": [
    {
     "data": {
      "text/plain": [
       "(662112, 10)"
      ]
     },
     "execution_count": 22,
     "metadata": {},
     "output_type": "execute_result"
    }
   ],
   "source": [
    "V_sigmas.shape"
   ]
  },
  {
   "cell_type": "code",
   "execution_count": 23,
   "metadata": {},
   "outputs": [
    {
     "data": {
      "text/plain": [
       "(110099, 10)"
      ]
     },
     "execution_count": 23,
     "metadata": {},
     "output_type": "execute_result"
    }
   ],
   "source": [
    "mlp_sigmas.shape"
   ]
  },
  {
   "cell_type": "code",
   "execution_count": 35,
   "metadata": {},
   "outputs": [],
   "source": [
    "sorted_values = (lambda term_type : sigmas[sigmas['term_type'] == term_type].sort_values(), ['Q','K','V','mlp'])"
   ]
  },
  {
   "cell_type": "code",
   "execution_count": 51,
   "metadata": {},
   "outputs": [],
   "source": [
    "mlp_sorted = mlp_sigmas.sort_values(by='term_value')"
   ]
  },
  {
   "cell_type": "code",
   "execution_count": 54,
   "metadata": {},
   "outputs": [],
   "source": [
    "Q_sorted = Q_sigmas.sort_values(by='term_value')"
   ]
  },
  {
   "cell_type": "code",
   "execution_count": 53,
   "metadata": {},
   "outputs": [],
   "source": [
    "K_sorted = K_sigmas.sort_values(by='term_value')"
   ]
  },
  {
   "cell_type": "code",
   "execution_count": 55,
   "metadata": {},
   "outputs": [],
   "source": [
    "V_sorted = V_sigmas.sort_values(by='term_value')"
   ]
  },
  {
   "cell_type": "markdown",
   "metadata": {},
   "source": [
    "We want to see what the size of a composition term is, and how much each composition term is dominated by a single vs multiple singular values"
   ]
  },
  {
   "cell_type": "code",
   "execution_count": null,
   "metadata": {},
   "outputs": [],
   "source": [
    "def normalize(values) :\n",
    "  return (values - values.mean())/values.std()"
   ]
  },
  {
   "cell_type": "code",
   "execution_count": 67,
   "metadata": {},
   "outputs": [
    {
     "data": {
      "text/plain": [
       "190581     -0.912855\n",
       "1047060    -0.912855\n",
       "793203     -0.912855\n",
       "1269281    -0.912855\n",
       "507710     -0.912855\n",
       "             ...    \n",
       "632718     27.715468\n",
       "855451     27.909257\n",
       "760543     27.918539\n",
       "474538     29.803002\n",
       "666406     32.234178\n",
       "Name: term_value, Length: 110099, dtype: float64"
      ]
     },
     "execution_count": 67,
     "metadata": {},
     "output_type": "execute_result"
    }
   ],
   "source": [
    "mlp = normalize(mlp_sorted['term_value'])\n",
    "mlp"
   ]
  },
  {
   "cell_type": "code",
   "execution_count": 70,
   "metadata": {},
   "outputs": [],
   "source": [
    "K = normalize(K_sorted['term_value'])\n",
    "Q = normalize(Q_sorted['term_value'])\n",
    "V = normalize(V_sorted['term_value'])"
   ]
  },
  {
   "cell_type": "code",
   "execution_count": 80,
   "metadata": {},
   "outputs": [
    {
     "data": {
      "image/png": "[encoded data removed]",
      "text/plain": [
       "<Figure size 1008x720 with 4 Axes>"
      ]
     },
     "metadata": {
      "needs_background": "light"
     },
     "output_type": "display_data"
    }
   ],
   "source": [
    "plt.figure(figsize=(14, 10))\n",
    "bins=25\n",
    "\n",
    "plt.subplot(2,2,1)\n",
    "plt.yscale('log')\n",
    "plt.title('mlp')\n",
    "mlp = normalize(mlp_sorted['term_value'])\n",
    "plt.hist(mlp, bins=bins)\n",
    "\n",
    "plt.subplot(2,2,2)\n",
    "plt.yscale('log')\n",
    "plt.title('K')\n",
    "mlp = normalize(K_sorted['term_value'])\n",
    "plt.hist(K, bins=bins)\n",
    "\n",
    "plt.subplot(2,2,3)\n",
    "plt.yscale('log')\n",
    "plt.title('Q')\n",
    "mlp = normalize(Q_sorted['term_value'])\n",
    "plt.hist(Q, bins=bins)\n",
    "\n",
    "plt.subplot(2,2,4)\n",
    "plt.yscale('log')\n",
    "plt.title('V')\n",
    "mlp = normalize(V_sorted['term_value'])\n",
    "plt.hist(V, bins=bins)\n",
    "\n",
    "\n",
    "plt.show()"
   ]
  },
  {
   "cell_type": "code",
   "execution_count": null,
   "metadata": {},
   "outputs": [],
   "source": []
  }
 ],
 "metadata": {
  "interpreter": {
   "hash": "4c91b108c83889fa8a8889475d4b2552c0ba3a614a4139a7d647f43856c828e2"
  },
  "kernelspec": {
   "display_name": "Python 3.9.7 ('gpt-neo')",
   "language": "python",
   "name": "python3"
  },
  "language_info": {
   "codemirror_mode": {
    "name": "ipython",
    "version": 3
   },
   "file_extension": ".py",
   "mimetype": "text/x-python",
   "name": "python",
   "nbconvert_exporter": "python",
   "pygments_lexer": "ipython3",
   "version": "3.9.7"
  },
  "orig_nbformat": 4
 },
 "nbformat": 4,
 "nbformat_minor": 2
}
