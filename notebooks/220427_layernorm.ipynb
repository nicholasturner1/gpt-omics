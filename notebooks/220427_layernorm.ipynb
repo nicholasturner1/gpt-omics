{
 "cells": [
  {
   "cell_type": "code",
   "execution_count": 1,
   "id": "bd128be7-c755-45c7-b023-c717e9945c01",
   "metadata": {},
   "outputs": [
    {
     "name": "stderr",
     "output_type": "stream",
     "text": [
      "/home/nt/miniconda3/envs/gpt-neo/lib/python3.9/site-packages/tqdm/auto.py:22: TqdmWarning: IProgress not found. Please update jupyter and ipywidgets. See https://ipywidgets.readthedocs.io/en/stable/user_install.html\n",
      "  from .autonotebook import tqdm as notebook_tqdm\n"
     ]
    }
   ],
   "source": [
    "import numpy as np\n",
    "import torch\n",
    "from transformers import AutoModelForCausalLM\n",
    "\n",
    "from gptomics import gptneo, transformers\n",
    "\n",
    "# Automatically rounding outputs to 4 digits\n",
    "np.set_printoptions(precision=4)"
   ]
  },
  {
   "cell_type": "code",
   "execution_count": 2,
   "id": "18a13110-f75f-48e1-814d-adbdcb7e01e6",
   "metadata": {},
   "outputs": [],
   "source": [
    "model = transformers.load_model(\"EleutherAI/gpt-neo-125M\")"
   ]
  },
  {
   "cell_type": "code",
   "execution_count": 3,
   "id": "850ac826-6419-405c-8384-794c93e171c7",
   "metadata": {},
   "outputs": [],
   "source": [
    "t = torch.ones(1, 1, 768) * 1000"
   ]
  },
  {
   "cell_type": "code",
   "execution_count": 4,
   "id": "de1c555b-c4f5-44d8-9d67-a20e53cc0777",
   "metadata": {},
   "outputs": [],
   "source": [
    "t = torch.ones(1, 1, 768) * 1\n",
    "t2 = t * 2\n",
    "t3 = t * 10\n",
    "\n",
    "dvs = torch.cat((t, t2, t3), axis=1)"
   ]
  },
  {
   "cell_type": "code",
   "execution_count": 5,
   "id": "a1750878-3f24-4c23-b96a-1e5adbb3340d",
   "metadata": {},
   "outputs": [
    {
     "data": {
      "text/plain": [
       "torch.Size([1, 3, 768])"
      ]
     },
     "execution_count": 5,
     "metadata": {},
     "output_type": "execute_result"
    }
   ],
   "source": [
    "dvs.shape"
   ]
  },
  {
   "cell_type": "code",
   "execution_count": 6,
   "id": "44e72cff-f1e6-4273-99de-8eb5bae2eae1",
   "metadata": {},
   "outputs": [],
   "source": [
    "from torch.nn import functional as F"
   ]
  },
  {
   "cell_type": "code",
   "execution_count": 7,
   "id": "0422cedc-46e6-432d-8c7d-65fece78f395",
   "metadata": {},
   "outputs": [
    {
     "data": {
      "text/plain": [
       "tensor([[[-0.1914,  0.5000, -0.0942,  0.0962,  0.2168, -0.0649, -0.1924,\n",
       "           0.2256, -0.2930, -0.2539],\n",
       "         [-0.1914,  0.5000, -0.0942,  0.0962,  0.2168, -0.0649, -0.1924,\n",
       "           0.2256, -0.2930, -0.2539],\n",
       "         [-0.1914,  0.5000, -0.0942,  0.0962,  0.2168, -0.0649, -0.1924,\n",
       "           0.2256, -0.2930, -0.2539]]], grad_fn=<SliceBackward0>)"
      ]
     },
     "execution_count": 7,
     "metadata": {},
     "output_type": "execute_result"
    }
   ],
   "source": [
    "model.transformer.h[0].ln_1(dvs)[..., :10]"
   ]
  },
  {
   "cell_type": "code",
   "execution_count": 8,
   "id": "8b1d0669-1017-4859-9b86-4b89fd1cd3bb",
   "metadata": {},
   "outputs": [
    {
     "data": {
      "text/plain": [
       "<function _VariableFunctionsClass.layer_norm>"
      ]
     },
     "execution_count": 8,
     "metadata": {},
     "output_type": "execute_result"
    }
   ],
   "source": [
    "torch.layer_norm"
   ]
  },
  {
   "cell_type": "code",
   "execution_count": 9,
   "id": "b3841fe7-28a5-4f54-96fc-298b82fef795",
   "metadata": {},
   "outputs": [
    {
     "data": {
      "text/plain": [
       "tensor([-0.1914,  0.5000, -0.0942,  0.0962,  0.2168, -0.0649, -0.1924,  0.2256,\n",
       "        -0.2930, -0.2539], grad_fn=<SliceBackward0>)"
      ]
     },
     "execution_count": 9,
     "metadata": {},
     "output_type": "execute_result"
    }
   ],
   "source": [
    "model.transformer.h[0].ln_1.bias[..., :10]"
   ]
  },
  {
   "cell_type": "code",
   "execution_count": 10,
   "id": "9ec5ce06-dddc-4229-90c2-1723fbfc6437",
   "metadata": {},
   "outputs": [
    {
     "data": {
      "text/plain": [
       "<function numpy.eye(N, M=None, k=0, dtype=<class 'float'>, order='C', *, like=None)>"
      ]
     },
     "execution_count": 10,
     "metadata": {},
     "output_type": "execute_result"
    }
   ],
   "source": [
    "np.eye"
   ]
  },
  {
   "cell_type": "code",
   "execution_count": 11,
   "id": "90996b3d-604e-4db2-8f2e-24828c0b261d",
   "metadata": {},
   "outputs": [],
   "source": [
    "def Ematrix(n, dtype=None):\n",
    "    return np.eye(n, dtype=dtype) - 1/n"
   ]
  },
  {
   "cell_type": "code",
   "execution_count": 12,
   "id": "115fada8-fd2b-49d4-a90e-5c51f38da1a7",
   "metadata": {},
   "outputs": [],
   "source": [
    "E = Ematrix(768)"
   ]
  },
  {
   "cell_type": "code",
   "execution_count": 13,
   "id": "31211a36-e180-40f7-b61e-72ac98ecf36c",
   "metadata": {},
   "outputs": [
    {
     "data": {
      "text/plain": [
       "0.99934874626762"
      ]
     },
     "execution_count": 13,
     "metadata": {},
     "output_type": "execute_result"
    }
   ],
   "source": [
    "np.linalg.norm(E[:, 1].ravel())"
   ]
  },
  {
   "cell_type": "code",
   "execution_count": 14,
   "id": "64108318-556e-4204-abbe-0bb26350a03e",
   "metadata": {},
   "outputs": [
    {
     "data": {
      "text/plain": [
       "array([[ 0.9987, -0.0013, -0.0013, ..., -0.0013, -0.0013, -0.0013],\n",
       "       [-0.0013,  0.9987, -0.0013, ..., -0.0013, -0.0013, -0.0013],\n",
       "       [-0.0013, -0.0013,  0.9987, ..., -0.0013, -0.0013, -0.0013],\n",
       "       ...,\n",
       "       [-0.0013, -0.0013, -0.0013, ...,  0.9987, -0.0013, -0.0013],\n",
       "       [-0.0013, -0.0013, -0.0013, ..., -0.0013,  0.9987, -0.0013],\n",
       "       [-0.0013, -0.0013, -0.0013, ..., -0.0013, -0.0013,  0.9987]])"
      ]
     },
     "execution_count": 14,
     "metadata": {},
     "output_type": "execute_result"
    }
   ],
   "source": [
    "E"
   ]
  }
 ],
 "metadata": {
  "kernelspec": {
   "display_name": "Python (gpt-neo)",
   "language": "python",
   "name": "gpt-neo"
  },
  "language_info": {
   "codemirror_mode": {
    "name": "ipython",
    "version": 3
   },
   "file_extension": ".py",
   "mimetype": "text/x-python",
   "name": "python",
   "nbconvert_exporter": "python",
   "pygments_lexer": "ipython3",
   "version": "3.9.7"
  }
 },
 "nbformat": 4,
 "nbformat_minor": 5
}
