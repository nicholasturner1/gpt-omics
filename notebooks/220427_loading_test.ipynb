{
 "cells": [
  {
   "cell_type": "code",
   "execution_count": 1,
   "id": "319c9879-13d8-4073-97f3-c4b0def264dd",
   "metadata": {},
   "outputs": [
    {
     "name": "stderr",
     "output_type": "stream",
     "text": [
      "/home/nt/miniconda3/envs/gpt-neo/lib/python3.9/site-packages/tqdm/auto.py:22: TqdmWarning: IProgress not found. Please update jupyter and ipywidgets. See https://ipywidgets.readthedocs.io/en/stable/user_install.html\n",
      "  from .autonotebook import tqdm as notebook_tqdm\n"
     ]
    }
   ],
   "source": [
    "from transformers import AutoModelForCausalLM\n",
    "from gptomics import transformers"
   ]
  },
  {
   "cell_type": "code",
   "execution_count": 2,
   "id": "cb0f8f36-892d-4b0c-a092-ba5e988e98de",
   "metadata": {},
   "outputs": [
    {
     "name": "stdout",
     "output_type": "stream",
     "text": [
      "CPU times: user 5.62 s, sys: 395 ms, total: 6.01 s\n",
      "Wall time: 1.39 s\n"
     ]
    }
   ],
   "source": [
    "%time model = AutoModelForCausalLM.from_pretrained(\"EleutherAI/gpt-neo-125M\")"
   ]
  },
  {
   "cell_type": "code",
   "execution_count": 3,
   "id": "13bef214-d2e4-48c1-97ff-d0a5d3e43689",
   "metadata": {},
   "outputs": [
    {
     "name": "stdout",
     "output_type": "stream",
     "text": [
      "CPU times: user 2.41 s, sys: 357 ms, total: 2.77 s\n",
      "Wall time: 694 ms\n"
     ]
    }
   ],
   "source": [
    "%time model = transformers.load_model(\"EleutherAI/gpt-neo-125M\")"
   ]
  }
 ],
 "metadata": {
  "kernelspec": {
   "display_name": "Python (gpt-neo)",
   "language": "python",
   "name": "gpt-neo"
  },
  "language_info": {
   "codemirror_mode": {
    "name": "ipython",
    "version": 3
   },
   "file_extension": ".py",
   "mimetype": "text/x-python",
   "name": "python",
   "nbconvert_exporter": "python",
   "pygments_lexer": "ipython3",
   "version": "3.9.7"
  }
 },
 "nbformat": 4,
 "nbformat_minor": 5
}
