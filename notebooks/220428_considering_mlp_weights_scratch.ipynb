{
 "cells": [
  {
   "cell_type": "code",
   "execution_count": 1,
   "id": "c10ec193-3496-4d25-887e-e89942b83462",
   "metadata": {},
   "outputs": [],
   "source": [
    "import numpy as np\n",
    "import torch\n",
    "from transformers import AutoModelForCausalLM\n",
    "\n",
    "from gptomics import gptneo, transformers, composition as comp\n",
    "\n",
    "# Automatically rounding outputs to 4 digits\n",
    "np.set_printoptions(precision=4)"
   ]
  },
  {
   "cell_type": "code",
   "execution_count": 2,
   "id": "edd1b04b-6ce4-47cd-9f30-7f64dc547533",
   "metadata": {},
   "outputs": [],
   "source": [
    "model = transformers.load_model(\"EleutherAI/gpt-neo-125M\")"
   ]
  },
  {
   "cell_type": "code",
   "execution_count": 3,
   "id": "d6de6ff6-d4f9-45df-9881-cc36ba08df6b",
   "metadata": {},
   "outputs": [
    {
     "data": {
      "text/plain": [
       "transformers.models.gpt_neo.modeling_gpt_neo.GPTNeoForCausalLM"
      ]
     },
     "execution_count": 3,
     "metadata": {},
     "output_type": "execute_result"
    }
   ],
   "source": [
    "type(model)"
   ]
  },
  {
   "cell_type": "code",
   "execution_count": 8,
   "id": "04918e9c-5aea-4a7b-bcbc-e3628907b62d",
   "metadata": {},
   "outputs": [],
   "source": [
    "mlpout0 = gptneo.MLPout(model, 0)"
   ]
  },
  {
   "cell_type": "code",
   "execution_count": 10,
   "id": "2af5f144-897f-4ec0-a7c8-fb458461f664",
   "metadata": {},
   "outputs": [],
   "source": [
    "QK1 = gptneo.QK(model, 1, 0)"
   ]
  },
  {
   "cell_type": "code",
   "execution_count": 19,
   "id": "90db9f4b-cd19-4a98-8063-deef1ac0b82d",
   "metadata": {},
   "outputs": [],
   "source": [
    "OV1_0 = gptneo.OV(model, 1, 0)"
   ]
  },
  {
   "cell_type": "code",
   "execution_count": 9,
   "id": "373c45f0-fce0-4d3f-9d90-2c0c5c2dac18",
   "metadata": {},
   "outputs": [
    {
     "data": {
      "text/plain": [
       "(768, 3072)"
      ]
     },
     "execution_count": 9,
     "metadata": {},
     "output_type": "execute_result"
    }
   ],
   "source": [
    "mlpout0.shape"
   ]
  },
  {
   "cell_type": "code",
   "execution_count": 14,
   "id": "0f221b4e-6916-488a-b851-49860d4be23b",
   "metadata": {},
   "outputs": [],
   "source": [
    "mlpout0 -= mlpout0.mean(axis=0)"
   ]
  },
  {
   "cell_type": "code",
   "execution_count": 16,
   "id": "7267cd57-b1dc-4419-8574-9c994edc2258",
   "metadata": {},
   "outputs": [
    {
     "data": {
      "text/plain": [
       "0.038935743"
      ]
     },
     "execution_count": 16,
     "metadata": {},
     "output_type": "execute_result"
    }
   ],
   "source": [
    "comp.Qcomposition(QK1, mlpout0, demean=False)"
   ]
  },
  {
   "cell_type": "code",
   "execution_count": 17,
   "id": "7050c02e-88e7-41ad-87d1-1f00024d9a94",
   "metadata": {},
   "outputs": [
    {
     "data": {
      "text/plain": [
       "0.041936405"
      ]
     },
     "execution_count": 17,
     "metadata": {},
     "output_type": "execute_result"
    }
   ],
   "source": [
    "comp.Kcomposition(QK1, mlpout0, demean=False)"
   ]
  },
  {
   "cell_type": "code",
   "execution_count": 20,
   "id": "1835a591-4a21-4c90-8e04-53d50d48dd9a",
   "metadata": {},
   "outputs": [
    {
     "data": {
      "text/plain": [
       "0.031169474"
      ]
     },
     "execution_count": 20,
     "metadata": {},
     "output_type": "execute_result"
    }
   ],
   "source": [
    "comp.Vcomposition(OV1_0, mlpout0, demean=False)"
   ]
  }
 ],
 "metadata": {
  "kernelspec": {
   "display_name": "Python (gpt-neo)",
   "language": "python",
   "name": "gpt-neo"
  },
  "language_info": {
   "codemirror_mode": {
    "name": "ipython",
    "version": 3
   },
   "file_extension": ".py",
   "mimetype": "text/x-python",
   "name": "python",
   "nbconvert_exporter": "python",
   "pygments_lexer": "ipython3",
   "version": "3.9.7"
  }
 },
 "nbformat": 4,
 "nbformat_minor": 5
}
