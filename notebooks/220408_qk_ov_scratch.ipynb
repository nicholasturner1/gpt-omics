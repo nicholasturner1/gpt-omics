{
 "cells": [
  {
   "cell_type": "code",
   "execution_count": 1,
   "id": "ed67e86c-22be-448f-b174-93eb74bc351c",
   "metadata": {},
   "outputs": [
    {
     "name": "stderr",
     "output_type": "stream",
     "text": [
      "/home/nt/miniconda3/envs/gpt-neo/lib/python3.9/site-packages/tqdm/auto.py:22: TqdmWarning: IProgress not found. Please update jupyter and ipywidgets. See https://ipywidgets.readthedocs.io/en/stable/user_install.html\n",
      "  from .autonotebook import tqdm as notebook_tqdm\n"
     ]
    }
   ],
   "source": [
    "import numpy as np\n",
    "import torch"
   ]
  },
  {
   "cell_type": "code",
   "execution_count": 2,
   "id": "66d7115b-7a9c-480e-ac83-f2933382425a",
   "metadata": {},
   "outputs": [],
   "source": [
    "from transformers import AutoModelForCausalLM"
   ]
  },
  {
   "cell_type": "code",
   "execution_count": 3,
   "id": "8f88ab7e-e42c-471a-90a2-a3b65334ebcb",
   "metadata": {},
   "outputs": [],
   "source": [
    "model = AutoModelForCausalLM.from_pretrained(\n",
    "    \"EleutherAI/gpt-neo-125M\")"
   ]
  },
  {
   "cell_type": "code",
   "execution_count": 4,
   "id": "7d295d58-2c18-4ab8-8862-ba4c376c19ed",
   "metadata": {},
   "outputs": [
    {
     "data": {
      "text/plain": [
       "transformers.models.gpt_neo.modeling_gpt_neo.GPTNeoForCausalLM"
      ]
     },
     "execution_count": 4,
     "metadata": {},
     "output_type": "execute_result"
    }
   ],
   "source": [
    "type(model)"
   ]
  },
  {
   "cell_type": "code",
   "execution_count": 5,
   "id": "6c504a31-b162-4e43-8a80-413c34afe88f",
   "metadata": {},
   "outputs": [],
   "source": [
    "att0 = model.transformer.h[0].attn.attention"
   ]
  },
  {
   "cell_type": "code",
   "execution_count": 6,
   "id": "96f0745c-17a0-4d1b-8fb6-ab8d5ccac69d",
   "metadata": {},
   "outputs": [
    {
     "data": {
      "text/plain": [
       "GPTNeoSelfAttention(\n",
       "  (attn_dropout): Dropout(p=0, inplace=False)\n",
       "  (resid_dropout): Dropout(p=0, inplace=False)\n",
       "  (k_proj): Linear(in_features=768, out_features=768, bias=False)\n",
       "  (v_proj): Linear(in_features=768, out_features=768, bias=False)\n",
       "  (q_proj): Linear(in_features=768, out_features=768, bias=False)\n",
       "  (out_proj): Linear(in_features=768, out_features=768, bias=True)\n",
       ")"
      ]
     },
     "execution_count": 6,
     "metadata": {},
     "output_type": "execute_result"
    }
   ],
   "source": [
    "att0"
   ]
  },
  {
   "cell_type": "code",
   "execution_count": 7,
   "id": "4e9a364c-dfa5-44cf-bda1-c2ef0bc382ba",
   "metadata": {},
   "outputs": [],
   "source": [
    "dummy_vectors = torch.ones(1, 768)"
   ]
  },
  {
   "cell_type": "code",
   "execution_count": 8,
   "id": "ac55afb5-49e9-45f1-879f-14d2b69d7298",
   "metadata": {},
   "outputs": [
    {
     "data": {
      "text/plain": [
       "torch.Size([1, 768])"
      ]
     },
     "execution_count": 8,
     "metadata": {},
     "output_type": "execute_result"
    }
   ],
   "source": [
    "att0.k_proj(dummy_vectors).size()"
   ]
  },
  {
   "cell_type": "code",
   "execution_count": 9,
   "id": "9c01e009-7ef0-4ccf-aa81-311b2b211afc",
   "metadata": {},
   "outputs": [],
   "source": [
    "K = att0.k_proj.weight.data.numpy()"
   ]
  },
  {
   "cell_type": "code",
   "execution_count": 10,
   "id": "2569fdd1-ec8e-419e-ab8c-abf34141b836",
   "metadata": {},
   "outputs": [
    {
     "data": {
      "text/plain": [
       "array([[ 1.98204589],\n",
       "       [ 5.55552197],\n",
       "       [-3.39244461],\n",
       "       [ 4.58187103],\n",
       "       [ 0.16510725]])"
      ]
     },
     "execution_count": 10,
     "metadata": {},
     "output_type": "execute_result"
    }
   ],
   "source": [
    "(K @ np.ones((768, 1)))[:5]"
   ]
  },
  {
   "cell_type": "code",
   "execution_count": 11,
   "id": "51672bb4-ec88-4908-9326-b18125185ca8",
   "metadata": {},
   "outputs": [
    {
     "data": {
      "text/plain": [
       "array([ 1.98204589,  5.55552197, -3.39244461,  4.58187103,  0.16510725])"
      ]
     },
     "execution_count": 11,
     "metadata": {},
     "output_type": "execute_result"
    }
   ],
   "source": [
    "(np.ones((768, 1)).T @ K.T).flatten()[:5]"
   ]
  },
  {
   "cell_type": "code",
   "execution_count": 12,
   "id": "03a70b87-a2ed-4aa0-a732-9effb39f66ef",
   "metadata": {},
   "outputs": [
    {
     "data": {
      "text/plain": [
       "array([  6.78366566,   5.0222044 , -18.74901867,  -1.27867794,\n",
       "        -7.93630981])"
      ]
     },
     "execution_count": 12,
     "metadata": {},
     "output_type": "execute_result"
    }
   ],
   "source": [
    "(np.ones((1, 768)) @ K).ravel()[:5]"
   ]
  },
  {
   "cell_type": "code",
   "execution_count": 13,
   "id": "c5fe5e6b-7a30-437a-bad6-3fc14d2e05c9",
   "metadata": {},
   "outputs": [
    {
     "data": {
      "text/plain": [
       "tensor([ 1.9820,  5.5555, -3.3924,  4.5819,  0.1651], grad_fn=<SliceBackward0>)"
      ]
     },
     "execution_count": 13,
     "metadata": {},
     "output_type": "execute_result"
    }
   ],
   "source": [
    "att0.k_proj(dummy_vectors).ravel()[:5]"
   ]
  },
  {
   "cell_type": "code",
   "execution_count": 14,
   "id": "4c8d754f-26dc-416f-b42e-ab754ca4e647",
   "metadata": {},
   "outputs": [],
   "source": [
    "Q = att0.q_proj.weight.data.numpy()\n",
    "V = att0.v_proj.weight.data.numpy()\n",
    "O = att0.out_proj.weight.data.numpy()"
   ]
  },
  {
   "cell_type": "code",
   "execution_count": 15,
   "id": "c391d08d-c3fb-4e5f-a476-28cf8b0eaf67",
   "metadata": {},
   "outputs": [],
   "source": [
    "Ob = att0.out_proj.bias.data.numpy()"
   ]
  },
  {
   "cell_type": "code",
   "execution_count": 16,
   "id": "e90b4e0c-ffe1-4163-9a65-66f9c409a32e",
   "metadata": {},
   "outputs": [],
   "source": [
    "k = att0.k_proj(dummy_vectors)\n",
    "q = att0.q_proj(dummy_vectors)\n",
    "v = att0.v_proj(dummy_vectors)"
   ]
  },
  {
   "cell_type": "code",
   "execution_count": 17,
   "id": "f2b87816-f150-4f5e-bb44-9dedd81a588e",
   "metadata": {},
   "outputs": [
    {
     "data": {
      "text/plain": [
       "tensor([[2493.6262]], grad_fn=<MmBackward0>)"
      ]
     },
     "execution_count": 17,
     "metadata": {},
     "output_type": "execute_result"
    }
   ],
   "source": [
    "torch.matmul(q, k.transpose(-1, -2))"
   ]
  },
  {
   "cell_type": "code",
   "execution_count": 18,
   "id": "6e0f77d3-4b80-4468-ba7c-e4156da7f4e9",
   "metadata": {},
   "outputs": [
    {
     "data": {
      "text/plain": [
       "(torch.Size([1, 768]), torch.Size([1, 768]))"
      ]
     },
     "execution_count": 18,
     "metadata": {},
     "output_type": "execute_result"
    }
   ],
   "source": [
    "k.size(), q.size()"
   ]
  },
  {
   "cell_type": "code",
   "execution_count": 19,
   "id": "07699d00-e991-4204-ae1d-fd6917f8a645",
   "metadata": {},
   "outputs": [
    {
     "data": {
      "text/plain": [
       "2493.626"
      ]
     },
     "execution_count": 19,
     "metadata": {},
     "output_type": "execute_result"
    }
   ],
   "source": [
    "K.sum(1).T @ Q.sum(1)"
   ]
  },
  {
   "cell_type": "code",
   "execution_count": 20,
   "id": "8be58542-22c3-4ba2-b31f-fb57639639bd",
   "metadata": {},
   "outputs": [
    {
     "data": {
      "text/plain": [
       "39180.973"
      ]
     },
     "execution_count": 20,
     "metadata": {},
     "output_type": "execute_result"
    }
   ],
   "source": [
    "K.sum(0).T @ Q.sum(0)"
   ]
  },
  {
   "cell_type": "code",
   "execution_count": 21,
   "id": "650c2d29-098b-4e29-8cba-ab7c154d615e",
   "metadata": {},
   "outputs": [
    {
     "data": {
      "text/plain": [
       "2493.6265"
      ]
     },
     "execution_count": 21,
     "metadata": {},
     "output_type": "execute_result"
    }
   ],
   "source": [
    "(Q.T @ K).sum()"
   ]
  },
  {
   "cell_type": "code",
   "execution_count": 22,
   "id": "78bcdaaf-1070-44ad-8d14-9d1fca0cb8df",
   "metadata": {},
   "outputs": [],
   "source": [
    "QK = Q.T @ K"
   ]
  },
  {
   "cell_type": "code",
   "execution_count": 23,
   "id": "64c17506-4ba8-48e5-a7d5-d66428bffbc4",
   "metadata": {},
   "outputs": [
    {
     "data": {
      "text/plain": [
       "(768, 768)"
      ]
     },
     "execution_count": 23,
     "metadata": {},
     "output_type": "execute_result"
    }
   ],
   "source": [
    "QK.shape"
   ]
  },
  {
   "cell_type": "markdown",
   "id": "fd0e034d-cc8b-47a2-a92c-da98c818a506",
   "metadata": {},
   "source": [
    "# ^ Extracting $W_{QK}$"
   ]
  },
  {
   "cell_type": "markdown",
   "id": "ad6f223c-c63c-4200-ad95-c8b3cdabd392",
   "metadata": {},
   "source": [
    "This is for ALL heads at once though, so not the most useful..."
   ]
  },
  {
   "cell_type": "code",
   "execution_count": 24,
   "id": "a7619ae9-7afe-46b8-95cb-0e3f45fc6b9d",
   "metadata": {},
   "outputs": [],
   "source": [
    "def headQK(Q, K, i):\n",
    "    Qh = Q[i*64:(i+1)*64, :]\n",
    "    Kh = K[i*64:(i+1)*64, :]\n",
    "    \n",
    "    if Qh.size == 0:\n",
    "        raise ValueError(f\"head {i} doesn't exist\")\n",
    "    \n",
    "    return Qh.T @ Kh"
   ]
  },
  {
   "cell_type": "code",
   "execution_count": 25,
   "id": "b726e5c3-40ae-4d72-ad9b-3e621bb533d5",
   "metadata": {},
   "outputs": [
    {
     "data": {
      "text/plain": [
       "array([[ 1.98204589],\n",
       "       [ 5.55552197],\n",
       "       [-3.39244461],\n",
       "       [ 4.58187103],\n",
       "       [ 0.16510725]])"
      ]
     },
     "execution_count": 25,
     "metadata": {},
     "output_type": "execute_result"
    }
   ],
   "source": [
    "(K @ np.ones((768, 1)))[:5]"
   ]
  },
  {
   "cell_type": "code",
   "execution_count": 26,
   "id": "569cd934-64a4-4502-9130-34fc77651f76",
   "metadata": {},
   "outputs": [
    {
     "data": {
      "text/plain": [
       "(768, 768)"
      ]
     },
     "execution_count": 26,
     "metadata": {},
     "output_type": "execute_result"
    }
   ],
   "source": [
    "headQK(Q, K, 0).shape"
   ]
  },
  {
   "cell_type": "code",
   "execution_count": 27,
   "id": "47c444a6-e4dc-4a91-aa10-28e219ec0fec",
   "metadata": {},
   "outputs": [
    {
     "data": {
      "text/plain": [
       "(768, 768)"
      ]
     },
     "execution_count": 27,
     "metadata": {},
     "output_type": "execute_result"
    }
   ],
   "source": [
    "headQK(Q, K, 11).shape"
   ]
  },
  {
   "cell_type": "code",
   "execution_count": 28,
   "id": "ea6ea9bf-c49c-4f95-8dea-63e3d4350d75",
   "metadata": {},
   "outputs": [
    {
     "name": "stdout",
     "output_type": "stream",
     "text": [
      "this works\n"
     ]
    }
   ],
   "source": [
    "try:\n",
    "    headQK(Q, K, 12).shape\n",
    "except ValueError as e:\n",
    "    print(\"this works\")"
   ]
  },
  {
   "cell_type": "markdown",
   "id": "e0fd7324-9a46-48ac-baf1-45f1022c992a",
   "metadata": {},
   "source": [
    "cool"
   ]
  },
  {
   "cell_type": "markdown",
   "id": "572670f3-a03e-4d0a-bd89-90a1bd6ae32f",
   "metadata": {},
   "source": [
    "# v Extracting $W_{OV}$"
   ]
  },
  {
   "cell_type": "code",
   "execution_count": 29,
   "id": "79f0ca37-c6cf-4d20-9bd6-f40dbf1e9323",
   "metadata": {},
   "outputs": [
    {
     "data": {
      "text/plain": [
       "torch.Size([1, 768])"
      ]
     },
     "execution_count": 29,
     "metadata": {},
     "output_type": "execute_result"
    }
   ],
   "source": [
    "v.shape"
   ]
  },
  {
   "cell_type": "markdown",
   "id": "03ce6659-5ab7-4b45-9b13-6c54cacf1ca1",
   "metadata": {},
   "source": [
    "### Trying to reproduce the full attention result with more vectors"
   ]
  },
  {
   "cell_type": "code",
   "execution_count": 30,
   "id": "722787fb-5c09-44aa-a3be-55a92f5ee499",
   "metadata": {},
   "outputs": [],
   "source": [
    "torch.manual_seed(32789)\n",
    "np.random.seed(433485)"
   ]
  },
  {
   "cell_type": "code",
   "execution_count": 31,
   "id": "b835ccfb-72bb-4f51-ba64-1252ecd30ba5",
   "metadata": {},
   "outputs": [],
   "source": [
    "dummy_vectors = torch.rand(1, 5, 768)"
   ]
  },
  {
   "cell_type": "code",
   "execution_count": 32,
   "id": "5787d671-f577-4558-a778-6ebae9ea4e14",
   "metadata": {},
   "outputs": [
    {
     "data": {
      "text/plain": [
       "tensor([[[0.4426, 0.3850, 0.6476, 0.4080, 0.6082],\n",
       "         [0.0715, 0.6252, 0.6434, 0.7473, 0.2203],\n",
       "         [0.1720, 0.8040, 0.5850, 0.8090, 0.6764],\n",
       "         [0.3968, 0.2926, 0.8964, 0.9616, 0.1189],\n",
       "         [0.0932, 0.1908, 0.2857, 0.6376, 0.1506]]])"
      ]
     },
     "execution_count": 32,
     "metadata": {},
     "output_type": "execute_result"
    }
   ],
   "source": [
    "dummy_vectors[:, :, :5]"
   ]
  },
  {
   "cell_type": "code",
   "execution_count": 33,
   "id": "9120919f-94a3-46b1-ba82-3476133a607c",
   "metadata": {},
   "outputs": [],
   "source": [
    "q = att0.q_proj(dummy_vectors)\n",
    "k = att0.k_proj(dummy_vectors)\n",
    "v = att0.v_proj(dummy_vectors)"
   ]
  },
  {
   "cell_type": "code",
   "execution_count": 34,
   "id": "b39d1bba-37ff-430d-9620-d3a8b8de9339",
   "metadata": {},
   "outputs": [
    {
     "data": {
      "text/plain": [
       "torch.Size([1, 5, 768])"
      ]
     },
     "execution_count": 34,
     "metadata": {},
     "output_type": "execute_result"
    }
   ],
   "source": [
    "q.shape"
   ]
  },
  {
   "cell_type": "code",
   "execution_count": 35,
   "id": "bb3bbcb3-26fe-4dd6-b89e-d763ed8a2c58",
   "metadata": {},
   "outputs": [
    {
     "data": {
      "text/plain": [
       "5"
      ]
     },
     "execution_count": 35,
     "metadata": {},
     "output_type": "execute_result"
    }
   ],
   "source": [
    "a = [1, 2, 3, 4, 5]\n",
    "a[-1]"
   ]
  },
  {
   "cell_type": "markdown",
   "id": "52ba7cff-95df-4830-9ea0-0a5deaf96484",
   "metadata": {},
   "source": [
    "# Here's where we define $a_o$ and $a_w$"
   ]
  },
  {
   "cell_type": "code",
   "execution_count": 36,
   "id": "20d9c41e-433e-42b8-9d0d-c8b39a7358f3",
   "metadata": {},
   "outputs": [],
   "source": [
    "ao, aw = att0._attn(q[..., :64], k[..., :64], v[..., :64])"
   ]
  },
  {
   "cell_type": "code",
   "execution_count": 37,
   "id": "9f79a1a7-5daf-4986-adf4-87495582b1c5",
   "metadata": {},
   "outputs": [
    {
     "data": {
      "text/plain": [
       "tensor([[[[ 2.6369e+00, -8.6822e-01, -9.5641e-01,  2.4312e+00,  3.9608e+00,\n",
       "            3.5235e+00,  1.0463e+00,  5.3936e+00,  2.6734e+00, -3.2134e+00,\n",
       "           -3.3753e+00,  3.7295e+00, -1.5161e+00, -1.3766e+01,  1.3192e+00,\n",
       "            3.2057e+00, -5.9184e-01,  1.4298e+01,  3.6049e-01,  2.0203e+00,\n",
       "            1.0576e+00, -1.3702e+00,  5.1527e-01,  2.1878e-01,  2.6023e+00,\n",
       "           -1.6464e+00, -3.9201e+00,  2.2758e+00, -7.7673e-01,  6.6421e-01,\n",
       "            3.1096e+00,  5.0760e+00,  2.9606e+00, -7.2751e+00,  1.4117e+00,\n",
       "            1.4039e+00,  1.2262e-02, -2.3922e+00,  1.2904e+00,  4.0702e-01,\n",
       "            2.3376e+00, -8.8123e-01,  6.1847e+00, -5.3021e+00, -1.1477e+00,\n",
       "           -1.1825e+00, -7.8987e+00,  1.6894e-02, -4.6824e+00, -2.2439e+00,\n",
       "           -1.9134e+00,  4.0217e+00, -1.2610e+00,  2.9178e+00,  2.7388e-01,\n",
       "            1.1905e+00, -6.1900e-01,  1.2203e+00, -1.1376e-01, -4.4278e+00,\n",
       "            7.8752e-01, -1.7881e+00, -7.6964e-01, -1.7577e+00],\n",
       "          [ 2.3070e-01, -1.1227e+00, -2.9872e+00,  5.1197e+00,  3.9424e+00,\n",
       "            2.6023e+00,  3.9698e+00,  2.8982e+00,  1.4945e+00, -1.2037e-01,\n",
       "           -5.1281e+00,  3.4476e+00, -9.4778e-01, -1.0233e+01,  4.8502e+00,\n",
       "            3.9810e+00,  2.9676e+00,  1.3024e+01, -7.5885e-01,  2.3324e+00,\n",
       "            2.6655e+00,  2.1107e+00,  2.2520e+00,  8.5743e-01,  3.3779e+00,\n",
       "           -2.9009e+00, -4.5910e+00,  2.4467e+00,  4.7048e-01,  1.8756e+00,\n",
       "            2.8958e+00,  5.8841e+00,  4.8506e+00, -8.3425e+00, -8.8265e-02,\n",
       "            2.6958e+00,  2.2705e+00, -1.7598e+00,  6.0285e-01, -2.2424e+00,\n",
       "            2.4327e+00,  2.4185e+00,  5.8600e+00, -4.6153e+00, -1.1416e+00,\n",
       "           -1.1338e+00, -9.5718e+00, -1.0724e+00, -5.1694e+00, -2.4143e+00,\n",
       "           -2.6185e+00,  2.9410e+00, -2.4125e+00,  3.7326e+00,  1.2714e+00,\n",
       "           -3.0753e+00, -3.2430e+00,  2.9007e+00,  1.3554e+00, -1.9401e+00,\n",
       "            5.7152e-01, -2.3607e+00,  3.0914e-01, -2.5531e+00],\n",
       "          [-1.5016e-01, -3.2117e+00,  2.3664e+00,  3.6970e+00,  2.7854e+00,\n",
       "            3.3407e+00,  1.8509e+00,  6.6143e+00, -3.0719e-01, -4.4750e+00,\n",
       "           -1.8465e+00,  2.9871e+00, -1.5680e+00, -1.2857e+01, -1.6697e+00,\n",
       "            4.0489e+00, -1.7406e+00,  1.3342e+01, -9.2641e-01,  5.8104e+00,\n",
       "            2.5345e+00,  1.7223e+00, -5.3325e-01,  3.0068e+00,  3.0669e+00,\n",
       "           -3.0790e+00, -2.2905e+00,  8.7008e-01, -4.3911e-01, -7.0349e-01,\n",
       "            7.3290e+00,  2.5142e+00,  1.3787e+00, -8.7080e+00,  3.0868e-01,\n",
       "            4.4515e+00,  1.3778e+00, -2.1630e+00,  2.3671e+00,  2.4359e+00,\n",
       "            6.9172e-01,  3.7027e+00,  6.1650e+00, -4.6348e+00, -1.5725e+00,\n",
       "           -2.5868e+00, -9.6649e+00,  1.2874e+00, -3.9401e+00, -2.4386e-01,\n",
       "           -1.3220e+00,  1.0654e+00, -3.3551e+00,  2.5523e+00,  2.5990e+00,\n",
       "            1.2173e+00, -1.2982e+00,  2.1073e+00, -4.4673e-01, -6.3645e-01,\n",
       "            6.3882e-03, -1.5361e+00,  2.7434e+00, -2.5618e+00],\n",
       "          [ 3.1610e+00, -2.0758e+00, -1.8201e+00,  2.9269e+00,  2.0704e+00,\n",
       "            3.5400e+00,  2.2225e+00,  5.4043e+00,  7.8980e-01, -3.8727e+00,\n",
       "           -4.5390e+00,  4.2176e+00, -1.2260e+00, -1.4145e+01, -4.6674e-01,\n",
       "            2.1499e+00,  1.6728e+00,  1.6353e+01, -3.6608e-01,  3.5876e+00,\n",
       "            1.5123e+00,  5.0670e+00,  2.1774e+00, -2.1185e-01,  6.1001e+00,\n",
       "           -3.6532e+00, -3.4981e+00,  1.7534e+00,  6.1639e-02, -3.4014e+00,\n",
       "            2.0945e+00,  4.4138e+00,  2.8527e+00, -9.7192e+00,  1.2400e+00,\n",
       "            2.2931e+00,  1.1029e+00, -4.0280e+00, -1.2953e+00,  8.4232e-01,\n",
       "            2.2666e+00,  3.8587e+00,  1.0258e+01, -5.0182e+00, -9.4797e-01,\n",
       "           -1.9829e+00, -6.3115e+00,  1.0418e+00, -1.1745e+00, -1.3598e+00,\n",
       "            1.8881e-02,  3.2410e+00, -1.6387e+00,  2.8051e+00,  3.1677e+00,\n",
       "           -1.5033e+00, -1.5242e+00,  2.1833e+00,  1.3857e+00, -4.2705e-01,\n",
       "           -3.5565e+00, -3.2161e+00, -6.2457e-01, -8.8339e-01],\n",
       "          [-6.7354e-01, -3.9545e+00, -1.0367e+00,  1.0544e+00,  1.2172e+00,\n",
       "            1.2581e+00,  3.9114e+00,  4.0407e+00, -2.3106e-02, -2.4127e+00,\n",
       "           -5.1793e+00,  4.8024e+00, -6.8898e-01, -1.5463e+01,  6.0367e-01,\n",
       "            1.6410e+00, -1.8972e+00,  1.5914e+01, -2.2996e+00,  2.0074e+00,\n",
       "            2.6023e+00,  3.4599e+00,  1.6116e+00,  1.5399e+00,  2.8115e+00,\n",
       "           -3.6501e+00, -2.8508e+00, -3.9043e+00, -1.4437e-01,  1.0840e+00,\n",
       "            3.3843e+00,  5.6463e+00,  1.1444e+00, -6.5447e+00, -1.4265e+00,\n",
       "            2.1885e+00, -5.8987e-01, -2.9090e+00,  1.6606e+00,  1.7530e+00,\n",
       "            3.0857e+00,  2.7360e+00,  8.3118e+00, -6.8653e+00, -1.0958e+00,\n",
       "           -2.1205e-01, -6.9162e+00, -4.9335e-01, -3.3888e+00, -2.7238e+00,\n",
       "           -3.6386e+00,  4.9387e+00,  1.6871e-01,  2.5834e+00,  8.5952e-01,\n",
       "           -1.4503e+00, -4.5969e+00,  2.4859e+00,  1.3562e+00,  8.9121e-01,\n",
       "           -5.8804e-01, -1.6720e+00,  1.3108e+00, -1.2239e+00]]]],\n",
       "       grad_fn=<UnsafeViewBackward0>)"
      ]
     },
     "execution_count": 37,
     "metadata": {},
     "output_type": "execute_result"
    }
   ],
   "source": [
    "ao"
   ]
  },
  {
   "cell_type": "code",
   "execution_count": 38,
   "id": "030b9bd1-81cd-472d-b121-547a94b9aeb1",
   "metadata": {},
   "outputs": [
    {
     "data": {
      "text/plain": [
       "tensor([[[[1., 0., 0., 0., 0.],\n",
       "          [0., 1., 0., 0., 0.],\n",
       "          [0., 0., 1., 0., 0.],\n",
       "          [0., 0., 0., 1., 0.],\n",
       "          [0., 0., 0., 0., 1.]]]], grad_fn=<SoftmaxBackward0>)"
      ]
     },
     "execution_count": 38,
     "metadata": {},
     "output_type": "execute_result"
    }
   ],
   "source": [
    "aw"
   ]
  },
  {
   "cell_type": "code",
   "execution_count": 39,
   "id": "065ee4ca-409a-4879-a6fd-d63d4889bb3a",
   "metadata": {},
   "outputs": [],
   "source": [
    "result = att0(dummy_vectors)[0]"
   ]
  },
  {
   "cell_type": "code",
   "execution_count": 40,
   "id": "98363111-d5ad-441e-b499-beb02db9527d",
   "metadata": {},
   "outputs": [
    {
     "data": {
      "text/plain": [
       "tensor([[[ -7.4073, -12.8660,  13.9407,  ...,  -3.7682, -18.6677,   2.4210],\n",
       "         [  2.4488, -27.5220,  14.8699,  ...,  -3.7165, -42.1507, -21.8148],\n",
       "         [ -0.0990,  18.7272,  23.4550,  ..., -16.8254, -28.2660,  -1.1647],\n",
       "         [-23.3457,   0.8343,  24.8481,  ..., -28.3942, -32.2080,   5.3194],\n",
       "         [ -6.7265,   0.2108,  -7.9686,  ..., -16.8513, -24.6491, -18.2180]]],\n",
       "       grad_fn=<AddBackward0>)"
      ]
     },
     "execution_count": 40,
     "metadata": {},
     "output_type": "execute_result"
    }
   ],
   "source": [
    "result"
   ]
  },
  {
   "cell_type": "markdown",
   "id": "3e94b564-e078-4802-9b2d-00fafedf507c",
   "metadata": {},
   "source": [
    "#### Attention weights given $W_{QK}$"
   ]
  },
  {
   "cell_type": "code",
   "execution_count": 41,
   "id": "bb447927-8ef5-41f3-8324-f86da109a105",
   "metadata": {},
   "outputs": [],
   "source": [
    "dvs = dummy_vectors.numpy()"
   ]
  },
  {
   "cell_type": "code",
   "execution_count": 42,
   "id": "4e429111-438a-47e1-82e7-1560fb1ec848",
   "metadata": {},
   "outputs": [],
   "source": [
    "v0 = dvs[0, 0, :].ravel()\n",
    "qk_00 = v0.T @ headQK(Q, K, 0) @ v0"
   ]
  },
  {
   "cell_type": "code",
   "execution_count": 43,
   "id": "66c04929-2732-4936-bd2f-ca6a8a126ea0",
   "metadata": {},
   "outputs": [
    {
     "data": {
      "text/plain": [
       "39.80802"
      ]
     },
     "execution_count": 43,
     "metadata": {},
     "output_type": "execute_result"
    }
   ],
   "source": [
    "qk_00"
   ]
  },
  {
   "cell_type": "code",
   "execution_count": 44,
   "id": "cbdc0f16-dc0e-4886-a530-0ec1fb919dde",
   "metadata": {},
   "outputs": [
    {
     "data": {
      "text/plain": [
       "(1, 5, 768)"
      ]
     },
     "execution_count": 44,
     "metadata": {},
     "output_type": "execute_result"
    }
   ],
   "source": [
    "dvs.shape"
   ]
  },
  {
   "cell_type": "code",
   "execution_count": 45,
   "id": "7983ecf0-6f43-41bb-9a36-e2869142d5ef",
   "metadata": {},
   "outputs": [
    {
     "data": {
      "text/plain": [
       "(768, 5, 1)"
      ]
     },
     "execution_count": 45,
     "metadata": {},
     "output_type": "execute_result"
    }
   ],
   "source": [
    "dvs.T.shape"
   ]
  },
  {
   "cell_type": "code",
   "execution_count": 46,
   "id": "8f5a48cb-4403-4b43-8860-9cf5a75f4277",
   "metadata": {},
   "outputs": [
    {
     "data": {
      "text/plain": [
       "(768, 768)"
      ]
     },
     "execution_count": 46,
     "metadata": {},
     "output_type": "execute_result"
    }
   ],
   "source": [
    "V.shape"
   ]
  },
  {
   "cell_type": "code",
   "execution_count": 47,
   "id": "9ad64a44-0695-4cd8-943a-8018721141f5",
   "metadata": {},
   "outputs": [],
   "source": [
    "vs = (V @ dvs.transpose((2, 1, 0))[..., 0])"
   ]
  },
  {
   "cell_type": "code",
   "execution_count": 48,
   "id": "0f94aa4d-2a04-4c72-aa2c-05f1b2827c02",
   "metadata": {},
   "outputs": [
    {
     "data": {
      "text/plain": [
       "(768, 5)"
      ]
     },
     "execution_count": 48,
     "metadata": {},
     "output_type": "execute_result"
    }
   ],
   "source": [
    "vs.shape"
   ]
  },
  {
   "cell_type": "code",
   "execution_count": 49,
   "id": "8d051395-2735-474f-935c-fc8c27d17601",
   "metadata": {},
   "outputs": [],
   "source": [
    "vs_h0 = vs[:64, :]"
   ]
  },
  {
   "cell_type": "code",
   "execution_count": 50,
   "id": "dd58bb5f-d29f-4017-b7b4-ae86f26f89a8",
   "metadata": {},
   "outputs": [],
   "source": [
    "qks = (dvs[0, ...] @ headQK(Q, K, 0) @ dvs[0, ...].T).T"
   ]
  },
  {
   "cell_type": "code",
   "execution_count": 51,
   "id": "068f1098-5413-4ed2-a797-a5df05e514b2",
   "metadata": {},
   "outputs": [
    {
     "data": {
      "text/plain": [
       "array([[  39.808083 ,  -14.71413  ,   20.835667 ,   -7.58498  ,\n",
       "         -34.04499  ],\n",
       "       [ -28.444506 ,  190.07964  ,  -16.684322 ,   41.232113 ,\n",
       "           6.670292 ],\n",
       "       [-180.83084  ,  -70.58137  ,  152.18175  , -133.6292   ,\n",
       "        -149.92896  ],\n",
       "       [ -17.040405 ,   -1.97789  ,  -36.64063  ,  233.8287   ,\n",
       "          46.086235 ],\n",
       "       [ -50.07481  ,    9.7430725,    1.6481285,  -39.96372  ,\n",
       "         212.09746  ]], dtype=float32)"
      ]
     },
     "execution_count": 51,
     "metadata": {},
     "output_type": "execute_result"
    }
   ],
   "source": [
    "qks"
   ]
  },
  {
   "cell_type": "code",
   "execution_count": 52,
   "id": "412d75fb-84c6-4a19-832d-dbe2666d68d7",
   "metadata": {},
   "outputs": [],
   "source": [
    "causal_mask = att0.bias[0, 0, :5, :5].numpy()"
   ]
  },
  {
   "cell_type": "code",
   "execution_count": 53,
   "id": "424375a2-3718-4e71-bb87-d2505e6ba1de",
   "metadata": {},
   "outputs": [
    {
     "data": {
      "text/plain": [
       "array([[1, 0, 0, 0, 0],\n",
       "       [1, 1, 0, 0, 0],\n",
       "       [1, 1, 1, 0, 0],\n",
       "       [1, 1, 1, 1, 0],\n",
       "       [1, 1, 1, 1, 1]], dtype=uint8)"
      ]
     },
     "execution_count": 53,
     "metadata": {},
     "output_type": "execute_result"
    }
   ],
   "source": [
    "causal_mask"
   ]
  },
  {
   "cell_type": "code",
   "execution_count": 54,
   "id": "5978c028-04e8-4bb3-97d7-336f934bba43",
   "metadata": {},
   "outputs": [],
   "source": [
    "my_att_weights_ = np.where(causal_mask == 1, qks, -1e9)"
   ]
  },
  {
   "cell_type": "code",
   "execution_count": 55,
   "id": "d6a1c6a7-38cf-41f8-8e06-9b1319867631",
   "metadata": {},
   "outputs": [
    {
     "data": {
      "text/plain": [
       "tensor([[1., 0., 0., 0., 0.],\n",
       "        [0., 1., 0., 0., 0.],\n",
       "        [0., 0., 1., 0., 0.],\n",
       "        [0., 0., 0., 1., 0.],\n",
       "        [0., 0., 0., 0., 1.]])"
      ]
     },
     "execution_count": 55,
     "metadata": {},
     "output_type": "execute_result"
    }
   ],
   "source": [
    "my_att_weights = torch.nn.functional.softmax(torch.tensor(my_att_weights_), dim=-1)\n",
    "my_att_weights"
   ]
  },
  {
   "cell_type": "code",
   "execution_count": 56,
   "id": "3a1daa43-82e7-4ddc-b49a-769643ac876c",
   "metadata": {},
   "outputs": [
    {
     "data": {
      "text/plain": [
       "tensor([[[ 2.6369, -0.8682, -0.9564,  ..., -0.0787, -0.0332, -0.6798],\n",
       "         [ 0.2307, -1.1227, -2.9872,  ..., -2.6758, -0.8860, -0.7865],\n",
       "         [-0.1502, -3.2117,  2.3664,  ...,  0.3992,  1.7001, -3.5451],\n",
       "         [ 3.1610, -2.0758, -1.8201,  ..., -2.1901,  2.8392, -4.3925],\n",
       "         [-0.6735, -3.9545, -1.0367,  ..., -1.8553,  1.9540, -1.6800]]],\n",
       "       grad_fn=<UnsafeViewBackward0>)"
      ]
     },
     "execution_count": 56,
     "metadata": {},
     "output_type": "execute_result"
    }
   ],
   "source": [
    "v"
   ]
  },
  {
   "cell_type": "code",
   "execution_count": 57,
   "id": "c17f39f6-c874-4e93-bf0d-3dc6e4c507d2",
   "metadata": {},
   "outputs": [
    {
     "data": {
      "text/plain": [
       "tensor([[ 2.6369, -0.8682, -0.9564,  2.4312,  3.9608],\n",
       "        [ 0.2307, -1.1227, -2.9872,  5.1197,  3.9424],\n",
       "        [-0.1502, -3.2117,  2.3664,  3.6970,  2.7854],\n",
       "        [ 3.1610, -2.0758, -1.8201,  2.9269,  2.0704],\n",
       "        [-0.6735, -3.9545, -1.0367,  1.0544,  1.2172]],\n",
       "       grad_fn=<SliceBackward0>)"
      ]
     },
     "execution_count": 57,
     "metadata": {},
     "output_type": "execute_result"
    }
   ],
   "source": [
    "v[..., :64][0, :5, :5]"
   ]
  },
  {
   "cell_type": "code",
   "execution_count": 58,
   "id": "f52cbdb7-e51f-4f94-9b11-7ea6efc0702d",
   "metadata": {},
   "outputs": [
    {
     "data": {
      "text/plain": [
       "tensor([[ 2.6369, -0.8682, -0.9564,  2.4312,  3.9608],\n",
       "        [ 0.2307, -1.1227, -2.9872,  5.1197,  3.9424],\n",
       "        [-0.1502, -3.2117,  2.3664,  3.6970,  2.7854],\n",
       "        [ 3.1610, -2.0758, -1.8201,  2.9269,  2.0704],\n",
       "        [-0.6735, -3.9545, -1.0367,  1.0544,  1.2172]],\n",
       "       grad_fn=<SliceBackward0>)"
      ]
     },
     "execution_count": 58,
     "metadata": {},
     "output_type": "execute_result"
    }
   ],
   "source": [
    "ao[0, 0, :5, :5]"
   ]
  },
  {
   "cell_type": "markdown",
   "id": "6e176f6d-f903-421c-9cec-182431cf816a",
   "metadata": {},
   "source": [
    "This was a trivial test, the attention weights were the identity matrix."
   ]
  },
  {
   "cell_type": "code",
   "execution_count": 59,
   "id": "1bbd54cb-d337-4fd4-9b5e-e9ffea848c46",
   "metadata": {},
   "outputs": [],
   "source": [
    "dvs2 = torch.tensor(np.arange(5*768).reshape(1, 5, 768).astype(np.float32))"
   ]
  },
  {
   "cell_type": "code",
   "execution_count": 60,
   "id": "0106a8a8-33b6-4a5a-a5eb-0d9d13d1bf55",
   "metadata": {},
   "outputs": [],
   "source": [
    "q = att0.q_proj(dvs2)[:64]\n",
    "k = att0.k_proj(dvs2)[:64]\n",
    "v = att0.v_proj(dvs2)[:64]"
   ]
  },
  {
   "cell_type": "code",
   "execution_count": 61,
   "id": "93be99ff-f07a-4f2e-bef6-1db1e689141c",
   "metadata": {},
   "outputs": [],
   "source": [
    "ao, aw = att0._attn(q, k, v)"
   ]
  },
  {
   "cell_type": "code",
   "execution_count": 62,
   "id": "e29443e7-92d7-4504-a3d9-d87679f36730",
   "metadata": {},
   "outputs": [
    {
     "data": {
      "text/plain": [
       "tensor([[  -870.5228,  -1384.9580,   -794.9573,   1771.1262,   3062.9673],\n",
       "        [ -1461.8575,  -4491.4492,  -2570.6619,   5836.2285,   8555.7871],\n",
       "        [ -2053.1919,  -7597.9360,  -4346.3662,   9901.3301,  14048.6094],\n",
       "        [ -2644.5251, -10704.4316,  -6122.0713,  13966.4355,  19541.4336],\n",
       "        [ -3235.8691, -13810.9219,  -7897.7725,  18031.5371,  25034.2539]],\n",
       "       grad_fn=<SliceBackward0>)"
      ]
     },
     "execution_count": 62,
     "metadata": {},
     "output_type": "execute_result"
    }
   ],
   "source": [
    "ao[0, 0, :5, :5]"
   ]
  },
  {
   "cell_type": "code",
   "execution_count": 63,
   "id": "d50456db-e88a-4a0e-9a68-3a928c8668bf",
   "metadata": {},
   "outputs": [
    {
     "data": {
      "text/plain": [
       "tensor([[[[1., 0., 0., 0., 0.],\n",
       "          [0., 1., 0., 0., 0.],\n",
       "          [0., 0., 1., 0., 0.],\n",
       "          [0., 0., 0., 1., 0.],\n",
       "          [0., 0., 0., 0., 1.]]]], grad_fn=<SoftmaxBackward0>)"
      ]
     },
     "execution_count": 63,
     "metadata": {},
     "output_type": "execute_result"
    }
   ],
   "source": [
    "aw"
   ]
  },
  {
   "cell_type": "markdown",
   "id": "36147eb5-285e-4ece-a95e-1084c53ee791",
   "metadata": {},
   "source": [
    "The above dummy vectors are too dissimilar. I'll try generating others by anchoring off of a \"base\" vector."
   ]
  },
  {
   "cell_type": "code",
   "execution_count": 64,
   "id": "17044034-2a65-416b-a3f6-789ab4eeb745",
   "metadata": {},
   "outputs": [],
   "source": [
    "np.random.seed(897)\n",
    "#dvs = dvs.detach().numpy()\n",
    "base_dv = dvs[0, 0, :]\n",
    "\n",
    "dvs[0, 1:, :] = np.random.randn(4, 768)*0.05 + base_dv"
   ]
  },
  {
   "cell_type": "code",
   "execution_count": 65,
   "id": "7272dad8-081f-45f2-9bb3-7f3d6e5920f5",
   "metadata": {},
   "outputs": [],
   "source": [
    "dvs = torch.tensor(dvs)"
   ]
  },
  {
   "cell_type": "code",
   "execution_count": 66,
   "id": "8b3cf7a9-745f-4b74-92cb-d7d48579fae6",
   "metadata": {},
   "outputs": [],
   "source": [
    "q = att0.q_proj(dvs)[..., :64]\n",
    "k = att0.k_proj(dvs)[..., :64]\n",
    "v = att0.v_proj(dvs)[..., :64]"
   ]
  },
  {
   "cell_type": "code",
   "execution_count": 67,
   "id": "6d3102d3-367a-4228-a3a5-4cad398fcac7",
   "metadata": {},
   "outputs": [],
   "source": [
    "ao, aw = att0._attn(q, k, v)"
   ]
  },
  {
   "cell_type": "code",
   "execution_count": 68,
   "id": "dc733f8b-e9f7-48bf-acf4-2532a577a53a",
   "metadata": {},
   "outputs": [
    {
     "data": {
      "text/plain": [
       "tensor([[ 2.6369, -0.8682, -0.9564,  2.4312,  3.9608],\n",
       "        [ 2.8016, -0.9862, -0.8158,  2.1715,  3.7854],\n",
       "        [ 2.4419, -1.3797, -1.3612,  2.1417,  4.4184],\n",
       "        [ 2.7043, -0.8400, -1.0832,  2.2001,  3.9844],\n",
       "        [ 2.4163, -1.0646, -0.4790,  1.6161,  3.5275]],\n",
       "       grad_fn=<SliceBackward0>)"
      ]
     },
     "execution_count": 68,
     "metadata": {},
     "output_type": "execute_result"
    }
   ],
   "source": [
    "ao[0, 0, :, :5]"
   ]
  },
  {
   "cell_type": "code",
   "execution_count": 69,
   "id": "94997315-926d-4441-9831-6856dc07d24e",
   "metadata": {},
   "outputs": [
    {
     "data": {
      "text/plain": [
       "tensor([[[[1.0000e+00, 0.0000e+00, 0.0000e+00, 0.0000e+00, 0.0000e+00],\n",
       "          [1.4832e-06, 1.0000e+00, 0.0000e+00, 0.0000e+00, 0.0000e+00],\n",
       "          [5.8861e-06, 5.7454e-02, 9.4254e-01, 0.0000e+00, 0.0000e+00],\n",
       "          [1.6501e-04, 3.2934e-01, 1.9300e-01, 4.7750e-01, 0.0000e+00],\n",
       "          [1.0361e-06, 6.3796e-04, 1.5368e-03, 7.5749e-06, 9.9782e-01]]]],\n",
       "       grad_fn=<SoftmaxBackward0>)"
      ]
     },
     "execution_count": 69,
     "metadata": {},
     "output_type": "execute_result"
    }
   ],
   "source": [
    "aw"
   ]
  },
  {
   "cell_type": "code",
   "execution_count": 70,
   "id": "abeb1c01-6f43-4f5b-9891-b27bfdeb3fa9",
   "metadata": {},
   "outputs": [
    {
     "data": {
      "text/plain": [
       "array([[[[1.   , 0.   , 0.   , 0.   , 0.   ],\n",
       "         [0.   , 1.   , 0.   , 0.   , 0.   ],\n",
       "         [0.   , 0.057, 0.943, 0.   , 0.   ],\n",
       "         [0.   , 0.329, 0.193, 0.477, 0.   ],\n",
       "         [0.   , 0.001, 0.002, 0.   , 0.998]]]], dtype=float32)"
      ]
     },
     "execution_count": 70,
     "metadata": {},
     "output_type": "execute_result"
    }
   ],
   "source": [
    "np.round(aw.detach().numpy(), 3)"
   ]
  },
  {
   "cell_type": "code",
   "execution_count": 71,
   "id": "e7e98177-94be-43a9-9f80-5c730b56da63",
   "metadata": {},
   "outputs": [
    {
     "data": {
      "text/plain": [
       "torch.Size([1, 1, 5, 5])"
      ]
     },
     "execution_count": 71,
     "metadata": {},
     "output_type": "execute_result"
    }
   ],
   "source": [
    "aw.shape"
   ]
  },
  {
   "cell_type": "code",
   "execution_count": 72,
   "id": "b15f8751-49b5-4055-84e0-432170a3d740",
   "metadata": {},
   "outputs": [
    {
     "data": {
      "text/plain": [
       "tensor([[[[ 2.6369, -0.8682, -0.9564,  2.4312,  3.9608],\n",
       "          [ 2.8016, -0.9862, -0.8158,  2.1715,  3.7854],\n",
       "          [ 2.4419, -1.3797, -1.3612,  2.1417,  4.4184],\n",
       "          [ 2.7043, -0.8400, -1.0832,  2.2001,  3.9844],\n",
       "          [ 2.4163, -1.0646, -0.4790,  1.6161,  3.5275]]]],\n",
       "       grad_fn=<SliceBackward0>)"
      ]
     },
     "execution_count": 72,
     "metadata": {},
     "output_type": "execute_result"
    }
   ],
   "source": [
    "torch.matmul(aw, v)[..., :5]"
   ]
  },
  {
   "cell_type": "code",
   "execution_count": 73,
   "id": "6c485424-9fc5-4772-888c-0394cefd2229",
   "metadata": {},
   "outputs": [
    {
     "data": {
      "text/plain": [
       "array([[[[ 2.6369, -0.8682, -0.9564,  2.4312,  3.9608],\n",
       "         [ 2.8016, -0.9862, -0.8158,  2.1715,  3.7854],\n",
       "         [ 2.4419, -1.3797, -1.3612,  2.1417,  4.4184],\n",
       "         [ 2.7043, -0.84  , -1.0832,  2.2001,  3.9844],\n",
       "         [ 2.4163, -1.0646, -0.479 ,  1.6161,  3.5275]]]], dtype=float32)"
      ]
     },
     "execution_count": 73,
     "metadata": {},
     "output_type": "execute_result"
    }
   ],
   "source": [
    "np.round(aw.detach().numpy() @ v.detach().numpy(), 4)[..., :5]"
   ]
  },
  {
   "cell_type": "markdown",
   "id": "00be37f2-df1f-4f8f-b4a0-b41f000f7f18",
   "metadata": {},
   "source": [
    "This settles how V is applied. We'll need to compute the full layer input to do the same for O"
   ]
  },
  {
   "cell_type": "code",
   "execution_count": 74,
   "id": "bfee5ed9-ec4e-49f1-9739-183075e3bea5",
   "metadata": {},
   "outputs": [
    {
     "data": {
      "text/plain": [
       "(12, 64)"
      ]
     },
     "execution_count": 74,
     "metadata": {},
     "output_type": "execute_result"
    }
   ],
   "source": [
    "att0.num_heads, att0.head_dim"
   ]
  },
  {
   "cell_type": "code",
   "execution_count": 75,
   "id": "85b2de72-eee4-42fd-b6ad-53fc39115774",
   "metadata": {},
   "outputs": [],
   "source": [
    "# \"full\" projections\n",
    "qf = att0.q_proj(dvs)\n",
    "kf = att0.k_proj(dvs)\n",
    "vf = att0.v_proj(dvs)\n",
    "\n",
    "qf = att0._split_heads(qf, 12, 64)\n",
    "kf = att0._split_heads(kf, 12, 64)\n",
    "vf = att0._split_heads(vf, 12, 64)\n",
    "\n",
    "aof, awf = att0._attn(qf, kf, vf)\n",
    "\n",
    "ao_ = att0._merge_heads(aof, 12, 64)\n",
    "of = att0.out_proj(ao_)"
   ]
  },
  {
   "cell_type": "code",
   "execution_count": 76,
   "id": "f59443a1-2dce-4997-b232-0c04a7b53f11",
   "metadata": {},
   "outputs": [
    {
     "data": {
      "text/plain": [
       "array([[[ -7.4073, -12.866 ,  13.9407, ...,  -3.7682, -18.6677,\n",
       "           2.421 ],\n",
       "        [ -7.2214, -10.7088,  12.5017, ...,  -5.3761, -15.8355,\n",
       "          -0.8125],\n",
       "        [ -8.3059, -15.2888,  13.3901, ...,  -3.6739, -16.7572,\n",
       "           1.5735],\n",
       "        [ -2.9528, -12.7843,  16.0387, ...,  -4.7691, -15.5552,\n",
       "           0.2245],\n",
       "        [ -6.9189, -12.1247,  15.26  , ...,  -3.9072, -15.6968,\n",
       "          -0.1535]]], dtype=float32)"
      ]
     },
     "execution_count": 76,
     "metadata": {},
     "output_type": "execute_result"
    }
   ],
   "source": [
    "np.round(of.detach().numpy(), 4)"
   ]
  },
  {
   "cell_type": "code",
   "execution_count": 77,
   "id": "f8f6e9c1-60f0-4aff-b354-0566e74e055d",
   "metadata": {},
   "outputs": [
    {
     "data": {
      "text/plain": [
       "array([[ -7.4073, -12.866 ,  13.9407, ...,  -3.7682, -18.6677,   2.421 ],\n",
       "       [ -7.2214, -10.7088,  12.5016, ...,  -5.3761, -15.8355,  -0.8125],\n",
       "       [ -8.3059, -15.2888,  13.3901, ...,  -3.6739, -16.7572,   1.5735],\n",
       "       [ -2.9528, -12.7843,  16.0387, ...,  -4.7691, -15.5552,   0.2245],\n",
       "       [ -6.9189, -12.1247,  15.26  , ...,  -3.9072, -15.6968,  -0.1535]],\n",
       "      dtype=float32)"
      ]
     },
     "execution_count": 77,
     "metadata": {},
     "output_type": "execute_result"
    }
   ],
   "source": [
    "np.round(((O @ ao_.detach().numpy()[0, ...].T) + Ob[:, np.newaxis]).T, 4)"
   ]
  },
  {
   "cell_type": "code",
   "execution_count": 78,
   "id": "79d22769-ef34-4b09-b969-4d709c9775de",
   "metadata": {},
   "outputs": [
    {
     "data": {
      "text/plain": [
       "array([[-1.5928,  2.6477, -0.7921, ..., -5.4147, -1.7955, -3.4176],\n",
       "       [-1.4912,  3.1833, -0.3857, ..., -5.9054, -2.0518, -3.9084],\n",
       "       [-1.9131,  2.4385, -0.5308, ..., -5.8337, -1.7603, -3.7268],\n",
       "       [-1.498 ,  2.761 , -0.6012, ..., -5.5093, -1.8154, -3.7578],\n",
       "       [-1.8538,  3.2266, -0.4811, ..., -5.1514, -1.6286, -3.2996]],\n",
       "      dtype=float32)"
      ]
     },
     "execution_count": 78,
     "metadata": {},
     "output_type": "execute_result"
    }
   ],
   "source": [
    "# This should be the output for the first head\n",
    "np.round(O[:, :64] @ ao_.detach().numpy()[0, :, :64].T, 4).T"
   ]
  },
  {
   "cell_type": "code",
   "execution_count": 79,
   "id": "4c29e4e7-2e2a-4e43-8261-1458f1a84af3",
   "metadata": {},
   "outputs": [
    {
     "data": {
      "text/plain": [
       "tensor([[ 2.6369, -0.8682, -0.9564,  2.4312,  3.9608],\n",
       "        [ 2.8016, -0.9862, -0.8158,  2.1715,  3.7854],\n",
       "        [ 2.4419, -1.3797, -1.3612,  2.1417,  4.4184],\n",
       "        [ 2.7043, -0.8400, -1.0832,  2.2001,  3.9844],\n",
       "        [ 2.4163, -1.0646, -0.4790,  1.6161,  3.5275]],\n",
       "       grad_fn=<SliceBackward0>)"
      ]
     },
     "execution_count": 79,
     "metadata": {},
     "output_type": "execute_result"
    }
   ],
   "source": [
    "aof[0, 0, :, :5]"
   ]
  },
  {
   "cell_type": "code",
   "execution_count": 80,
   "id": "093fb202-63a5-42fb-be5b-4490f5cb20e5",
   "metadata": {},
   "outputs": [
    {
     "data": {
      "text/plain": [
       "tensor([[[ 2.6369, -0.8682, -0.9564,  2.4312,  3.9608],\n",
       "         [ 2.8016, -0.9862, -0.8158,  2.1715,  3.7854],\n",
       "         [ 2.4419, -1.3797, -1.3612,  2.1417,  4.4184],\n",
       "         [ 2.7043, -0.8400, -1.0832,  2.2001,  3.9844],\n",
       "         [ 2.4163, -1.0646, -0.4790,  1.6161,  3.5275]]],\n",
       "       grad_fn=<SliceBackward0>)"
      ]
     },
     "execution_count": 80,
     "metadata": {},
     "output_type": "execute_result"
    }
   ],
   "source": [
    "ao_[..., :5]"
   ]
  },
  {
   "cell_type": "code",
   "execution_count": 81,
   "id": "12f2b586-3264-4e98-b091-3f2341450ae8",
   "metadata": {},
   "outputs": [
    {
     "data": {
      "text/plain": [
       "((768, 768), torch.Size([1, 5, 64]), torch.Size([1, 1, 5, 5]))"
      ]
     },
     "execution_count": 81,
     "metadata": {},
     "output_type": "execute_result"
    }
   ],
   "source": [
    "O.shape, v.shape, aw.shape"
   ]
  },
  {
   "cell_type": "code",
   "execution_count": 82,
   "id": "c8bdfe72-0c80-4544-b285-85e3450bb22b",
   "metadata": {},
   "outputs": [
    {
     "data": {
      "text/plain": [
       "array([[-1.5930438 , -2.0400388 , -2.085928  , -0.6324649 , -1.849832  ],\n",
       "       [ 2.6481528 ,  4.1852603 ,  2.765938  ,  1.2503333 ,  3.2208989 ],\n",
       "       [-0.7922147 , -0.6721544 , -0.6589091 , -0.3699021 , -0.48001918],\n",
       "       ...,\n",
       "       [-5.4155846 , -7.925419  , -6.4878674 , -2.4384959 , -5.138584  ],\n",
       "       [-1.7958397 , -2.7068279 , -1.9695266 , -0.80307204, -1.6246333 ],\n",
       "       [-3.4182389 , -5.3330164 , -4.215799  , -1.7529831 , -3.2913306 ]],\n",
       "      dtype=float32)"
      ]
     },
     "execution_count": 82,
     "metadata": {},
     "output_type": "execute_result"
    }
   ],
   "source": [
    "O[:, :64] @ v[0].detach().numpy().T @ aw[0, 0].detach().numpy()"
   ]
  },
  {
   "cell_type": "markdown",
   "id": "7d0642c2-c36e-4015-a18a-0bcfac22677d",
   "metadata": {},
   "source": [
    "^ This is just transposed"
   ]
  },
  {
   "cell_type": "code",
   "execution_count": 88,
   "id": "7f457085-91a1-4bd3-a0fc-b2310575948d",
   "metadata": {},
   "outputs": [
    {
     "data": {
      "text/plain": [
       "array([[-1.5928,  2.6477, -0.7921, ..., -5.4147, -1.7955, -3.4176],\n",
       "       [-1.4912,  3.1833, -0.3857, ..., -5.9054, -2.0518, -3.9084],\n",
       "       [-1.9131,  2.4385, -0.5308, ..., -5.8337, -1.7603, -3.7268],\n",
       "       [-1.498 ,  2.761 , -0.6012, ..., -5.5093, -1.8154, -3.7578],\n",
       "       [-1.8538,  3.2266, -0.4811, ..., -5.1514, -1.6286, -3.2996]],\n",
       "      dtype=float32)"
      ]
     },
     "execution_count": 88,
     "metadata": {},
     "output_type": "execute_result"
    }
   ],
   "source": [
    "np.round(aw[0, 0].detach().numpy() @ v[0].detach().numpy() @ O[:, :64].T, 4)"
   ]
  },
  {
   "cell_type": "markdown",
   "id": "701b1a76-27f7-40ab-a3b2-da922ecc68ad",
   "metadata": {},
   "source": [
    "Just working $V$ (the parameters) back in instead of $v$ (projected values)"
   ]
  },
  {
   "cell_type": "code",
   "execution_count": 93,
   "id": "e347ea91-a85f-4280-ab59-9ae499604a98",
   "metadata": {},
   "outputs": [],
   "source": [
    "aw_ = aw[0, 0].detach().numpy()\n",
    "dvs_ = dvs.detach().numpy()[0]"
   ]
  },
  {
   "cell_type": "code",
   "execution_count": 94,
   "id": "9608c929-8ea5-4e32-9f77-41087dd5e047",
   "metadata": {},
   "outputs": [
    {
     "data": {
      "text/plain": [
       "(5, 768)"
      ]
     },
     "execution_count": 94,
     "metadata": {},
     "output_type": "execute_result"
    }
   ],
   "source": [
    "dvs_.shape"
   ]
  },
  {
   "cell_type": "code",
   "execution_count": 105,
   "id": "d335d1bd-3afe-4c4e-b10c-1ce1433723a8",
   "metadata": {},
   "outputs": [
    {
     "data": {
      "text/plain": [
       "array([[-1.5928,  2.6477, -0.7921, ..., -5.4147, -1.7955, -3.4176],\n",
       "       [-1.4912,  3.1833, -0.3857, ..., -5.9054, -2.0518, -3.9084],\n",
       "       [-1.9131,  2.4385, -0.5308, ..., -5.8337, -1.7603, -3.7268],\n",
       "       [-1.498 ,  2.761 , -0.6012, ..., -5.5093, -1.8154, -3.7578],\n",
       "       [-1.8538,  3.2266, -0.4811, ..., -5.1514, -1.6286, -3.2996]],\n",
       "      dtype=float32)"
      ]
     },
     "execution_count": 105,
     "metadata": {},
     "output_type": "execute_result"
    }
   ],
   "source": [
    "np.round(aw_ @ dvs_ @ V[:64, :].T @ O[:, :64].T, 4)"
   ]
  },
  {
   "cell_type": "markdown",
   "id": "fcab500a-aec5-4108-b890-4e1a7ce6dccd",
   "metadata": {},
   "source": [
    ":tada: If we define:  \n",
    "$l$ = sequence length  \n",
    "$d$ = hidden/embedding dimension  \n",
    "`dvs_` = $x^T \\in \\mathbb{R}^{l \\times d}$  \n",
    "`O` = $O \\in \\mathbb{R}^{d \\times d}$ = O parameters for a layer  \n",
    "`V` = $V \\in \\mathbb{R}^{d \\times d}$ = V parameters for a layer  \n",
    "$O_i$ = $O$ parameters for head $i$\n",
    "$V_i$ = $V$ parameters for head $i$\n",
    "$A_i$ = attention matrix for head $i$  \n",
    "  \n",
    "then  \n",
    "$O_0 = O[:, :64]$,  \n",
    "$V_0 = V[:64, :]$,  \n",
    "and the output for head 0 is given by  \n",
    "$O[:, :64] V[:64, :] x A_0$"
   ]
  },
  {
   "cell_type": "code",
   "execution_count": 106,
   "id": "5efdc9aa-e779-47d6-817d-021e5f8696ec",
   "metadata": {},
   "outputs": [],
   "source": [
    "def headOV(O, V, i):\n",
    "    Oh = O[:, i*64:(i+1)*64]\n",
    "    Vh = V[i*64:(i+1)*64, :]\n",
    "    \n",
    "    if Oh.size == 0:\n",
    "        raise ValueError(f\"head {i} doesn't exist\")\n",
    "    \n",
    "    return Oh @ Vh"
   ]
  },
  {
   "cell_type": "code",
   "execution_count": 109,
   "id": "3442aec7-1706-49c3-96d6-81faa54d181a",
   "metadata": {},
   "outputs": [
    {
     "data": {
      "text/plain": [
       "array([[-1.5928,  2.6477, -0.7921, ..., -5.4147, -1.7955, -3.4176],\n",
       "       [-1.4912,  3.1833, -0.3857, ..., -5.9054, -2.0518, -3.9084],\n",
       "       [-1.9131,  2.4385, -0.5308, ..., -5.8337, -1.7603, -3.7268],\n",
       "       [-1.498 ,  2.761 , -0.6012, ..., -5.5093, -1.8154, -3.7578],\n",
       "       [-1.8538,  3.2266, -0.4811, ..., -5.1514, -1.6286, -3.2996]],\n",
       "      dtype=float32)"
      ]
     },
     "execution_count": 109,
     "metadata": {},
     "output_type": "execute_result"
    }
   ],
   "source": [
    "np.round(headOV(O, V, 0) @ dvs_.T @ aw_.T, 4).T"
   ]
  },
  {
   "cell_type": "markdown",
   "id": "07f99605-ab25-46b6-9a1d-4d03bdab3727",
   "metadata": {},
   "source": [
    "## Checking results for head 1"
   ]
  },
  {
   "cell_type": "code",
   "execution_count": 110,
   "id": "c3b049e3-44c9-4924-969b-bf68b44ad943",
   "metadata": {},
   "outputs": [
    {
     "data": {
      "text/plain": [
       "array([[ -4.4234, -12.9948,   2.612 , ...,   4.5413,  -5.7427,   4.2666],\n",
       "       [ -4.4408, -12.6069,   2.401 , ...,   4.2663,  -5.6007,   4.042 ],\n",
       "       [ -4.4266, -12.9238,   2.5734, ...,   4.4909,  -5.7167,   4.2255],\n",
       "       [ -4.4299, -12.8492,   2.5328, ...,   4.4381,  -5.6894,   4.1823],\n",
       "       [ -5.0052, -12.4906,   3.0329, ...,   3.6849,  -5.3873,   3.8877]],\n",
       "      dtype=float32)"
      ]
     },
     "execution_count": 110,
     "metadata": {},
     "output_type": "execute_result"
    }
   ],
   "source": [
    "# This should be the output for the *second* head\n",
    "np.round(O[:, 64:128] @ ao_.detach().numpy()[0, :, 64:128].T, 4).T"
   ]
  },
  {
   "cell_type": "code",
   "execution_count": 120,
   "id": "2418ec1a-acda-42a2-8c36-a277a5b3b824",
   "metadata": {},
   "outputs": [],
   "source": [
    "# attention weights given $W_{QK}$ above\n",
    "aw1_ = dvs_ @ headQK(Q, K, 1) @ dvs_.T\n",
    "aw1 = torch.nn.functional.softmax(\n",
    "    # raw weights with causal mask\n",
    "    torch.tensor(np.where(causal_mask == 1, aw1_, -1e9)),\n",
    "    dim=-1,\n",
    ").numpy()"
   ]
  },
  {
   "cell_type": "code",
   "execution_count": 122,
   "id": "0c2bc33a-1aa3-4daa-b491-f311468b5fbd",
   "metadata": {},
   "outputs": [
    {
     "data": {
      "text/plain": [
       "array([[ -4.4234, -12.9948,   2.612 , ...,   4.5413,  -5.7427,   4.2666],\n",
       "       [ -4.4408, -12.6069,   2.401 , ...,   4.2663,  -5.6007,   4.042 ],\n",
       "       [ -4.4266, -12.9238,   2.5734, ...,   4.491 ,  -5.7167,   4.2255],\n",
       "       [ -4.4299, -12.8492,   2.5329, ...,   4.4381,  -5.6894,   4.1823],\n",
       "       [ -5.0052, -12.4906,   3.0329, ...,   3.6849,  -5.3873,   3.8877]],\n",
       "      dtype=float32)"
      ]
     },
     "execution_count": 122,
     "metadata": {},
     "output_type": "execute_result"
    }
   ],
   "source": [
    "np.round(headOV(O, V, 1) @ dvs_.T @ aw1.T, 4).T"
   ]
  }
 ],
 "metadata": {
  "kernelspec": {
   "display_name": "Python (gpt-neo)",
   "language": "python",
   "name": "gpt-neo"
  },
  "language_info": {
   "codemirror_mode": {
    "name": "ipython",
    "version": 3
   },
   "file_extension": ".py",
   "mimetype": "text/x-python",
   "name": "python",
   "nbconvert_exporter": "python",
   "pygments_lexer": "ipython3",
   "version": "3.9.7"
  }
 },
 "nbformat": 4,
 "nbformat_minor": 5
}
