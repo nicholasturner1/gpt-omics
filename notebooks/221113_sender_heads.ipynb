{
 "cells": [
  {
   "cell_type": "markdown",
   "id": "ba9fe9e6-99e4-4b3a-93ac-c25eb5aa4102",
   "metadata": {},
   "source": [
    "# Trying to figure out what the large sender count heads are doing\n",
    "Some attention heads send a dominant proportion of the large K edges. What do they do?\n",
    "See 221102_combined_analysis (~cell 24) for where these heads live."
   ]
  },
  {
   "cell_type": "code",
   "execution_count": 1,
   "id": "d47f0d96-db4b-432d-a385-4e674c179933",
   "metadata": {},
   "outputs": [],
   "source": [
    "import torch\n",
    "import numpy as np\n",
    "import pandas as pd\n",
    "import matplotlib.pyplot as plt\n",
    "\n",
    "from gptomics import transformersio, torchio, plot\n",
    "from transformers import AutoTokenizer"
   ]
  },
  {
   "cell_type": "markdown",
   "id": "32b10537-ef3c-47f3-bdb8-dc96683eceb1",
   "metadata": {},
   "source": [
    "## First idea:\n",
    "It seems unlikely that these heads compose significantly since they're early. If that's true, they should mostly attend to combinations of tokens in the prompt. Let's try to find the tokens with the largest Q and K vectors (by L2 norm). This won't work reliably if positional information is more important, but position information seems unimportant since we don't see any activation beforehand anyway."
   ]
  },
  {
   "cell_type": "code",
   "execution_count": 2,
   "id": "1e967711-ac70-467d-9b7a-bb79587d546c",
   "metadata": {},
   "outputs": [],
   "source": [
    "tokenizer = AutoTokenizer.from_pretrained(\"EleutherAI/gpt-neo-2.7B\")"
   ]
  },
  {
   "cell_type": "code",
   "execution_count": 3,
   "id": "6c4bd20f-9c4c-4de9-be1c-4d32379524b9",
   "metadata": {},
   "outputs": [],
   "source": [
    "tensornames = torchio.read_tensor_names(\"/mnt/02E24FDEE24FD497/LLMs/gpt-neo-2.7B/pytorch_model.bin\")"
   ]
  },
  {
   "cell_type": "code",
   "execution_count": 4,
   "id": "101d184a-c01f-47e5-a195-1290cfcc297f",
   "metadata": {},
   "outputs": [
    {
     "data": {
      "text/plain": [
       "['transformer.wte.weight',\n",
       " 'transformer.wpe.weight',\n",
       " 'transformer.h.0.ln_1.weight',\n",
       " 'transformer.h.0.ln_1.bias',\n",
       " 'transformer.h.0.attn.attention.bias']"
      ]
     },
     "execution_count": 4,
     "metadata": {},
     "output_type": "execute_result"
    }
   ],
   "source": [
    "tensornames[:5]"
   ]
  },
  {
   "cell_type": "code",
   "execution_count": 5,
   "id": "00991adb-c1dc-4f75-9b45-9f8703df71d0",
   "metadata": {},
   "outputs": [],
   "source": [
    "head_dim = 2560 // 20"
   ]
  },
  {
   "cell_type": "code",
   "execution_count": 6,
   "id": "72e81de0-b6eb-4558-b7a4-5ad7824a0e9d",
   "metadata": {},
   "outputs": [],
   "source": [
    "embed = torchio.read_tensor(\"/mnt/02E24FDEE24FD497/LLMs/gpt-neo-2.7B/pytorch_model.bin\", \"transformer.wte.weight\")"
   ]
  },
  {
   "cell_type": "code",
   "execution_count": 7,
   "id": "16ca2b6a-21a0-4824-9418-62762ced7c55",
   "metadata": {},
   "outputs": [],
   "source": [
    "ln_w = torchio.read_tensor(\"/mnt/02E24FDEE24FD497/LLMs/gpt-neo-2.7B/pytorch_model.bin\", \"transformer.h.3.ln_1.weight\")"
   ]
  },
  {
   "cell_type": "code",
   "execution_count": 8,
   "id": "f7786558-f0d7-4f8e-9ec6-5f8496a3ea38",
   "metadata": {},
   "outputs": [
    {
     "data": {
      "text/plain": [
       "torch.Size([2560])"
      ]
     },
     "execution_count": 8,
     "metadata": {},
     "output_type": "execute_result"
    }
   ],
   "source": [
    "ln_w.shape"
   ]
  },
  {
   "cell_type": "code",
   "execution_count": 9,
   "id": "0208e58b-6d21-46ba-b24c-329c08c081da",
   "metadata": {},
   "outputs": [],
   "source": [
    "inputs = torch.diag(ln_w.ravel()) @ (embed - embed.mean(0)).T"
   ]
  },
  {
   "cell_type": "code",
   "execution_count": 10,
   "id": "e1a6b8eb-d5a9-4282-becf-e6ebe612e8b1",
   "metadata": {},
   "outputs": [],
   "source": [
    "Q = torchio.read_tensor(\"/mnt/02E24FDEE24FD497/LLMs/gpt-neo-2.7B/pytorch_model.bin\", \"transformer.h.3.attn.attention.q_proj.weight\")\n",
    "K = torchio.read_tensor(\"/mnt/02E24FDEE24FD497/LLMs/gpt-neo-2.7B/pytorch_model.bin\", \"transformer.h.3.attn.attention.k_proj.weight\")"
   ]
  },
  {
   "cell_type": "markdown",
   "id": "115fe698-de76-4071-a820-952c36c8112d",
   "metadata": {},
   "source": [
    "### Head 3, 14"
   ]
  },
  {
   "cell_type": "code",
   "execution_count": 36,
   "id": "adf61d2c-1caf-45ba-a9af-3a2b7dcece17",
   "metadata": {},
   "outputs": [],
   "source": [
    "head = 14\n",
    "Qh = Q[head * head_dim : (head + 1) * head_dim, :]\n",
    "Kh = K[head * head_dim : (head + 1) * head_dim, :]"
   ]
  },
  {
   "cell_type": "code",
   "execution_count": 37,
   "id": "c84fe6a9-52e2-458f-802f-fd3561f8dc70",
   "metadata": {},
   "outputs": [],
   "source": [
    "qs = Qh @ inputs\n",
    "ks = Kh @ inputs"
   ]
  },
  {
   "cell_type": "code",
   "execution_count": 38,
   "id": "5be7c150-93eb-4364-b05c-73d56a08ca0c",
   "metadata": {},
   "outputs": [],
   "source": [
    "qorder = torch.argsort(qs.norm(2, dim=0))\n",
    "korder = torch.argsort(ks.norm(2, dim=0))"
   ]
  },
  {
   "cell_type": "code",
   "execution_count": 39,
   "id": "13ee7954-5c53-4e9a-a992-191de955ca1e",
   "metadata": {},
   "outputs": [
    {
     "data": {
      "text/plain": [
       "tensor([21849, 38418, 22227, 33853, 40097,  8707, 12208, 31614, 30956, 19373])"
      ]
     },
     "execution_count": 39,
     "metadata": {},
     "output_type": "execute_result"
    }
   ],
   "source": [
    "qorder[-10:]"
   ]
  },
  {
   "cell_type": "code",
   "execution_count": 40,
   "id": "68831c4f-7de1-406b-a7cb-f5e1689ddd70",
   "metadata": {},
   "outputs": [
    {
     "data": {
      "text/plain": [
       "tensor([13618, 30956, 38195,  7678,  6976, 33853, 14472, 12731, 29027, 27038])"
      ]
     },
     "execution_count": 40,
     "metadata": {},
     "output_type": "execute_result"
    }
   ],
   "source": [
    "korder[-10:]"
   ]
  },
  {
   "cell_type": "code",
   "execution_count": 41,
   "id": "59c99ee7-8d4e-446b-9564-5f0a7386afb7",
   "metadata": {},
   "outputs": [
    {
     "data": {
      "text/plain": [
       "<BarContainer object of 20 artists>"
      ]
     },
     "execution_count": 41,
     "metadata": {},
     "output_type": "execute_result"
    },
    {
     "data": {
      "image/png": "[encoded data removed]",
      "text/plain": [
       "<Figure size 432x288 with 1 Axes>"
      ]
     },
     "metadata": {
      "needs_background": "light"
     },
     "output_type": "display_data"
    }
   ],
   "source": [
    "plt.bar(np.arange(20), qs.norm(2, dim=0)[qorder][-20:])"
   ]
  },
  {
   "cell_type": "code",
   "execution_count": 42,
   "id": "a189e9d7-4e74-4ae0-8251-d1ac928348a1",
   "metadata": {},
   "outputs": [
    {
     "data": {
      "text/plain": [
       "<BarContainer object of 20 artists>"
      ]
     },
     "execution_count": 42,
     "metadata": {},
     "output_type": "execute_result"
    },
    {
     "data": {
      "image/png": "[encoded data removed]",
      "text/plain": [
       "<Figure size 432x288 with 1 Axes>"
      ]
     },
     "metadata": {
      "needs_background": "light"
     },
     "output_type": "display_data"
    }
   ],
   "source": [
    "plt.bar(np.arange(20), ks.norm(2, dim=0)[korder][-20:])"
   ]
  },
  {
   "cell_type": "code",
   "execution_count": 43,
   "id": "71b0eb06-84c8-4f0a-ac11-8f76b87bae30",
   "metadata": {},
   "outputs": [
    {
     "data": {
      "text/plain": [
       "(50000.0, 50257.0)"
      ]
     },
     "execution_count": 43,
     "metadata": {},
     "output_type": "execute_result"
    },
    {
     "data": {
      "image/png": "[encoded data removed]",
      "text/plain": [
       "<Figure size 432x288 with 1 Axes>"
      ]
     },
     "metadata": {
      "needs_background": "light"
     },
     "output_type": "display_data"
    }
   ],
   "source": [
    "plt.plot(qs.norm(2, dim=0)[qorder])\n",
    "plt.xlim(50000, len(qorder))"
   ]
  },
  {
   "cell_type": "code",
   "execution_count": 44,
   "id": "ec66da26-9478-4dc3-9f00-5f919f594080",
   "metadata": {},
   "outputs": [
    {
     "data": {
      "text/plain": [
       "(50000.0, 50257.0)"
      ]
     },
     "execution_count": 44,
     "metadata": {},
     "output_type": "execute_result"
    },
    {
     "data": {
      "image/png": "[encoded data removed]",
      "text/plain": [
       "<Figure size 432x288 with 1 Axes>"
      ]
     },
     "metadata": {
      "needs_background": "light"
     },
     "output_type": "display_data"
    }
   ],
   "source": [
    "plt.plot(ks.norm(2, dim=0)[korder])\n",
    "plt.xlim(50000, len(korder))"
   ]
  },
  {
   "cell_type": "code",
   "execution_count": 45,
   "id": "8bbd211f-7036-42ca-a5ea-00fd54a18791",
   "metadata": {},
   "outputs": [
    {
     "data": {
      "text/plain": [
       "['Ġathlet',\n",
       " 'aretz',\n",
       " 'Ġmosquit',\n",
       " 'Ġmunicip',\n",
       " 'Ġlandfall',\n",
       " 'ĠRemastered',\n",
       " 'ĠJournals',\n",
       " 'Ġunpop',\n",
       " 'Ġsubdu',\n",
       " 'Ġtaxp',\n",
       " 'Ġtwent',\n",
       " 'âĢ¦)',\n",
       " 'Ġhurd',\n",
       " 'Ġfilib',\n",
       " 'Ġuphe',\n",
       " 'Ġunemploy',\n",
       " 'Ġtraged',\n",
       " 'geoning',\n",
       " 'Ġimpover',\n",
       " 'Ġadolesc']"
      ]
     },
     "execution_count": 45,
     "metadata": {},
     "output_type": "execute_result"
    }
   ],
   "source": [
    "tokenizer.convert_ids_to_tokens(qorder[-20:])"
   ]
  },
  {
   "cell_type": "code",
   "execution_count": 46,
   "id": "6517b66e-53f8-45f8-936e-e03645d7d3c5",
   "metadata": {},
   "outputs": [
    {
     "data": {
      "text/plain": [
       "['ĠPLoS',\n",
       " 'Ġtaxp',\n",
       " 'Ġresurg',\n",
       " 'ĠMedline',\n",
       " 'Ġanecd',\n",
       " 'Ġmiscon',\n",
       " 'Ġendors',\n",
       " 'Ġprosec',\n",
       " 'Ġ\"âĢ¦',\n",
       " 'Ġdefund',\n",
       " 'ĠReached',\n",
       " 'Ġimpover',\n",
       " 'ĠObamaCare',\n",
       " 'Ġoverwhel',\n",
       " 'Ġathlet',\n",
       " 'Ġfilib',\n",
       " 'Ġentert',\n",
       " 'Ġhorr',\n",
       " 'ĠAchieve',\n",
       " 'Ġdismant']"
      ]
     },
     "execution_count": 46,
     "metadata": {},
     "output_type": "execute_result"
    }
   ],
   "source": [
    "tokenizer.convert_ids_to_tokens(korder[-20:])"
   ]
  },
  {
   "cell_type": "markdown",
   "id": "e95d61d9-f174-44dd-9b24-e47c0e191439",
   "metadata": {},
   "source": [
    "### Head 3, 17"
   ]
  },
  {
   "cell_type": "code",
   "execution_count": 47,
   "id": "0476905f-51d7-469c-9759-189ff871e3cc",
   "metadata": {},
   "outputs": [],
   "source": [
    "head = 17\n",
    "Qh = Q[head * head_dim : (head + 1) * head_dim, :]\n",
    "Kh = K[head * head_dim : (head + 1) * head_dim, :]"
   ]
  },
  {
   "cell_type": "code",
   "execution_count": 48,
   "id": "cd22ef19-3f89-4aa3-9a8f-068be8cba62d",
   "metadata": {},
   "outputs": [],
   "source": [
    "qs = Qh @ inputs\n",
    "ks = Kh @ inputs"
   ]
  },
  {
   "cell_type": "code",
   "execution_count": 49,
   "id": "2ef18625-7b44-45ee-9f17-f8919d37324f",
   "metadata": {},
   "outputs": [],
   "source": [
    "qorder = torch.argsort(qs.norm(2, dim=0))\n",
    "korder = torch.argsort(ks.norm(2, dim=0))"
   ]
  },
  {
   "cell_type": "code",
   "execution_count": 50,
   "id": "22580ffc-e09f-4e26-865f-15d9e80e0ac9",
   "metadata": {},
   "outputs": [
    {
     "data": {
      "text/plain": [
       "tensor([31614, 41807, 22773, 50089, 34634, 41651, 38418,  5578, 12208, 48608])"
      ]
     },
     "execution_count": 50,
     "metadata": {},
     "output_type": "execute_result"
    }
   ],
   "source": [
    "qorder[-10:]"
   ]
  },
  {
   "cell_type": "code",
   "execution_count": 51,
   "id": "97922c77-209a-4c60-b51d-654a5e1972ad",
   "metadata": {},
   "outputs": [
    {
     "data": {
      "text/plain": [
       "tensor([42720, 29027,  4840, 12731,  6976, 27038,  5578, 22077, 33853,  7678])"
      ]
     },
     "execution_count": 51,
     "metadata": {},
     "output_type": "execute_result"
    }
   ],
   "source": [
    "korder[-10:]"
   ]
  },
  {
   "cell_type": "code",
   "execution_count": 52,
   "id": "652e9c57-f976-403c-9555-72689f72b1d4",
   "metadata": {},
   "outputs": [
    {
     "data": {
      "text/plain": [
       "<BarContainer object of 20 artists>"
      ]
     },
     "execution_count": 52,
     "metadata": {},
     "output_type": "execute_result"
    },
    {
     "data": {
      "image/png": "[encoded data removed]",
      "text/plain": [
       "<Figure size 432x288 with 1 Axes>"
      ]
     },
     "metadata": {
      "needs_background": "light"
     },
     "output_type": "display_data"
    }
   ],
   "source": [
    "plt.bar(np.arange(20), qs.norm(2, dim=0)[qorder][-20:])"
   ]
  },
  {
   "cell_type": "code",
   "execution_count": 53,
   "id": "fe5bf100-c08d-4658-af97-287f154cd64c",
   "metadata": {},
   "outputs": [
    {
     "data": {
      "text/plain": [
       "<BarContainer object of 20 artists>"
      ]
     },
     "execution_count": 53,
     "metadata": {},
     "output_type": "execute_result"
    },
    {
     "data": {
      "image/png": "[encoded data removed]",
      "text/plain": [
       "<Figure size 432x288 with 1 Axes>"
      ]
     },
     "metadata": {
      "needs_background": "light"
     },
     "output_type": "display_data"
    }
   ],
   "source": [
    "plt.bar(np.arange(20), ks.norm(2, dim=0)[korder][-20:])"
   ]
  },
  {
   "cell_type": "code",
   "execution_count": 54,
   "id": "2c3fb6b2-aba3-4eb9-84b1-5d716b6904f6",
   "metadata": {},
   "outputs": [
    {
     "data": {
      "text/plain": [
       "(50000.0, 50257.0)"
      ]
     },
     "execution_count": 54,
     "metadata": {},
     "output_type": "execute_result"
    },
    {
     "data": {
      "image/png": "[encoded data removed]",
      "text/plain": [
       "<Figure size 432x288 with 1 Axes>"
      ]
     },
     "metadata": {
      "needs_background": "light"
     },
     "output_type": "display_data"
    }
   ],
   "source": [
    "plt.plot(qs.norm(2, dim=0)[qorder])\n",
    "plt.xlim(50000, len(qorder))"
   ]
  },
  {
   "cell_type": "code",
   "execution_count": 55,
   "id": "8dfedaf9-ffd4-41ec-9fc2-821f278d9385",
   "metadata": {},
   "outputs": [
    {
     "data": {
      "text/plain": [
       "(50000.0, 50257.0)"
      ]
     },
     "execution_count": 55,
     "metadata": {},
     "output_type": "execute_result"
    },
    {
     "data": {
      "image/png": "[encoded data removed]",
      "text/plain": [
       "<Figure size 432x288 with 1 Axes>"
      ]
     },
     "metadata": {
      "needs_background": "light"
     },
     "output_type": "display_data"
    }
   ],
   "source": [
    "plt.plot(ks.norm(2, dim=0)[korder])\n",
    "plt.xlim(50000, len(korder))"
   ]
  },
  {
   "cell_type": "code",
   "execution_count": 56,
   "id": "38572e37-6da2-4564-ba32-944506366e46",
   "metadata": {},
   "outputs": [
    {
     "data": {
      "text/plain": [
       "['URA',\n",
       " 'ĠTee',\n",
       " 'ĠInvestor',\n",
       " 'Ġnuisance',\n",
       " 'incoln',\n",
       " 'Ġentert',\n",
       " 'RGB',\n",
       " 'aretz',\n",
       " 'Ń·',\n",
       " 'ĠWheels',\n",
       " 'geoning',\n",
       " 'leanor',\n",
       " 'ĠRemastered',\n",
       " 'Ġmarquee',\n",
       " 'oneliness',\n",
       " 'gart',\n",
       " 'âĢ¦)',\n",
       " 'Ġnegoti',\n",
       " 'Ġtraged',\n",
       " 'ĠJournals']"
      ]
     },
     "execution_count": 56,
     "metadata": {},
     "output_type": "execute_result"
    }
   ],
   "source": [
    "tokenizer.convert_ids_to_tokens(qorder[-20:])"
   ]
  },
  {
   "cell_type": "code",
   "execution_count": 57,
   "id": "474aa660-1017-4148-b8be-162508e168a1",
   "metadata": {},
   "outputs": [
    {
     "data": {
      "text/plain": [
       "['Ġnostalg',\n",
       " 'Ġthw',\n",
       " 'Ġimpover',\n",
       " 'Ġupgr',\n",
       " 'Ġtodd',\n",
       " 'Ġsubdu',\n",
       " 'udicrous',\n",
       " 'ĠâĢ¦\"',\n",
       " 'Ġdissatisf',\n",
       " 'Ġtwent',\n",
       " '!?\"',\n",
       " 'ĠAchieve',\n",
       " 'Ġlawy',\n",
       " 'Ġhorr',\n",
       " 'Ġathlet',\n",
       " 'Ġdismant',\n",
       " 'Ġnegoti',\n",
       " 'Ġanecd',\n",
       " 'Ġfilib',\n",
       " 'Ġoverwhel']"
      ]
     },
     "execution_count": 57,
     "metadata": {},
     "output_type": "execute_result"
    }
   ],
   "source": [
    "tokenizer.convert_ids_to_tokens(korder[-20:])"
   ]
  },
  {
   "cell_type": "markdown",
   "id": "74327ea0-dc06-4d0b-aae8-238e55554036",
   "metadata": {},
   "source": [
    "I'm not getting the clearest picture from this. Perhaps it's worth looking at the composition distributions to see if my assumption that they don't compose much is wrong."
   ]
  },
  {
   "cell_type": "code",
   "execution_count": 58,
   "id": "23bc664c-8c12-4756-a2cb-ca038a1a1e11",
   "metadata": {},
   "outputs": [],
   "source": [
    "compdf = pd.read_csv(\"../data/slurm/gpt-neo-2.7B_compositions_orig.csv.gz\", index_col=0, compression=\"gzip\")"
   ]
  },
  {
   "cell_type": "code",
   "execution_count": 59,
   "id": "04f4fef7-e53f-4dc7-b37f-720c29a971f3",
   "metadata": {},
   "outputs": [
    {
     "data": {
      "text/html": [
       "<div>\n",
       "<style scoped>\n",
       "    .dataframe tbody tr th:only-of-type {\n",
       "        vertical-align: middle;\n",
       "    }\n",
       "\n",
       "    .dataframe tbody tr th {\n",
       "        vertical-align: top;\n",
       "    }\n",
       "\n",
       "    .dataframe thead th {\n",
       "        text-align: right;\n",
       "    }\n",
       "</style>\n",
       "<table border=\"1\" class=\"dataframe\">\n",
       "  <thead>\n",
       "    <tr style=\"text-align: right;\">\n",
       "      <th></th>\n",
       "      <th>src_type</th>\n",
       "      <th>src_block</th>\n",
       "      <th>src_index</th>\n",
       "      <th>dst_type</th>\n",
       "      <th>dst_block</th>\n",
       "      <th>dst_index</th>\n",
       "      <th>term_type</th>\n",
       "      <th>term_value</th>\n",
       "    </tr>\n",
       "  </thead>\n",
       "  <tbody>\n",
       "    <tr>\n",
       "      <th>0</th>\n",
       "      <td>layernorm_bias</td>\n",
       "      <td>0</td>\n",
       "      <td>0</td>\n",
       "      <td>att_head</td>\n",
       "      <td>0</td>\n",
       "      <td>0</td>\n",
       "      <td>Q</td>\n",
       "      <td>0.054723</td>\n",
       "    </tr>\n",
       "    <tr>\n",
       "      <th>1</th>\n",
       "      <td>layernorm_bias</td>\n",
       "      <td>0</td>\n",
       "      <td>0</td>\n",
       "      <td>att_head</td>\n",
       "      <td>0</td>\n",
       "      <td>1</td>\n",
       "      <td>Q</td>\n",
       "      <td>0.035219</td>\n",
       "    </tr>\n",
       "    <tr>\n",
       "      <th>2</th>\n",
       "      <td>layernorm_bias</td>\n",
       "      <td>0</td>\n",
       "      <td>0</td>\n",
       "      <td>att_head</td>\n",
       "      <td>0</td>\n",
       "      <td>2</td>\n",
       "      <td>Q</td>\n",
       "      <td>0.059307</td>\n",
       "    </tr>\n",
       "    <tr>\n",
       "      <th>3</th>\n",
       "      <td>layernorm_bias</td>\n",
       "      <td>0</td>\n",
       "      <td>0</td>\n",
       "      <td>att_head</td>\n",
       "      <td>0</td>\n",
       "      <td>3</td>\n",
       "      <td>Q</td>\n",
       "      <td>0.056989</td>\n",
       "    </tr>\n",
       "    <tr>\n",
       "      <th>4</th>\n",
       "      <td>layernorm_bias</td>\n",
       "      <td>0</td>\n",
       "      <td>0</td>\n",
       "      <td>att_head</td>\n",
       "      <td>0</td>\n",
       "      <td>4</td>\n",
       "      <td>Q</td>\n",
       "      <td>0.049334</td>\n",
       "    </tr>\n",
       "  </tbody>\n",
       "</table>\n",
       "</div>"
      ],
      "text/plain": [
       "         src_type  src_block  src_index  dst_type  dst_block  dst_index  \\\n",
       "0  layernorm_bias          0          0  att_head          0          0   \n",
       "1  layernorm_bias          0          0  att_head          0          1   \n",
       "2  layernorm_bias          0          0  att_head          0          2   \n",
       "3  layernorm_bias          0          0  att_head          0          3   \n",
       "4  layernorm_bias          0          0  att_head          0          4   \n",
       "\n",
       "  term_type  term_value  \n",
       "0         Q    0.054723  \n",
       "1         Q    0.035219  \n",
       "2         Q    0.059307  \n",
       "3         Q    0.056989  \n",
       "4         Q    0.049334  "
      ]
     },
     "execution_count": 59,
     "metadata": {},
     "output_type": "execute_result"
    }
   ],
   "source": [
    "compdf.head()"
   ]
  },
  {
   "cell_type": "code",
   "execution_count": 63,
   "id": "760ba18d-dcd7-4b73-a859-20dffff2ce64",
   "metadata": {},
   "outputs": [
    {
     "data": {
      "image/png": "[encoded data removed]",
      "text/plain": [
       "<Figure size 1512x288 with 3 Axes>"
      ]
     },
     "metadata": {
      "needs_background": "light"
     },
     "output_type": "display_data"
    }
   ],
   "source": [
    "plt.figure(figsize=(21, 4))\n",
    "\n",
    "def plothist(df, block, index, term_type):\n",
    "    plt.hist(compdf[\"term_value\"][\n",
    "        (compdf.dst_block == block) &\n",
    "        (compdf.dst_index == index) &\n",
    "        (compdf.term_type == term_type)\n",
    "    ])\n",
    "    \n",
    "\n",
    "plt.subplot(1, 3, 1)\n",
    "plothist(compdf, 3, 14, \"Q\")\n",
    "\n",
    "plt.subplot(1, 3, 2)\n",
    "plothist(compdf, 3, 14, \"K\")\n",
    "\n",
    "plt.subplot(1, 3, 3)\n",
    "plothist(compdf, 3, 14, \"V\")\n",
    "\n",
    "plt.show()"
   ]
  },
  {
   "cell_type": "code",
   "execution_count": 66,
   "id": "325f591b-8d10-44fd-b0ed-47b69d1f27bf",
   "metadata": {},
   "outputs": [
    {
     "data": {
      "text/html": [
       "<div>\n",
       "<style scoped>\n",
       "    .dataframe tbody tr th:only-of-type {\n",
       "        vertical-align: middle;\n",
       "    }\n",
       "\n",
       "    .dataframe tbody tr th {\n",
       "        vertical-align: top;\n",
       "    }\n",
       "\n",
       "    .dataframe thead th {\n",
       "        text-align: right;\n",
       "    }\n",
       "</style>\n",
       "<table border=\"1\" class=\"dataframe\">\n",
       "  <thead>\n",
       "    <tr style=\"text-align: right;\">\n",
       "      <th></th>\n",
       "      <th>src_type</th>\n",
       "      <th>src_block</th>\n",
       "      <th>src_index</th>\n",
       "      <th>dst_type</th>\n",
       "      <th>dst_block</th>\n",
       "      <th>dst_index</th>\n",
       "      <th>term_type</th>\n",
       "      <th>term_value</th>\n",
       "    </tr>\n",
       "  </thead>\n",
       "  <tbody>\n",
       "    <tr>\n",
       "      <th>86763</th>\n",
       "      <td>att_head</td>\n",
       "      <td>2</td>\n",
       "      <td>15</td>\n",
       "      <td>att_head</td>\n",
       "      <td>3</td>\n",
       "      <td>14</td>\n",
       "      <td>K</td>\n",
       "      <td>0.105028</td>\n",
       "    </tr>\n",
       "    <tr>\n",
       "      <th>86783</th>\n",
       "      <td>att_head</td>\n",
       "      <td>2</td>\n",
       "      <td>15</td>\n",
       "      <td>att_head</td>\n",
       "      <td>3</td>\n",
       "      <td>14</td>\n",
       "      <td>V</td>\n",
       "      <td>0.199548</td>\n",
       "    </tr>\n",
       "    <tr>\n",
       "      <th>87163</th>\n",
       "      <td>mlp_bias</td>\n",
       "      <td>2</td>\n",
       "      <td>0</td>\n",
       "      <td>att_head</td>\n",
       "      <td>3</td>\n",
       "      <td>14</td>\n",
       "      <td>Q</td>\n",
       "      <td>0.175539</td>\n",
       "    </tr>\n",
       "    <tr>\n",
       "      <th>126530</th>\n",
       "      <td>layernorm_bias</td>\n",
       "      <td>3</td>\n",
       "      <td>0</td>\n",
       "      <td>att_head</td>\n",
       "      <td>3</td>\n",
       "      <td>14</td>\n",
       "      <td>Q</td>\n",
       "      <td>0.158283</td>\n",
       "    </tr>\n",
       "  </tbody>\n",
       "</table>\n",
       "</div>"
      ],
      "text/plain": [
       "              src_type  src_block  src_index  dst_type  dst_block  dst_index  \\\n",
       "86763         att_head          2         15  att_head          3         14   \n",
       "86783         att_head          2         15  att_head          3         14   \n",
       "87163         mlp_bias          2          0  att_head          3         14   \n",
       "126530  layernorm_bias          3          0  att_head          3         14   \n",
       "\n",
       "       term_type  term_value  \n",
       "86763          K    0.105028  \n",
       "86783          V    0.199548  \n",
       "87163          Q    0.175539  \n",
       "126530         Q    0.158283  "
      ]
     },
     "execution_count": 66,
     "metadata": {},
     "output_type": "execute_result"
    }
   ],
   "source": [
    "compdf[\n",
    "    (compdf.dst_block == 3) &\n",
    "    (compdf.dst_index == 14) &\n",
    "    (compdf.term_value > 0.1)\n",
    "]"
   ]
  },
  {
   "cell_type": "code",
   "execution_count": 64,
   "id": "a3293748-f781-4398-9b86-15aed246533f",
   "metadata": {},
   "outputs": [
    {
     "data": {
      "image/png": "[encoded data removed]",
      "text/plain": [
       "<Figure size 1512x288 with 3 Axes>"
      ]
     },
     "metadata": {
      "needs_background": "light"
     },
     "output_type": "display_data"
    }
   ],
   "source": [
    "plt.figure(figsize=(21, 4))\n",
    "    \n",
    "\n",
    "plt.subplot(1, 3, 1)\n",
    "plothist(compdf, 3, 17, \"Q\")\n",
    "\n",
    "plt.subplot(1, 3, 2)\n",
    "plothist(compdf, 3, 17, \"K\")\n",
    "\n",
    "plt.subplot(1, 3, 3)\n",
    "plothist(compdf, 3, 17, \"V\")\n",
    "\n",
    "plt.show()"
   ]
  },
  {
   "cell_type": "code",
   "execution_count": 67,
   "id": "53d9f4e8-6c50-4d73-95ad-1e79aa9ab006",
   "metadata": {},
   "outputs": [
    {
     "data": {
      "text/html": [
       "<div>\n",
       "<style scoped>\n",
       "    .dataframe tbody tr th:only-of-type {\n",
       "        vertical-align: middle;\n",
       "    }\n",
       "\n",
       "    .dataframe tbody tr th {\n",
       "        vertical-align: top;\n",
       "    }\n",
       "\n",
       "    .dataframe thead th {\n",
       "        text-align: right;\n",
       "    }\n",
       "</style>\n",
       "<table border=\"1\" class=\"dataframe\">\n",
       "  <thead>\n",
       "    <tr style=\"text-align: right;\">\n",
       "      <th></th>\n",
       "      <th>src_type</th>\n",
       "      <th>src_block</th>\n",
       "      <th>src_index</th>\n",
       "      <th>dst_type</th>\n",
       "      <th>dst_block</th>\n",
       "      <th>dst_index</th>\n",
       "      <th>term_type</th>\n",
       "      <th>term_value</th>\n",
       "    </tr>\n",
       "  </thead>\n",
       "  <tbody>\n",
       "    <tr>\n",
       "      <th>86786</th>\n",
       "      <td>att_head</td>\n",
       "      <td>2</td>\n",
       "      <td>15</td>\n",
       "      <td>att_head</td>\n",
       "      <td>3</td>\n",
       "      <td>17</td>\n",
       "      <td>V</td>\n",
       "      <td>0.122456</td>\n",
       "    </tr>\n",
       "    <tr>\n",
       "      <th>87166</th>\n",
       "      <td>mlp_bias</td>\n",
       "      <td>2</td>\n",
       "      <td>0</td>\n",
       "      <td>att_head</td>\n",
       "      <td>3</td>\n",
       "      <td>17</td>\n",
       "      <td>Q</td>\n",
       "      <td>0.234123</td>\n",
       "    </tr>\n",
       "    <tr>\n",
       "      <th>126533</th>\n",
       "      <td>layernorm_bias</td>\n",
       "      <td>3</td>\n",
       "      <td>0</td>\n",
       "      <td>att_head</td>\n",
       "      <td>3</td>\n",
       "      <td>17</td>\n",
       "      <td>Q</td>\n",
       "      <td>0.181144</td>\n",
       "    </tr>\n",
       "  </tbody>\n",
       "</table>\n",
       "</div>"
      ],
      "text/plain": [
       "              src_type  src_block  src_index  dst_type  dst_block  dst_index  \\\n",
       "86786         att_head          2         15  att_head          3         17   \n",
       "87166         mlp_bias          2          0  att_head          3         17   \n",
       "126533  layernorm_bias          3          0  att_head          3         17   \n",
       "\n",
       "       term_type  term_value  \n",
       "86786          V    0.122456  \n",
       "87166          Q    0.234123  \n",
       "126533         Q    0.181144  "
      ]
     },
     "execution_count": 67,
     "metadata": {},
     "output_type": "execute_result"
    }
   ],
   "source": [
    "compdf[\n",
    "    (compdf.dst_block == 3) &\n",
    "    (compdf.dst_index == 17) &\n",
    "    (compdf.term_value > 0.1)\n",
    "]"
   ]
  },
  {
   "cell_type": "markdown",
   "id": "72ab2fcd-3189-4c35-aba0-0315fec6dcaf",
   "metadata": {},
   "source": [
    "It looks like the Qs have pretty high compositions in both cases (with biases)"
   ]
  },
  {
   "cell_type": "code",
   "execution_count": 72,
   "id": "a7890f52-cd5b-4db8-b9c4-da198efe9a75",
   "metadata": {},
   "outputs": [
    {
     "data": {
      "text/plain": [
       "0.10420830883923536"
      ]
     },
     "execution_count": 72,
     "metadata": {},
     "output_type": "execute_result"
    }
   ],
   "source": [
    "np.percentile(compdf.term_value, 99.9)"
   ]
  }
 ],
 "metadata": {
  "kernelspec": {
   "display_name": "Python (gpt-neo)",
   "language": "python",
   "name": "gpt-neo"
  },
  "language_info": {
   "codemirror_mode": {
    "name": "ipython",
    "version": 3
   },
   "file_extension": ".py",
   "mimetype": "text/x-python",
   "name": "python",
   "nbconvert_exporter": "python",
   "pygments_lexer": "ipython3",
   "version": "3.9.7"
  }
 },
 "nbformat": 4,
 "nbformat_minor": 5
}
