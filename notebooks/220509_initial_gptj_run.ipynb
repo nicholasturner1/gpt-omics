{
 "cells": [
  {
   "cell_type": "code",
   "execution_count": 1,
   "id": "cd76a4ba-af0a-442a-9b2c-a757c9e1539c",
   "metadata": {},
   "outputs": [],
   "source": [
    "from importlib import reload\n",
    "\n",
    "import numpy as np\n",
    "import pandas as pd\n",
    "import matplotlib.pyplot as plt\n",
    "\n",
    "from gptomics import plot, model, composition as comp"
   ]
  },
  {
   "cell_type": "code",
   "execution_count": 2,
   "id": "8c7309b4-a1cc-4958-a354-b8ebf4706cb9",
   "metadata": {},
   "outputs": [],
   "source": [
    "df = pd.read_csv(\"../data/220508_gpt-j-compositions.csv\", index_col=0)"
   ]
  },
  {
   "cell_type": "code",
   "execution_count": 3,
   "id": "5fffa038-1c07-414c-a71e-a1946c85d5bc",
   "metadata": {},
   "outputs": [
    {
     "data": {
      "text/html": [
       "<div>\n",
       "<style scoped>\n",
       "    .dataframe tbody tr th:only-of-type {\n",
       "        vertical-align: middle;\n",
       "    }\n",
       "\n",
       "    .dataframe tbody tr th {\n",
       "        vertical-align: top;\n",
       "    }\n",
       "\n",
       "    .dataframe thead th {\n",
       "        text-align: right;\n",
       "    }\n",
       "</style>\n",
       "<table border=\"1\" class=\"dataframe\">\n",
       "  <thead>\n",
       "    <tr style=\"text-align: right;\">\n",
       "      <th></th>\n",
       "      <th>src_type</th>\n",
       "      <th>src_layer</th>\n",
       "      <th>src_index</th>\n",
       "      <th>dst_type</th>\n",
       "      <th>dst_layer</th>\n",
       "      <th>dst_index</th>\n",
       "      <th>term_type</th>\n",
       "      <th>term_value</th>\n",
       "    </tr>\n",
       "  </thead>\n",
       "  <tbody>\n",
       "    <tr>\n",
       "      <th>0</th>\n",
       "      <td>layernorm_bias</td>\n",
       "      <td>0</td>\n",
       "      <td>0</td>\n",
       "      <td>att_head</td>\n",
       "      <td>0</td>\n",
       "      <td>0</td>\n",
       "      <td>Q</td>\n",
       "      <td>0.010643</td>\n",
       "    </tr>\n",
       "    <tr>\n",
       "      <th>1</th>\n",
       "      <td>layernorm_bias</td>\n",
       "      <td>0</td>\n",
       "      <td>0</td>\n",
       "      <td>att_head</td>\n",
       "      <td>0</td>\n",
       "      <td>1</td>\n",
       "      <td>Q</td>\n",
       "      <td>0.017541</td>\n",
       "    </tr>\n",
       "    <tr>\n",
       "      <th>2</th>\n",
       "      <td>layernorm_bias</td>\n",
       "      <td>0</td>\n",
       "      <td>0</td>\n",
       "      <td>att_head</td>\n",
       "      <td>0</td>\n",
       "      <td>2</td>\n",
       "      <td>Q</td>\n",
       "      <td>0.017403</td>\n",
       "    </tr>\n",
       "    <tr>\n",
       "      <th>3</th>\n",
       "      <td>layernorm_bias</td>\n",
       "      <td>0</td>\n",
       "      <td>0</td>\n",
       "      <td>att_head</td>\n",
       "      <td>0</td>\n",
       "      <td>3</td>\n",
       "      <td>Q</td>\n",
       "      <td>0.023598</td>\n",
       "    </tr>\n",
       "    <tr>\n",
       "      <th>4</th>\n",
       "      <td>layernorm_bias</td>\n",
       "      <td>0</td>\n",
       "      <td>0</td>\n",
       "      <td>att_head</td>\n",
       "      <td>0</td>\n",
       "      <td>4</td>\n",
       "      <td>Q</td>\n",
       "      <td>0.014652</td>\n",
       "    </tr>\n",
       "  </tbody>\n",
       "</table>\n",
       "</div>"
      ],
      "text/plain": [
       "         src_type  src_layer  src_index  dst_type  dst_layer  dst_index  \\\n",
       "0  layernorm_bias          0          0  att_head          0          0   \n",
       "1  layernorm_bias          0          0  att_head          0          1   \n",
       "2  layernorm_bias          0          0  att_head          0          2   \n",
       "3  layernorm_bias          0          0  att_head          0          3   \n",
       "4  layernorm_bias          0          0  att_head          0          4   \n",
       "\n",
       "  term_type  term_value  \n",
       "0         Q    0.010643  \n",
       "1         Q    0.017541  \n",
       "2         Q    0.017403  \n",
       "3         Q    0.023598  \n",
       "4         Q    0.014652  "
      ]
     },
     "execution_count": 3,
     "metadata": {},
     "output_type": "execute_result"
    }
   ],
   "source": [
    "df.head()"
   ]
  },
  {
   "cell_type": "markdown",
   "id": "f3847084-f3b2-4fad-a629-4282d85e901d",
   "metadata": {},
   "source": [
    "# Spot checking values"
   ]
  },
  {
   "cell_type": "code",
   "execution_count": 4,
   "id": "9edc48c4-90b5-4987-a576-81880b45fb66",
   "metadata": {},
   "outputs": [],
   "source": [
    "gptj = model.model_by_name(\"GPTJ\")"
   ]
  },
  {
   "cell_type": "markdown",
   "id": "501c6fd1-f98e-4d1a-909c-d865b491ce51",
   "metadata": {},
   "source": [
    "### Max value"
   ]
  },
  {
   "cell_type": "code",
   "execution_count": 5,
   "id": "0b169cfd-f101-459f-b978-7e251f3067ed",
   "metadata": {},
   "outputs": [
    {
     "data": {
      "text/html": [
       "<div>\n",
       "<style scoped>\n",
       "    .dataframe tbody tr th:only-of-type {\n",
       "        vertical-align: middle;\n",
       "    }\n",
       "\n",
       "    .dataframe tbody tr th {\n",
       "        vertical-align: top;\n",
       "    }\n",
       "\n",
       "    .dataframe thead th {\n",
       "        text-align: right;\n",
       "    }\n",
       "</style>\n",
       "<table border=\"1\" class=\"dataframe\">\n",
       "  <thead>\n",
       "    <tr style=\"text-align: right;\">\n",
       "      <th></th>\n",
       "      <th>src_type</th>\n",
       "      <th>src_layer</th>\n",
       "      <th>src_index</th>\n",
       "      <th>dst_type</th>\n",
       "      <th>dst_layer</th>\n",
       "      <th>dst_index</th>\n",
       "      <th>term_type</th>\n",
       "      <th>term_value</th>\n",
       "    </tr>\n",
       "  </thead>\n",
       "  <tbody>\n",
       "    <tr>\n",
       "      <th>22097</th>\n",
       "      <td>layernorm_bias</td>\n",
       "      <td>1</td>\n",
       "      <td>0</td>\n",
       "      <td>att_head</td>\n",
       "      <td>1</td>\n",
       "      <td>1</td>\n",
       "      <td>K</td>\n",
       "      <td>0.099647</td>\n",
       "    </tr>\n",
       "  </tbody>\n",
       "</table>\n",
       "</div>"
      ],
      "text/plain": [
       "             src_type  src_layer  src_index  dst_type  dst_layer  dst_index  \\\n",
       "22097  layernorm_bias          1          0  att_head          1          1   \n",
       "\n",
       "      term_type  term_value  \n",
       "22097         K    0.099647  "
      ]
     },
     "execution_count": 5,
     "metadata": {},
     "output_type": "execute_result"
    }
   ],
   "source": [
    "df[df.term_value == df.term_value.max()]"
   ]
  },
  {
   "cell_type": "markdown",
   "id": "861c5023-57de-4531-8974-319b659ee46d",
   "metadata": {},
   "source": [
    "#### Using the same SVD method"
   ]
  },
  {
   "cell_type": "code",
   "execution_count": 6,
   "id": "188451d7-3eea-4f20-bfd4-c022d1176100",
   "metadata": {},
   "outputs": [],
   "source": [
    "bias = gptj.layernorm_biases(1)"
   ]
  },
  {
   "cell_type": "code",
   "execution_count": 7,
   "id": "aa31d0a8-cec8-4ba5-b169-ea9acb2cdfe2",
   "metadata": {},
   "outputs": [],
   "source": [
    "qk = gptj.QK(1, 1)"
   ]
  },
  {
   "cell_type": "code",
   "execution_count": 8,
   "id": "aac635d6-90cd-4882-915d-6770a08a64f7",
   "metadata": {},
   "outputs": [],
   "source": [
    "product = qk @ bias"
   ]
  },
  {
   "cell_type": "code",
   "execution_count": 9,
   "id": "52bef5b9-723a-419a-b17c-72ed71c65f79",
   "metadata": {},
   "outputs": [
    {
     "data": {
      "text/plain": [
       "0.099647336"
      ]
     },
     "execution_count": 9,
     "metadata": {},
     "output_type": "execute_result"
    }
   ],
   "source": [
    "(np.linalg.norm(product.S)\n",
    " / (np.linalg.norm(qk.S) * np.linalg.norm(bias.S)))"
   ]
  },
  {
   "cell_type": "markdown",
   "id": "a5cacd24-0e51-4abf-83e6-5bc27f188e3e",
   "metadata": {},
   "source": [
    "#### Using the full matrices"
   ]
  },
  {
   "cell_type": "code",
   "execution_count": 10,
   "id": "b392b033-35b0-437d-9702-6d1c8363dcc7",
   "metadata": {},
   "outputs": [],
   "source": [
    "bias = gptj.layernorm_biases(1, factored=False)"
   ]
  },
  {
   "cell_type": "code",
   "execution_count": 11,
   "id": "7690a787-20be-47bb-9e97-2ce96c39bfd2",
   "metadata": {},
   "outputs": [],
   "source": [
    "qk = gptj.QK(1, 1, factored=False)"
   ]
  },
  {
   "cell_type": "code",
   "execution_count": 12,
   "id": "c4bb9859-34d1-4cb5-bbd1-0e5d1be3771a",
   "metadata": {},
   "outputs": [
    {
     "data": {
      "text/plain": [
       "0.09964855"
      ]
     },
     "execution_count": 12,
     "metadata": {},
     "output_type": "execute_result"
    }
   ],
   "source": [
    "product = qk @ bias\n",
    "(comp.frobnorm(product)\n",
    " / (comp.frobnorm(qk) * comp.frobnorm(bias)))"
   ]
  },
  {
   "cell_type": "markdown",
   "id": "3ebed9aa-6af4-4eef-ba0e-aa300d170304",
   "metadata": {},
   "source": [
    "Cool"
   ]
  },
  {
   "cell_type": "markdown",
   "id": "2eec4a8d-90e7-470a-8879-57c220fe5df3",
   "metadata": {},
   "source": [
    "### Min value"
   ]
  },
  {
   "cell_type": "code",
   "execution_count": 13,
   "id": "c7014d56-d539-4932-ac62-75d2dc2ca771",
   "metadata": {},
   "outputs": [
    {
     "data": {
      "text/html": [
       "<div>\n",
       "<style scoped>\n",
       "    .dataframe tbody tr th:only-of-type {\n",
       "        vertical-align: middle;\n",
       "    }\n",
       "\n",
       "    .dataframe tbody tr th {\n",
       "        vertical-align: top;\n",
       "    }\n",
       "\n",
       "    .dataframe thead th {\n",
       "        text-align: right;\n",
       "    }\n",
       "</style>\n",
       "<table border=\"1\" class=\"dataframe\">\n",
       "  <thead>\n",
       "    <tr style=\"text-align: right;\">\n",
       "      <th></th>\n",
       "      <th>src_type</th>\n",
       "      <th>src_layer</th>\n",
       "      <th>src_index</th>\n",
       "      <th>dst_type</th>\n",
       "      <th>dst_layer</th>\n",
       "      <th>dst_index</th>\n",
       "      <th>term_type</th>\n",
       "      <th>term_value</th>\n",
       "    </tr>\n",
       "  </thead>\n",
       "  <tbody>\n",
       "    <tr>\n",
       "      <th>42</th>\n",
       "      <td>layernorm_bias</td>\n",
       "      <td>0</td>\n",
       "      <td>0</td>\n",
       "      <td>att_head</td>\n",
       "      <td>0</td>\n",
       "      <td>10</td>\n",
       "      <td>V</td>\n",
       "      <td>0.005694</td>\n",
       "    </tr>\n",
       "  </tbody>\n",
       "</table>\n",
       "</div>"
      ],
      "text/plain": [
       "          src_type  src_layer  src_index  dst_type  dst_layer  dst_index  \\\n",
       "42  layernorm_bias          0          0  att_head          0         10   \n",
       "\n",
       "   term_type  term_value  \n",
       "42         V    0.005694  "
      ]
     },
     "execution_count": 13,
     "metadata": {},
     "output_type": "execute_result"
    }
   ],
   "source": [
    "df[df.term_value == df.term_value.min()]"
   ]
  },
  {
   "cell_type": "markdown",
   "id": "d81af335-6207-4f89-a2b5-391cda7764ce",
   "metadata": {},
   "source": [
    "#### Using the same SVD method"
   ]
  },
  {
   "cell_type": "code",
   "execution_count": 14,
   "id": "9f992c41-4cb5-4d8c-87b9-c8b8498a159d",
   "metadata": {},
   "outputs": [],
   "source": [
    "bias = gptj.layernorm_biases(0)"
   ]
  },
  {
   "cell_type": "code",
   "execution_count": 15,
   "id": "b3ceb07c-45e9-4dc5-949d-bca2f3e6c324",
   "metadata": {},
   "outputs": [],
   "source": [
    "ov = gptj.OV(0, 10)"
   ]
  },
  {
   "cell_type": "code",
   "execution_count": 16,
   "id": "7a390551-7b2b-4255-b42f-e89ecc8ecf2f",
   "metadata": {},
   "outputs": [
    {
     "data": {
      "text/plain": [
       "0.005694169"
      ]
     },
     "execution_count": 16,
     "metadata": {},
     "output_type": "execute_result"
    }
   ],
   "source": [
    "(np.linalg.norm((ov @ bias).S)\n",
    " / (np.linalg.norm(ov.S) * np.linalg.norm(bias.S)))"
   ]
  },
  {
   "cell_type": "markdown",
   "id": "e814cc4e-94d5-48d2-b23e-a9aaa7d19a56",
   "metadata": {},
   "source": [
    "#### Using the full matrices"
   ]
  },
  {
   "cell_type": "code",
   "execution_count": 17,
   "id": "42a814b5-4a6f-4ab4-a952-41318cbb5717",
   "metadata": {},
   "outputs": [],
   "source": [
    "bias = gptj.layernorm_biases(0, factored=False)"
   ]
  },
  {
   "cell_type": "code",
   "execution_count": 18,
   "id": "bd5755eb-3cb2-4119-9be6-0d9812cbdc84",
   "metadata": {},
   "outputs": [],
   "source": [
    "ov = gptj.OV(0, 10, factored=False)"
   ]
  },
  {
   "cell_type": "code",
   "execution_count": 19,
   "id": "8cf5200c-0a36-4a1b-b9bd-62285c69b961",
   "metadata": {},
   "outputs": [
    {
     "data": {
      "text/plain": [
       "0.005694231"
      ]
     },
     "execution_count": 19,
     "metadata": {},
     "output_type": "execute_result"
    }
   ],
   "source": [
    "product = ov @ bias\n",
    "(comp.frobnorm(product)\n",
    " / (comp.frobnorm(ov) * comp.frobnorm(bias)))"
   ]
  },
  {
   "cell_type": "markdown",
   "id": "760b3796-0532-439c-a7ae-dc22089bdfe8",
   "metadata": {},
   "source": [
    "# Plot basic distributions"
   ]
  },
  {
   "cell_type": "code",
   "execution_count": 20,
   "id": "089815e8-e694-4a93-91b7-a7701d6de23f",
   "metadata": {},
   "outputs": [],
   "source": [
    "fs=fontsize=20"
   ]
  },
  {
   "cell_type": "code",
   "execution_count": 21,
   "id": "a55c851c-867c-447a-961e-4e5a84794d5a",
   "metadata": {},
   "outputs": [
    {
     "data": {
      "image/png": "[encoded data removed]",
      "text/plain": [
       "<Figure size 1008x432 with 2 Axes>"
      ]
     },
     "metadata": {
      "needs_background": "light"
     },
     "output_type": "display_data"
    }
   ],
   "source": [
    "fig = plt.figure(figsize=(14, 6))\n",
    "fig.suptitle(\"Full distribution\", fontsize=fs+5)\n",
    "\n",
    "plt.subplot(1, 2, 1)\n",
    "plt.hist(df.term_value, bins=50, color='k')\n",
    "\n",
    "plt.xlabel(\"Composition value\", fontsize=fs)\n",
    "plt.ylabel(\"Count\", fontsize=fs)\n",
    "\n",
    "plt.subplot(1, 2, 2)\n",
    "plt.hist(df.term_value, bins=50, color='k')\n",
    "\n",
    "plt.xlabel(\"Composition value\", fontsize=fs)\n",
    "plt.ylabel(\"Count (log scale)\", fontsize=fs)\n",
    "plt.yscale(\"log\")\n",
    "plt.show()"
   ]
  },
  {
   "cell_type": "code",
   "execution_count": 22,
   "id": "bb78195f-0567-43f6-9e1d-052cb08fd32c",
   "metadata": {},
   "outputs": [],
   "source": [
    "def logspace_bins(values, bins=10):\n",
    "    minval, maxval = np.log(np.min(values)), np.log(np.max(values))\n",
    "    \n",
    "    return np.exp(np.linspace(minval, maxval, bins))"
   ]
  },
  {
   "cell_type": "code",
   "execution_count": 23,
   "id": "2f49dd66-efbe-43a1-a141-a70182821ba9",
   "metadata": {},
   "outputs": [],
   "source": [
    "attdf = df[(df.src_type == \"att_head\") &\n",
    "           (df.dst_type == \"att_head\")]"
   ]
  },
  {
   "cell_type": "code",
   "execution_count": 24,
   "id": "c5daea16-2c84-4ab1-800a-3210011cdee8",
   "metadata": {},
   "outputs": [
    {
     "data": {
      "image/png": "[encoded data removed]",
      "text/plain": [
       "<Figure size 1008x432 with 2 Axes>"
      ]
     },
     "metadata": {
      "needs_background": "light"
     },
     "output_type": "display_data"
    }
   ],
   "source": [
    "fig = plt.figure(figsize=(14, 6))\n",
    "fig.suptitle(\"Att->Att terms only\", fontsize=fs+5)\n",
    "\n",
    "plt.subplot(1, 2, 1)\n",
    "plt.hist(attdf.term_value, bins=50, color='k')\n",
    "\n",
    "plt.xlabel(\"Composition value\", fontsize=fs)\n",
    "plt.ylabel(\"Count\", fontsize=fs)\n",
    "\n",
    "plt.subplot(1, 2, 2)\n",
    "plt.hist(attdf.term_value, bins=50, color='k')\n",
    "\n",
    "plt.xlabel(\"Composition value\", fontsize=fs)\n",
    "plt.ylabel(\"Count (log scale)\", fontsize=fs)\n",
    "plt.yscale(\"log\")\n",
    "plt.show()"
   ]
  },
  {
   "cell_type": "markdown",
   "id": "407af834-65fd-4d0d-83dc-4b180040cafe",
   "metadata": {},
   "source": [
    "# Analyze values by types"
   ]
  },
  {
   "cell_type": "code",
   "execution_count": 25,
   "id": "3cdc0e8c-acbb-4b56-ba7d-caefd934b6af",
   "metadata": {},
   "outputs": [
    {
     "data": {
      "image/png": "[encoded data removed]",
      "text/plain": [
       "<Figure size 504x432 with 1 Axes>"
      ]
     },
     "metadata": {
      "needs_background": "light"
     },
     "output_type": "display_data"
    }
   ],
   "source": [
    "plt.figure(figsize=(7, 6))\n",
    "\n",
    "plot.percentiles_by_type(\n",
    "    attdf,\n",
    "    \"term_type\",\n",
    "    types=[\"Q\", \"K\", \"V\"],\n",
    "    colors=[plot.COLORS[0], plot.COLORS[3], plot.COLORS[7]]\n",
    ")\n",
    "plt.show()"
   ]
  },
  {
   "cell_type": "code",
   "execution_count": 26,
   "id": "281591a8-79bb-40ff-aa86-2fd528c650c6",
   "metadata": {},
   "outputs": [
    {
     "name": "stderr",
     "output_type": "stream",
     "text": [
      "/tmp/ipykernel_10544/4083385093.py:1: SettingWithCopyWarning: \n",
      "A value is trying to be set on a copy of a slice from a DataFrame.\n",
      "Try using .loc[row_indexer,col_indexer] = value instead\n",
      "\n",
      "See the caveats in the documentation: https://pandas.pydata.org/pandas-docs/stable/user_guide/indexing.html#returning-a-view-versus-a-copy\n",
      "  attdf[\"layergroup\"] = attdf[\"dst_layer\"] // 4\n"
     ]
    }
   ],
   "source": [
    "attdf[\"layergroup\"] = attdf[\"dst_layer\"] // 4"
   ]
  },
  {
   "cell_type": "code",
   "execution_count": 27,
   "id": "dde16a40-e31d-42ea-905b-99431914db0c",
   "metadata": {},
   "outputs": [],
   "source": [
    "colors = plot.COLORS * 3"
   ]
  },
  {
   "cell_type": "code",
   "execution_count": 28,
   "id": "8963de37-f4af-4a94-8a53-f25e90757ef9",
   "metadata": {},
   "outputs": [
    {
     "data": {
      "image/png": "[encoded data removed]",
      "text/plain": [
       "<Figure size 504x432 with 1 Axes>"
      ]
     },
     "metadata": {
      "needs_background": "light"
     },
     "output_type": "display_data"
    }
   ],
   "source": [
    "plt.figure(figsize=(7, 6))\n",
    "\n",
    "plot.percentiles_by_type(\n",
    "    attdf,\n",
    "    \"dst_layer\",\n",
    "    colors=colors,\n",
    "    legend=False,\n",
    ")\n",
    "plt.show()"
   ]
  },
  {
   "cell_type": "code",
   "execution_count": 29,
   "id": "2f3154f4-1326-4207-9eed-635a6a60ce95",
   "metadata": {},
   "outputs": [
    {
     "data": {
      "image/png": "[encoded data removed]",
      "text/plain": [
       "<Figure size 504x432 with 1 Axes>"
      ]
     },
     "metadata": {
      "needs_background": "light"
     },
     "output_type": "display_data"
    }
   ],
   "source": [
    "plt.figure(figsize=(7, 6))\n",
    "\n",
    "plot.percentiles_by_type(\n",
    "    attdf,\n",
    "    \"src_layer\",\n",
    "    colors=colors,\n",
    "    legend=False,\n",
    ")\n",
    "plt.show()"
   ]
  },
  {
   "cell_type": "code",
   "execution_count": 30,
   "id": "270d75f3-8ec2-4683-b58e-c905c374dbc1",
   "metadata": {},
   "outputs": [
    {
     "data": {
      "text/plain": [
       "src_type\n",
       "att_head          0.937093\n",
       "layernorm_bias    0.062907\n",
       "Name: term_value, dtype: float64"
      ]
     },
     "execution_count": 30,
     "metadata": {},
     "output_type": "execute_result"
    }
   ],
   "source": [
    "df.groupby(\"src_type\").count()[\"term_value\"] / df.shape[0]"
   ]
  },
  {
   "cell_type": "code",
   "execution_count": 31,
   "id": "1edaaa3a-8d2b-4038-af3a-18c3b32d6393",
   "metadata": {},
   "outputs": [
    {
     "data": {
      "image/png": "[encoded data removed]",
      "text/plain": [
       "<Figure size 504x432 with 1 Axes>"
      ]
     },
     "metadata": {
      "needs_background": "light"
     },
     "output_type": "display_data"
    }
   ],
   "source": [
    "plt.figure(figsize=(7, 6))\n",
    "\n",
    "plot.percentiles_by_type(\n",
    "    df,\n",
    "    \"src_type\",\n",
    "    colors=['k', colors[3]],\n",
    ")\n",
    "plt.show()"
   ]
  },
  {
   "cell_type": "markdown",
   "id": "4ee1c9c5-b5c8-4677-b0ad-a00dbf5110ee",
   "metadata": {},
   "source": [
    "# Looking into layer norm terms"
   ]
  },
  {
   "cell_type": "code",
   "execution_count": 32,
   "id": "4a32bfb4-e252-446a-b030-35df624e47a6",
   "metadata": {},
   "outputs": [],
   "source": [
    "df[\"overall_5p_grp\"] = plot.compute_percentile_bins(df, nbins=20)"
   ]
  },
  {
   "cell_type": "code",
   "execution_count": 33,
   "id": "0aa2161f-1d53-4306-a447-705dbe85dd61",
   "metadata": {},
   "outputs": [],
   "source": [
    "percs = np.percentile(df.term_value, np.arange(21) * 5)"
   ]
  },
  {
   "cell_type": "code",
   "execution_count": 34,
   "id": "9c7a6624-410d-450f-b45c-f1d75dbae4aa",
   "metadata": {},
   "outputs": [
    {
     "data": {
      "text/plain": [
       "0.02451042175"
      ]
     },
     "execution_count": 34,
     "metadata": {},
     "output_type": "execute_result"
    }
   ],
   "source": [
    "percs[-2]"
   ]
  },
  {
   "cell_type": "code",
   "execution_count": 35,
   "id": "88fae201-1a53-46cd-af6b-675b80657158",
   "metadata": {},
   "outputs": [],
   "source": [
    "lndf = df[df.src_type == \"layernorm_bias\"]"
   ]
  },
  {
   "cell_type": "code",
   "execution_count": 36,
   "id": "c93e6012-a8cb-4859-8d56-0a4989119dbe",
   "metadata": {},
   "outputs": [
    {
     "data": {
      "text/html": [
       "<div>\n",
       "<style scoped>\n",
       "    .dataframe tbody tr th:only-of-type {\n",
       "        vertical-align: middle;\n",
       "    }\n",
       "\n",
       "    .dataframe tbody tr th {\n",
       "        vertical-align: top;\n",
       "    }\n",
       "\n",
       "    .dataframe thead th {\n",
       "        text-align: right;\n",
       "    }\n",
       "</style>\n",
       "<table border=\"1\" class=\"dataframe\">\n",
       "  <thead>\n",
       "    <tr style=\"text-align: right;\">\n",
       "      <th></th>\n",
       "      <th>src_type</th>\n",
       "      <th>src_layer</th>\n",
       "      <th>src_index</th>\n",
       "      <th>dst_type</th>\n",
       "      <th>dst_layer</th>\n",
       "      <th>dst_index</th>\n",
       "      <th>term_type</th>\n",
       "      <th>term_value</th>\n",
       "      <th>overall_5p_grp</th>\n",
       "    </tr>\n",
       "  </thead>\n",
       "  <tbody>\n",
       "    <tr>\n",
       "      <th>8</th>\n",
       "      <td>layernorm_bias</td>\n",
       "      <td>0</td>\n",
       "      <td>0</td>\n",
       "      <td>att_head</td>\n",
       "      <td>0</td>\n",
       "      <td>8</td>\n",
       "      <td>Q</td>\n",
       "      <td>0.032444</td>\n",
       "      <td>20</td>\n",
       "    </tr>\n",
       "    <tr>\n",
       "      <th>11</th>\n",
       "      <td>layernorm_bias</td>\n",
       "      <td>0</td>\n",
       "      <td>0</td>\n",
       "      <td>att_head</td>\n",
       "      <td>0</td>\n",
       "      <td>11</td>\n",
       "      <td>Q</td>\n",
       "      <td>0.035814</td>\n",
       "      <td>20</td>\n",
       "    </tr>\n",
       "    <tr>\n",
       "      <th>17</th>\n",
       "      <td>layernorm_bias</td>\n",
       "      <td>0</td>\n",
       "      <td>0</td>\n",
       "      <td>att_head</td>\n",
       "      <td>0</td>\n",
       "      <td>1</td>\n",
       "      <td>K</td>\n",
       "      <td>0.028804</td>\n",
       "      <td>20</td>\n",
       "    </tr>\n",
       "    <tr>\n",
       "      <th>18</th>\n",
       "      <td>layernorm_bias</td>\n",
       "      <td>0</td>\n",
       "      <td>0</td>\n",
       "      <td>att_head</td>\n",
       "      <td>0</td>\n",
       "      <td>2</td>\n",
       "      <td>K</td>\n",
       "      <td>0.031719</td>\n",
       "      <td>20</td>\n",
       "    </tr>\n",
       "    <tr>\n",
       "      <th>19</th>\n",
       "      <td>layernorm_bias</td>\n",
       "      <td>0</td>\n",
       "      <td>0</td>\n",
       "      <td>att_head</td>\n",
       "      <td>0</td>\n",
       "      <td>3</td>\n",
       "      <td>K</td>\n",
       "      <td>0.031364</td>\n",
       "      <td>20</td>\n",
       "    </tr>\n",
       "    <tr>\n",
       "      <th>...</th>\n",
       "      <td>...</td>\n",
       "      <td>...</td>\n",
       "      <td>...</td>\n",
       "      <td>...</td>\n",
       "      <td>...</td>\n",
       "      <td>...</td>\n",
       "      <td>...</td>\n",
       "      <td>...</td>\n",
       "      <td>...</td>\n",
       "    </tr>\n",
       "    <tr>\n",
       "      <th>309774</th>\n",
       "      <td>layernorm_bias</td>\n",
       "      <td>27</td>\n",
       "      <td>0</td>\n",
       "      <td>att_head</td>\n",
       "      <td>27</td>\n",
       "      <td>14</td>\n",
       "      <td>K</td>\n",
       "      <td>0.031322</td>\n",
       "      <td>20</td>\n",
       "    </tr>\n",
       "    <tr>\n",
       "      <th>309775</th>\n",
       "      <td>layernorm_bias</td>\n",
       "      <td>27</td>\n",
       "      <td>0</td>\n",
       "      <td>att_head</td>\n",
       "      <td>27</td>\n",
       "      <td>15</td>\n",
       "      <td>K</td>\n",
       "      <td>0.027735</td>\n",
       "      <td>20</td>\n",
       "    </tr>\n",
       "    <tr>\n",
       "      <th>309782</th>\n",
       "      <td>layernorm_bias</td>\n",
       "      <td>27</td>\n",
       "      <td>0</td>\n",
       "      <td>att_head</td>\n",
       "      <td>27</td>\n",
       "      <td>6</td>\n",
       "      <td>V</td>\n",
       "      <td>0.024962</td>\n",
       "      <td>20</td>\n",
       "    </tr>\n",
       "    <tr>\n",
       "      <th>309789</th>\n",
       "      <td>layernorm_bias</td>\n",
       "      <td>27</td>\n",
       "      <td>0</td>\n",
       "      <td>att_head</td>\n",
       "      <td>27</td>\n",
       "      <td>13</td>\n",
       "      <td>V</td>\n",
       "      <td>0.045260</td>\n",
       "      <td>20</td>\n",
       "    </tr>\n",
       "    <tr>\n",
       "      <th>309790</th>\n",
       "      <td>layernorm_bias</td>\n",
       "      <td>27</td>\n",
       "      <td>0</td>\n",
       "      <td>att_head</td>\n",
       "      <td>27</td>\n",
       "      <td>14</td>\n",
       "      <td>V</td>\n",
       "      <td>0.026932</td>\n",
       "      <td>20</td>\n",
       "    </tr>\n",
       "  </tbody>\n",
       "</table>\n",
       "<p>6161 rows × 9 columns</p>\n",
       "</div>"
      ],
      "text/plain": [
       "              src_type  src_layer  src_index  dst_type  dst_layer  dst_index  \\\n",
       "8       layernorm_bias          0          0  att_head          0          8   \n",
       "11      layernorm_bias          0          0  att_head          0         11   \n",
       "17      layernorm_bias          0          0  att_head          0          1   \n",
       "18      layernorm_bias          0          0  att_head          0          2   \n",
       "19      layernorm_bias          0          0  att_head          0          3   \n",
       "...                ...        ...        ...       ...        ...        ...   \n",
       "309774  layernorm_bias         27          0  att_head         27         14   \n",
       "309775  layernorm_bias         27          0  att_head         27         15   \n",
       "309782  layernorm_bias         27          0  att_head         27          6   \n",
       "309789  layernorm_bias         27          0  att_head         27         13   \n",
       "309790  layernorm_bias         27          0  att_head         27         14   \n",
       "\n",
       "       term_type  term_value  overall_5p_grp  \n",
       "8              Q    0.032444              20  \n",
       "11             Q    0.035814              20  \n",
       "17             K    0.028804              20  \n",
       "18             K    0.031719              20  \n",
       "19             K    0.031364              20  \n",
       "...          ...         ...             ...  \n",
       "309774         K    0.031322              20  \n",
       "309775         K    0.027735              20  \n",
       "309782         V    0.024962              20  \n",
       "309789         V    0.045260              20  \n",
       "309790         V    0.026932              20  \n",
       "\n",
       "[6161 rows x 9 columns]"
      ]
     },
     "execution_count": 36,
     "metadata": {},
     "output_type": "execute_result"
    }
   ],
   "source": [
    "lndf[lndf.overall_5p_grp == 20]"
   ]
  },
  {
   "cell_type": "markdown",
   "id": "6c1bf61a-e602-4115-ab1c-5ef86ac12527",
   "metadata": {},
   "source": [
    "Prob that a term with `src_layer == dst_layer` is in the top group"
   ]
  },
  {
   "cell_type": "code",
   "execution_count": 37,
   "id": "590ccbe3-507c-4d20-9c30-2fcc17acbcc0",
   "metadata": {},
   "outputs": [
    {
     "data": {
      "text/plain": [
       "0.45982142857142855"
      ]
     },
     "execution_count": 37,
     "metadata": {},
     "output_type": "execute_result"
    }
   ],
   "source": [
    "np.mean(lndf.overall_5p_grp[lndf.src_layer == lndf.dst_layer] == 20)"
   ]
  },
  {
   "cell_type": "markdown",
   "id": "004c4fb7-cc3d-43ec-b065-553416dd9eed",
   "metadata": {},
   "source": [
    "Prob that a term with `src_layer != dst_layer` is in the top group"
   ]
  },
  {
   "cell_type": "code",
   "execution_count": 38,
   "id": "2ab01f54-0570-4376-92a1-4918bde20d85",
   "metadata": {},
   "outputs": [
    {
     "data": {
      "text/plain": [
       "0.3055004409171076"
      ]
     },
     "execution_count": 38,
     "metadata": {},
     "output_type": "execute_result"
    }
   ],
   "source": [
    "np.mean(lndf.overall_5p_grp[lndf.src_layer != lndf.dst_layer] == 20)"
   ]
  },
  {
   "cell_type": "markdown",
   "id": "ec215b70-141b-42e3-9211-ca9f70505168",
   "metadata": {},
   "source": [
    "Prob that a term with in the top group has `src_layer == dst_layer`"
   ]
  },
  {
   "cell_type": "code",
   "execution_count": 39,
   "id": "8e4e7374-1cba-491b-9f7e-31b667b38bb2",
   "metadata": {},
   "outputs": [],
   "source": [
    "topgroup = lndf[lndf.overall_5p_grp == 20]\n",
    "diffs = topgroup.dst_layer - topgroup.src_layer"
   ]
  },
  {
   "cell_type": "code",
   "execution_count": 40,
   "id": "7dd0e035-b77f-438e-9a90-47bf2b4bad9b",
   "metadata": {},
   "outputs": [
    {
     "data": {
      "image/png": "[encoded data removed]",
      "text/plain": [
       "<Figure size 504x432 with 1 Axes>"
      ]
     },
     "metadata": {
      "needs_background": "light"
     },
     "output_type": "display_data"
    }
   ],
   "source": [
    "plt.figure(figsize=(7, 6))\n",
    "\n",
    "plt.hist(diffs, bins=np.arange(28), color='k')\n",
    "\n",
    "plt.xlabel(\"Layer distance\", fontsize=fs)\n",
    "plt.ylabel(\"Count\", fontsize=fs)\n",
    "plt.xlim(0, 28)\n",
    "plt.title(\"Top LN term distance to layer\", fontsize=fs)\n",
    "\n",
    "plt.show()"
   ]
  },
  {
   "cell_type": "markdown",
   "id": "0ea09e30-8319-459c-85ea-a92af7ba48ea",
   "metadata": {},
   "source": [
    "### Same plot for attention heads"
   ]
  },
  {
   "cell_type": "code",
   "execution_count": 41,
   "id": "c7ea4d17-029b-4980-b065-c12a00dce932",
   "metadata": {},
   "outputs": [],
   "source": [
    "attdf = df[df.src_type == \"att_head\"]"
   ]
  },
  {
   "cell_type": "code",
   "execution_count": 42,
   "id": "3b6cad18-6e4f-4d2e-89bf-f2300082e150",
   "metadata": {},
   "outputs": [
    {
     "data": {
      "text/plain": [
       "0.02451042175"
      ]
     },
     "execution_count": 42,
     "metadata": {},
     "output_type": "execute_result"
    }
   ],
   "source": [
    "percs[-2]"
   ]
  },
  {
   "cell_type": "code",
   "execution_count": 43,
   "id": "7e7270bc-dfa7-4e21-b5fb-01ca879e47ff",
   "metadata": {},
   "outputs": [
    {
     "data": {
      "text/plain": [
       "<module 'gptomics.plot' from '/home/nt/Work/research/gpt-omics/gptomics/plot.py'>"
      ]
     },
     "execution_count": 43,
     "metadata": {},
     "output_type": "execute_result"
    }
   ],
   "source": [
    "reload(plot)"
   ]
  },
  {
   "cell_type": "code",
   "execution_count": 44,
   "id": "789c707c-6f8e-43fd-9187-5cfe6e4f6e2f",
   "metadata": {},
   "outputs": [
    {
     "data": {
      "text/plain": [
       "<AxesSubplot:xlabel='Layer distance', ylabel='Count'>"
      ]
     },
     "execution_count": 44,
     "metadata": {},
     "output_type": "execute_result"
    },
    {
     "data": {
      "image/png": "[encoded data removed]",
      "text/plain": [
       "<Figure size 432x288 with 1 Axes>"
      ]
     },
     "metadata": {
      "needs_background": "light"
     },
     "output_type": "display_data"
    }
   ],
   "source": [
    "plot.plot_grp_layerdist_hist(attdf)"
   ]
  },
  {
   "cell_type": "code",
   "execution_count": 45,
   "id": "9d4a0f91-1d56-48dc-a398-8f60f41acb8c",
   "metadata": {},
   "outputs": [
    {
     "data": {
      "text/plain": [
       "<AxesSubplot:xlabel='Layer distance', ylabel='Count'>"
      ]
     },
     "execution_count": 45,
     "metadata": {},
     "output_type": "execute_result"
    },
    {
     "data": {
      "image/png": "[encoded data removed]",
      "text/plain": [
       "<Figure size 432x288 with 1 Axes>"
      ]
     },
     "metadata": {
      "needs_background": "light"
     },
     "output_type": "display_data"
    }
   ],
   "source": [
    "plot.plot_layerdists(attdf)"
   ]
  },
  {
   "cell_type": "code",
   "execution_count": 46,
   "id": "188debfc-f1f0-4ce3-8183-0328cf08713f",
   "metadata": {},
   "outputs": [
    {
     "data": {
      "text/plain": [
       "<AxesSubplot:xlabel='Layer distance', ylabel='Count'>"
      ]
     },
     "execution_count": 46,
     "metadata": {},
     "output_type": "execute_result"
    },
    {
     "data": {
      "image/png": "[encoded data removed]",
      "text/plain": [
       "<Figure size 432x288 with 1 Axes>"
      ]
     },
     "metadata": {
      "needs_background": "light"
     },
     "output_type": "display_data"
    }
   ],
   "source": [
    "plot.plot_layerdists(df)"
   ]
  },
  {
   "cell_type": "code",
   "execution_count": 47,
   "id": "94683d13-6c2f-4a48-8cc9-65a4b1a5a3f7",
   "metadata": {},
   "outputs": [
    {
     "data": {
      "image/png": "[encoded data removed]",
      "text/plain": [
       "<Figure size 432x288 with 1 Axes>"
      ]
     },
     "metadata": {
      "needs_background": "light"
     },
     "output_type": "display_data"
    }
   ],
   "source": [
    "plt.hist(df.src_layer, bins=np.arange(29), color='k')\n",
    "plt.xlabel(\"Source layer\", fontsize=20)\n",
    "plt.ylabel(\"Count\", fontsize=20)\n",
    "plt.show()"
   ]
  },
  {
   "cell_type": "code",
   "execution_count": 48,
   "id": "a9eadf2d-c08d-404d-97af-85dcc774f62c",
   "metadata": {},
   "outputs": [
    {
     "data": {
      "image/png": "[encoded data removed]",
      "text/plain": [
       "<Figure size 432x288 with 1 Axes>"
      ]
     },
     "metadata": {
      "needs_background": "light"
     },
     "output_type": "display_data"
    }
   ],
   "source": [
    "plt.hist(df.dst_layer, bins=np.arange(29), color='k')\n",
    "plt.xlabel(\"Dest layer\", fontsize=20)\n",
    "plt.ylabel(\"Count\", fontsize=20)\n",
    "plt.show()"
   ]
  },
  {
   "cell_type": "code",
   "execution_count": 49,
   "id": "cb3485da-76d6-40ea-bbde-01cc1afeb9c3",
   "metadata": {},
   "outputs": [
    {
     "data": {
      "image/png": "[encoded data removed]",
      "text/plain": [
       "<Figure size 504x432 with 1 Axes>"
      ]
     },
     "metadata": {
      "needs_background": "light"
     },
     "output_type": "display_data"
    }
   ],
   "source": [
    "topgroup = attdf[attdf.overall_5p_grp == 20]\n",
    "diffs = topgroup.dst_layer - topgroup.src_layer\n",
    "\n",
    "plt.figure(figsize=(7, 6))\n",
    "\n",
    "plt.hist(diffs, bins=np.arange(28), color='k')\n",
    "\n",
    "plt.xlabel(\"Layer distance\", fontsize=fs)\n",
    "plt.ylabel(\"Count\", fontsize=fs)\n",
    "plt.xlim(0, 28)\n",
    "plt.title(\"Top AH term distance to layer\", fontsize=fs)\n",
    "\n",
    "plt.show()"
   ]
  }
 ],
 "metadata": {
  "kernelspec": {
   "display_name": "Python (gpt-neo)",
   "language": "python",
   "name": "gpt-neo"
  },
  "language_info": {
   "codemirror_mode": {
    "name": "ipython",
    "version": 3
   },
   "file_extension": ".py",
   "mimetype": "text/x-python",
   "name": "python",
   "nbconvert_exporter": "python",
   "pygments_lexer": "ipython3",
   "version": "3.9.7"
  }
 },
 "nbformat": 4,
 "nbformat_minor": 5
}
